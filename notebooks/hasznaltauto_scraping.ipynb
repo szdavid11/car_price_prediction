{
 "cells": [
  {
   "cell_type": "code",
   "execution_count": 6,
   "id": "c1934b3a-eade-49dc-8d85-937930ef136c",
   "metadata": {},
   "outputs": [],
   "source": [
    "import requests\n",
    "from bs4 import BeautifulSoup\n",
    "import pandas as pd\n",
    "import re\n",
    "import pickle\n",
    "from selenium import webdriver\n",
    "import time\n",
    "import numpy as np\n",
    "import ast\n",
    "from datetime import datetime\n",
    "from multiprocessing import Pool"
   ]
  },
  {
   "cell_type": "code",
   "execution_count": 3,
   "id": "0acd9951-ba47-4f4c-a814-aa8ca9d703f9",
   "metadata": {},
   "outputs": [
    {
     "data": {
      "text/html": [
       "<div>\n",
       "<style scoped>\n",
       "    .dataframe tbody tr th:only-of-type {\n",
       "        vertical-align: middle;\n",
       "    }\n",
       "\n",
       "    .dataframe tbody tr th {\n",
       "        vertical-align: top;\n",
       "    }\n",
       "\n",
       "    .dataframe thead th {\n",
       "        text-align: right;\n",
       "    }\n",
       "</style>\n",
       "<table border=\"1\" class=\"dataframe\">\n",
       "  <thead>\n",
       "    <tr style=\"text-align: right;\">\n",
       "      <th></th>\n",
       "      <th>car_links</th>\n",
       "    </tr>\n",
       "  </thead>\n",
       "  <tbody>\n",
       "    <tr>\n",
       "      <th>0</th>\n",
       "      <td>https://www.hasznaltauto.hu/szemelyauto/volksw...</td>\n",
       "    </tr>\n",
       "    <tr>\n",
       "      <th>1</th>\n",
       "      <td>https://www.hasznaltauto.hu/szemelyauto/citroe...</td>\n",
       "    </tr>\n",
       "    <tr>\n",
       "      <th>2</th>\n",
       "      <td>https://www.hasznaltauto.hu/szemelyauto/merced...</td>\n",
       "    </tr>\n",
       "    <tr>\n",
       "      <th>3</th>\n",
       "      <td>https://www.hasznaltauto.hu/szemelyauto/dacia/...</td>\n",
       "    </tr>\n",
       "    <tr>\n",
       "      <th>4</th>\n",
       "      <td>https://www.hasznaltauto.hu/szemelyauto/merced...</td>\n",
       "    </tr>\n",
       "  </tbody>\n",
       "</table>\n",
       "</div>"
      ],
      "text/plain": [
       "                                           car_links\n",
       "0  https://www.hasznaltauto.hu/szemelyauto/volksw...\n",
       "1  https://www.hasznaltauto.hu/szemelyauto/citroe...\n",
       "2  https://www.hasznaltauto.hu/szemelyauto/merced...\n",
       "3  https://www.hasznaltauto.hu/szemelyauto/dacia/...\n",
       "4  https://www.hasznaltauto.hu/szemelyauto/merced..."
      ]
     },
     "execution_count": 3,
     "metadata": {},
     "output_type": "execute_result"
    }
   ],
   "source": [
    "df = pd.read_csv('../data/car_links.csv')\n",
    "df.head()"
   ]
  },
  {
   "cell_type": "code",
   "execution_count": 8,
   "id": "6b3df492-dc9f-4733-a246-4392ccfa29bd",
   "metadata": {},
   "outputs": [],
   "source": [
    "df[\"collected_at\"] = '2023-06-26 12:00:00'"
   ]
  },
  {
   "cell_type": "code",
   "execution_count": 10,
   "id": "6530ec56-bb8d-45fd-88af-fec5ba5eadd9",
   "metadata": {},
   "outputs": [
    {
     "name": "stderr",
     "output_type": "stream",
     "text": [
      "/var/folders/6p/rn1y8jlj4q5fp4y6jrn3qslc0000gn/T/ipykernel_15320/3596822670.py:1: FutureWarning: The default value of regex will change from True to False in a future version.\n",
      "  df['car_links'] = df['car_links'].str.replace(\"#sid.*\", \"\")\n"
     ]
    }
   ],
   "source": [
    "df['car_links'] = df['car_links'].str.replace(\"#sid.*\", \"\")"
   ]
  },
  {
   "cell_type": "code",
   "execution_count": 16,
   "id": "5742c1bf-d7bf-41c1-995c-ff2d2bdf6154",
   "metadata": {},
   "outputs": [],
   "source": [
    "df.to_csv('../data/car_links.csv', index=False)"
   ]
  },
  {
   "cell_type": "code",
   "execution_count": 7,
   "id": "0552f6e1-7d96-4dab-a3e2-bd6e0fa84f23",
   "metadata": {},
   "outputs": [
    {
     "data": {
      "text/plain": [
       "'2023-07-02 13:22:46'"
      ]
     },
     "execution_count": 7,
     "metadata": {},
     "output_type": "execute_result"
    }
   ],
   "source": [
    "str(datetime.today())[:19]"
   ]
  },
  {
   "cell_type": "code",
   "execution_count": 5,
   "id": "584a4c19-e153-4179-84f1-807becb9fb14",
   "metadata": {},
   "outputs": [
    {
     "data": {
      "text/plain": [
       "'https://www.hasznaltauto.hu/talalatilista/PCOG2VG3R3RDADH5S56ADN4Z3EEY7O2CQO2EEI5NGSXZLINGQROIZEVUDJAPZ6Z2NVQZVCVHLLDY47L4OJJJB43XPEGXEOUTIJB4JCV4QIGTMYWJ3BKIU4CBRPTAY5NECZNEQAJGF7OPJ6CB7EJCHBQGJIEBPMO4ZJE57JDB3CAC7LDSVHEUICRRZ3APOMHTEIC5NPWIZZWZ4JOSWHDXZHXKYDCOECG62ZWR6KNG5X3U3CQKHS4J2AVDYKJYEWO2CQGLSJZZT24ULD7GQCI3F5FE7W7EXQP4FCUIQMIW64YWGWLIAXDQRRZ3Z2F646IDCZVF2UUPJUP5QYHBEF4F7FVX6EMGUE2DEIYGPHUTR3FK74JF7QHH575DDQF7IQIW76QW7VAOIOTNZZ7B5TEX3KISPM5DHHV4VNBSJ62XQX4OTSKSKTSNMZMXPZWU67NNG6MVJLEFBIV57HKRVZNCSE6RO4TZRHAFV6QVA7MLEQOJK2GMAPQZFKCOOU4KEGPZAQNRMHTCF3GAGHAIUNK4GF3B7IRL5VR5HM3UM3OH43FVFGP3TBL43LQHO6DOVUIXRSARGRNRAT4SFL5KWN3LXNUS2MXJ5JLY23C7GFGPXN4JDYSFC67YRZMNAO7LGA52BJ663Y4YLCPMXXYFO5QBXEJO3CWBM7UWVQGQNTCQL2BFKNDIF6SBG2NOXK3AFJ4XNQQ4FUGDLRGCCXBUXNOA74OXOSO3IV67THQRSRMDHITEXBACWYDLEQ3JQ2U5TNCORXQIR5UUMZT53WUXS4OHTUPEZ3GTBR2KMA4I3CBW4TUEBHVKEH7NN7KJ7DUQ2UNWXQ3MUZVLUZPQCT2DO7DFB3GJK5QOZAHHVUJZTLP5Q53LKRJXEB57WD3X72QGI/page'"
      ]
     },
     "execution_count": 5,
     "metadata": {},
     "output_type": "execute_result"
    }
   ],
   "source": [
    "BASE_URL = 'https://www.hasznaltauto.hu/talalatilista/PCOG2VG3R3RDADH5S56ADN4Z3EEY7O2CQO2EEI5NGSXZLINGQROIZEVUDJAPZ6Z2NVQZVCVHLLDY47L4OJJJB43XPEGXEOUTIJB4JCV4QIGTMYWJ3BKIU4CBRPTAY5NECZNEQAJGF7OPJ6CB7EJCHBQGJIEBPMO4ZJE57JDB3CAC7LDSVHEUICRRZ3APOMHTEIC5NPWIZZWZ4JOSWHDXZHXKYDCOECG62ZWR6KNG5X3U3CQKHS4J2AVDYKJYEWO2CQGLSJZZT24ULD7GQCI3F5FE7W7EXQP4FCUIQMIW64YWGWLIAXDQRRZ3Z2F646IDCZVF2UUPJUP5QYHBEF4F7FVX6EMGUE2DEIYGPHUTR3FK74JF7QHH575DDQF7IQIW76QW7VAOIOTNZZ7B5TEX3KISPM5DHHV4VNBSJ62XQX4OTSKSKTSNMZMXPZWU67NNG6MVJLEFBIV57HKRVZNCSE6RO4TZRHAFV6QVA7MLEQOJK2GMAPQZFKCOOU4KEGPZAQNRMHTCF3GAGHAIUNK4GF3B7IRL5VR5HM3UM3OH43FVFGP3TBL43LQHO6DOVUIXRSARGRNRAT4SFL5KWN3LXNUS2MXJ5JLY23C7GFGPXN4JDYSFC67YRZMNAO7LGA52BJ663Y4YLCPMXXYFO5QBXEJO3CWBM7UWVQGQNTCQL2BFKNDIF6SBG2NOXK3AFJ4XNQQ4FUGDLRGCCXBUXNOA74OXOSO3IV67THQRSRMDHITEXBACWYDLEQ3JQ2U5TNCORXQIR5UUMZT53WUXS4OHTUPEZ3GTBR2KMA4I3CBW4TUEBHVKEH7NN7KJ7DUQ2UNWXQ3MUZVLUZPQCT2DO7DFB3GJK5QOZAHHVUJZTLP5Q53LKRJXEB57WD3X72QGI/page'\n"
   ]
  },
  {
   "cell_type": "code",
   "execution_count": 6,
   "id": "89598429-c9c5-4627-9cd3-6f0f17fd2f70",
   "metadata": {},
   "outputs": [],
   "source": [
    "def get_links(page_number):\n",
    "    url = BASE_URL+str(page_number)\n",
    "    response = requests.get(url)\n",
    "    soup = BeautifulSoup(response.content, 'html.parser')\n",
    "    matches = soup.find_all('a', {'class':''})\n",
    "    \n",
    "    # Extract the hrefs from matches\n",
    "    hrefs = pd.Series([match['href'] for match in matches if match.has_attr('href')])\n",
    "    \n",
    "    # Keep only those that a like for an car\n",
    "    hrefs = hrefs[hrefs.str.contains('www.hasznaltauto.hu/szemelyauto', regex=False)].to_list()\n",
    "    \n",
    "    return hrefs\n"
   ]
  },
  {
   "cell_type": "code",
   "execution_count": 7,
   "id": "4870718e-ab04-433b-a60e-0a5850d7cf5d",
   "metadata": {},
   "outputs": [],
   "source": [
    "# Scrape all the links for cars from hasznaltauto.hu\n",
    "# all_hrefs = [get_links(x) for x in range(1,296)]\n"
   ]
  },
  {
   "cell_type": "code",
   "execution_count": 5,
   "id": "4d9126a4-46df-4fcb-9dcd-c20ce5482353",
   "metadata": {
    "tags": []
   },
   "outputs": [
    {
     "data": {
      "text/html": [
       "<div>\n",
       "<style scoped>\n",
       "    .dataframe tbody tr th:only-of-type {\n",
       "        vertical-align: middle;\n",
       "    }\n",
       "\n",
       "    .dataframe tbody tr th {\n",
       "        vertical-align: top;\n",
       "    }\n",
       "\n",
       "    .dataframe thead th {\n",
       "        text-align: right;\n",
       "    }\n",
       "</style>\n",
       "<table border=\"1\" class=\"dataframe\">\n",
       "  <thead>\n",
       "    <tr style=\"text-align: right;\">\n",
       "      <th></th>\n",
       "      <th>car_links</th>\n",
       "    </tr>\n",
       "  </thead>\n",
       "  <tbody>\n",
       "    <tr>\n",
       "      <th>0</th>\n",
       "      <td>https://www.hasznaltauto.hu/szemelyauto/volksw...</td>\n",
       "    </tr>\n",
       "    <tr>\n",
       "      <th>1</th>\n",
       "      <td>https://www.hasznaltauto.hu/szemelyauto/citroe...</td>\n",
       "    </tr>\n",
       "    <tr>\n",
       "      <th>2</th>\n",
       "      <td>https://www.hasznaltauto.hu/szemelyauto/merced...</td>\n",
       "    </tr>\n",
       "    <tr>\n",
       "      <th>3</th>\n",
       "      <td>https://www.hasznaltauto.hu/szemelyauto/merced...</td>\n",
       "    </tr>\n",
       "    <tr>\n",
       "      <th>4</th>\n",
       "      <td>https://www.hasznaltauto.hu/szemelyauto/merced...</td>\n",
       "    </tr>\n",
       "  </tbody>\n",
       "</table>\n",
       "</div>"
      ],
      "text/plain": [
       "                                           car_links\n",
       "0  https://www.hasznaltauto.hu/szemelyauto/volksw...\n",
       "1  https://www.hasznaltauto.hu/szemelyauto/citroe...\n",
       "2  https://www.hasznaltauto.hu/szemelyauto/merced...\n",
       "3  https://www.hasznaltauto.hu/szemelyauto/merced...\n",
       "4  https://www.hasznaltauto.hu/szemelyauto/merced..."
      ]
     },
     "execution_count": 5,
     "metadata": {},
     "output_type": "execute_result"
    }
   ],
   "source": [
    "\"\"\"\n",
    "df_hrefs = pd.DataFrame({'car_links':np.concatenate(all_hrefs)})\n",
    "df_hrefs['car_links'] = df_hrefs['car_links'].str.replace('#sid.*', '')\n",
    "df_hrefs.drop_duplicates(inplace=True)\n",
    "df_hrefs.reset_index(drop=True, inplace=True)\n",
    "df_hrefs.to_csv('car_links.csv', index=False)\n",
    "\"\"\"\n",
    "df_hrefs = pd.read_csv('car_links.csv')\n",
    "df_hrefs.head()#\"\"\""
   ]
  },
  {
   "cell_type": "code",
   "execution_count": 58,
   "id": "332ff800-2fe2-4023-8437-ab0bb9f133ac",
   "metadata": {},
   "outputs": [
    {
     "data": {
      "text/plain": [
       "'https://www.hasznaltauto.hu/szemelyauto/volkswagen/passat/volkswagen_passat_2.0_tdi_bmt_comfortline_dsg_elso_tulajdonostol_gyari_fenyezesu_garantalt_kilometerrel-19076469'"
      ]
     },
     "execution_count": 58,
     "metadata": {},
     "output_type": "execute_result"
    }
   ],
   "source": [
    "link"
   ]
  },
  {
   "cell_type": "code",
   "execution_count": 18,
   "id": "a08829ee-b39a-456f-9893-49eb75b2bf8f",
   "metadata": {},
   "outputs": [],
   "source": [
    "def scrape_car_data(link):\n",
    "    try:\n",
    "        response = requests.get(link)\n",
    "        soup = BeautifulSoup(response.content, 'html.parser')\n",
    "\n",
    "        header = soup.find_all('div', {'class':'data-relay-banner'})\n",
    "        \n",
    "        if len(header) == 0:\n",
    "            return None, None\n",
    "        \n",
    "        header = ast.literal_eval(header[0]['data-vehicle-information-banner-parameters'])\n",
    "        advertisement_data =  soup.find_all('table', {'class':'hirdetesadatok'})\n",
    "        # Get the text from xml\n",
    "        advertisement_data = advertisement_data[0].get_text(separator='#')\n",
    "\n",
    "        # Clean it\n",
    "        advertisement_data = advertisement_data.strip()\n",
    "        advertisement_data = re.sub(r'#\\n', '', advertisement_data)\n",
    "\n",
    "        # Get lines\n",
    "        advertisement_data = advertisement_data.split('#')\n",
    "\n",
    "        # Clean lines and create pairs\n",
    "        advertisement_data = pd.Series(advertisement_data)\n",
    "\n",
    "        # Add header to advertisment data\n",
    "        advertisement_data.update(header)\n",
    "\n",
    "        keys_id = advertisement_data.str.contains(':$')\n",
    "        values_id = np.where(keys_id)[0] + 1\n",
    "        keys = advertisement_data[keys_id]\n",
    "        values = advertisement_data[values_id]\n",
    "        advertisement_data = dict(zip(keys, values))\n",
    "\n",
    "\n",
    "        # Get equipment info\n",
    "        equipments = soup.find_all('div', {'class':'row felszereltseg'})\n",
    "        if equipments:\n",
    "            equipments = equipments[0].text.split('\\n')\n",
    "\n",
    "        # Get other info\n",
    "        other = soup.find_all('div', {'class':'egyebinformacio'})\n",
    "        if other:\n",
    "            other = other[0].text.split('\\n')\n",
    "        \n",
    "        # Get description \n",
    "        description = soup.find_all('div', {'class':'leiras'})\n",
    "        if description:\n",
    "            description = [description[0].text]        \n",
    "\n",
    "\n",
    "        # Get oll special info about the car and clean it\n",
    "        special_car_info = equipments + other + description\n",
    "        if special_car_info:\n",
    "            special_car_info = pd.Series(special_car_info)\n",
    "            special_car_info = special_car_info.str.strip()\n",
    "            special_car_info = special_car_info.str.lower()\n",
    "            special_car_info = special_car_info.dropna()\n",
    "            special_car_info = special_car_info[~special_car_info.isin(['', '-'])]\n",
    "\n",
    "        return advertisement_data, special_car_info\n",
    "    except Exception as e:\n",
    "        print(e)\n",
    "        return None, None"
   ]
  },
  {
   "cell_type": "code",
   "execution_count": 67,
   "id": "8958f181-31d9-43ea-b18f-459ba3755d3e",
   "metadata": {},
   "outputs": [],
   "source": [
    "advertisement_data =  soup.find_all('table', {'class':'hirdetesadatok'})"
   ]
  },
  {
   "cell_type": "code",
   "execution_count": 76,
   "id": "bfc591de-0f0f-4ff9-a9a9-f30af13f789b",
   "metadata": {
    "tags": []
   },
   "outputs": [
    {
     "data": {
      "text/html": [
       "<div>\n",
       "<style scoped>\n",
       "    .dataframe tbody tr th:only-of-type {\n",
       "        vertical-align: middle;\n",
       "    }\n",
       "\n",
       "    .dataframe tbody tr th {\n",
       "        vertical-align: top;\n",
       "    }\n",
       "\n",
       "    .dataframe thead th {\n",
       "        text-align: right;\n",
       "    }\n",
       "</style>\n",
       "<table border=\"1\" class=\"dataframe\">\n",
       "  <thead>\n",
       "    <tr style=\"text-align: right;\">\n",
       "      <th></th>\n",
       "      <th>Ár, költségek</th>\n",
       "      <th>Ár, költségek.1</th>\n",
       "    </tr>\n",
       "  </thead>\n",
       "  <tbody>\n",
       "    <tr>\n",
       "      <th>0</th>\n",
       "      <td>Vételár:</td>\n",
       "      <td>6 895 000 Ft</td>\n",
       "    </tr>\n",
       "    <tr>\n",
       "      <th>1</th>\n",
       "      <td>Vételár EUR:</td>\n",
       "      <td>€ 18 950</td>\n",
       "    </tr>\n",
       "    <tr>\n",
       "      <th>2</th>\n",
       "      <td>Átírás kalkulátor HIRDETÉS</td>\n",
       "      <td>Átírás kalkulátor HIRDETÉS</td>\n",
       "    </tr>\n",
       "    <tr>\n",
       "      <th>3</th>\n",
       "      <td>Általános adatok</td>\n",
       "      <td>Általános adatok</td>\n",
       "    </tr>\n",
       "    <tr>\n",
       "      <th>4</th>\n",
       "      <td>Évjárat:</td>\n",
       "      <td>2016/3</td>\n",
       "    </tr>\n",
       "    <tr>\n",
       "      <th>5</th>\n",
       "      <td>Állapot:</td>\n",
       "      <td>Kitűnő</td>\n",
       "    </tr>\n",
       "    <tr>\n",
       "      <th>6</th>\n",
       "      <td>Kivitel:</td>\n",
       "      <td>Sedan</td>\n",
       "    </tr>\n",
       "    <tr>\n",
       "      <th>7</th>\n",
       "      <td>Járműelőélet:</td>\n",
       "      <td>Elérhető autó-előélet alvázszám alapján</td>\n",
       "    </tr>\n",
       "    <tr>\n",
       "      <th>8</th>\n",
       "      <td>Ellenőrzöm</td>\n",
       "      <td>Ellenőrzöm</td>\n",
       "    </tr>\n",
       "    <tr>\n",
       "      <th>9</th>\n",
       "      <td>Finanszírozás</td>\n",
       "      <td>Finanszírozás</td>\n",
       "    </tr>\n",
       "  </tbody>\n",
       "</table>\n",
       "</div>"
      ],
      "text/plain": [
       "                Ár, költségek                          Ár, költségek.1\n",
       "0                    Vételár:                             6 895 000 Ft\n",
       "1                Vételár EUR:                                 € 18 950\n",
       "2  Átírás kalkulátor HIRDETÉS               Átírás kalkulátor HIRDETÉS\n",
       "3            Általános adatok                         Általános adatok\n",
       "4                    Évjárat:                                   2016/3\n",
       "5                    Állapot:                                   Kitűnő\n",
       "6                    Kivitel:                                    Sedan\n",
       "7               Járműelőélet:  Elérhető autó-előélet alvázszám alapján\n",
       "8                  Ellenőrzöm                               Ellenőrzöm\n",
       "9               Finanszírozás                            Finanszírozás"
      ]
     },
     "execution_count": 76,
     "metadata": {},
     "output_type": "execute_result"
    }
   ],
   "source": [
    "table_html = str(soup.find_all('table', {'class':'hirdetesadatok'})[0])"
   ]
  },
  {
   "cell_type": "code",
   "execution_count": 88,
   "id": "89ffc7dd-92c8-4cd3-8572-6f0d3eb148e1",
   "metadata": {},
   "outputs": [],
   "source": [
    "advertisement_data = pd.read_html(table_html)[0]\n",
    "# advertisement_data.head(6).to_csv('../static/sample_advetisement_data.csv', index=False)"
   ]
  },
  {
   "cell_type": "code",
   "execution_count": 89,
   "id": "aa529af7-db4a-4026-8ae4-75b5718e10be",
   "metadata": {},
   "outputs": [
    {
     "name": "stdout",
     "output_type": "stream",
     "text": [
      "| Ár, költségek              | Ár, költségek.1            |\n",
      "|:---------------------------|:---------------------------|\n",
      "| Vételár:                   | 6 895 000 Ft               |\n",
      "| Vételár EUR:               | € 18 950                   |\n",
      "| Átírás kalkulátor HIRDETÉS | Átírás kalkulátor HIRDETÉS |\n",
      "| Általános adatok           | Általános adatok           |\n",
      "| Évjárat:                   | 2016/3                     |\n",
      "| Állapot:                   | Kitűnő                     |\n"
     ]
    }
   ],
   "source": [
    "from tabulate import tabulate\n",
    "\n",
    "print(tabulate(advertisement_data.head(6), headers='keys', tablefmt='pipe', showindex=False))"
   ]
  },
  {
   "cell_type": "code",
   "execution_count": 86,
   "id": "4a5a98a4-c32f-49b5-a77c-4b51702e7f78",
   "metadata": {},
   "outputs": [
    {
     "data": {
      "text/plain": [
       "{'Vételár:': '6\\xa0895\\xa0000\\xa0Ft',\n",
       " 'Vételár EUR:': '€\\xa018\\xa0950',\n",
       " 'Évjárat:': '2016/3',\n",
       " 'Állapot:': 'Kitűnő',\n",
       " 'Kivitel:': 'Sedan',\n",
       " 'Járműelőélet:': 'Elérhető autó-előélet alvázszám alapján',\n",
       " 'Finanszírozás:': '25%-tól elvihető',\n",
       " 'Km. óra állás:': '110\\xa0000\\xa0km',\n",
       " 'Szállítható szem. száma:': '5 fő',\n",
       " 'Ajtók száma:': '4',\n",
       " 'Szín:': 'Fekete (metál)',\n",
       " 'Saját tömeg:': '1\\xa0426 kg',\n",
       " 'Teljes tömeg:': '2\\xa0040 kg',\n",
       " 'Csomagtartó:': '586 liter',\n",
       " 'Klíma fajtája:': 'Digitális többzónás klíma',\n",
       " 'Tető:': 'Lemeztető',\n",
       " 'Üzemanyag:': 'Dízel',\n",
       " 'Hengerűrtartalom:': '1\\xa0968 cm³',\n",
       " 'Teljesítmény:': '110\\xa0kW, 150\\xa0LE',\n",
       " 'Henger-elrendezés:': 'Soros',\n",
       " 'Hajtás:': 'Első kerék',\n",
       " 'Sebességváltó:': 'Automata (6 fokozatú)',\n",
       " 'Okmányok jellege:': 'Érvényes magyar okmányokkal',\n",
       " 'Műszaki vizsga érvényes:': '2025/5',\n",
       " 'Nyári gumi méret:': '215/60\\xa0R\\xa016'}"
      ]
     },
     "execution_count": 86,
     "metadata": {},
     "output_type": "execute_result"
    }
   ],
   "source": [
    "\n",
    "\n",
    "advertisement_data.columns = ['key', 'value']\n",
    "advertisement_data = advertisement_data[advertisement_data['key'].str.contains(':$', regex=True)]\n",
    "advertisement_data = dict(zip(advertisement_data['key'], advertisement_data['value']))\n",
    "\n",
    "\n",
    "advertisement_data"
   ]
  },
  {
   "cell_type": "code",
   "execution_count": 75,
   "id": "558858c4-3884-4f76-b8dc-61a94fd51fc5",
   "metadata": {},
   "outputs": [],
   "source": []
  },
  {
   "cell_type": "code",
   "execution_count": 69,
   "id": "f624c1d1-a4a4-4497-a578-f3f1cd3a6d96",
   "metadata": {},
   "outputs": [],
   "source": [
    "# Get the text from xml\n",
    "advertisement_data = advertisement_data[0]"
   ]
  },
  {
   "cell_type": "code",
   "execution_count": 71,
   "id": "76ec294b-35f6-442d-b4af-a0cb098ea093",
   "metadata": {},
   "outputs": [
    {
     "ename": "TypeError",
     "evalue": "Tag.get_attribute_list() missing 1 required positional argument: 'key'",
     "output_type": "error",
     "traceback": [
      "\u001b[0;31m---------------------------------------------------------------------------\u001b[0m",
      "\u001b[0;31mTypeError\u001b[0m                                 Traceback (most recent call last)",
      "Cell \u001b[0;32mIn[71], line 1\u001b[0m\n\u001b[0;32m----> 1\u001b[0m \u001b[43madvertisement_data\u001b[49m\u001b[38;5;241;43m.\u001b[39;49m\u001b[43mget_attribute_list\u001b[49m\u001b[43m(\u001b[49m\u001b[43m)\u001b[49m\n",
      "\u001b[0;31mTypeError\u001b[0m: Tag.get_attribute_list() missing 1 required positional argument: 'key'"
     ]
    }
   ],
   "source": [
    "advertisement_data.getText()"
   ]
  },
  {
   "cell_type": "code",
   "execution_count": 45,
   "id": "d07404c0-2dc9-4f7f-816f-01105447b412",
   "metadata": {},
   "outputs": [],
   "source": [
    "# Open the Pickle file in binary mode for reading\n",
    "with open('../data/car_data.pickle', 'rb') as file:\n",
    "    # Load the Pickle file\n",
    "    res_list = pickle.load(file)\n"
   ]
  },
  {
   "cell_type": "code",
   "execution_count": 46,
   "id": "ae01d6a3-66d8-4810-921d-92c1540bc255",
   "metadata": {},
   "outputs": [
    {
     "data": {
      "text/plain": [
       "35386"
      ]
     },
     "execution_count": 46,
     "metadata": {},
     "output_type": "execute_result"
    }
   ],
   "source": [
    "len(res_list)"
   ]
  },
  {
   "cell_type": "code",
   "execution_count": 47,
   "id": "bff2677e-f815-44e7-93e8-e7b9d28fc122",
   "metadata": {},
   "outputs": [],
   "source": [
    "all_links = pd.Series([x[2] for x in res_list])\n"
   ]
  },
  {
   "cell_type": "code",
   "execution_count": 48,
   "id": "782bbd2c-699f-4c77-8a84-a499c405b3f2",
   "metadata": {},
   "outputs": [
    {
     "name": "stderr",
     "output_type": "stream",
     "text": [
      "/var/folders/6p/rn1y8jlj4q5fp4y6jrn3qslc0000gn/T/ipykernel_15320/1019308625.py:1: FutureWarning: The default value of regex will change from True to False in a future version.\n",
      "  all_links = all_links.str.replace(\"#sid.*\", \"\")\n"
     ]
    }
   ],
   "source": [
    "all_links = all_links.str.replace(\"#sid.*\", \"\")"
   ]
  },
  {
   "cell_type": "code",
   "execution_count": 49,
   "id": "0a66f79b-8417-4eee-b11b-0e3d72cac2b2",
   "metadata": {},
   "outputs": [
    {
     "data": {
      "text/plain": [
       "35386"
      ]
     },
     "execution_count": 49,
     "metadata": {},
     "output_type": "execute_result"
    }
   ],
   "source": [
    "len(all_links)"
   ]
  },
  {
   "cell_type": "code",
   "execution_count": 52,
   "id": "f583a1a2-59fa-4950-acab-838430c17b76",
   "metadata": {},
   "outputs": [
    {
     "data": {
      "text/plain": [
       "'https://www.hasznaltauto.hu/szemelyauto/volkswagen/passat/volkswagen_passat_2.0_tdi_bmt_comfortline_dsg_elso_tulajdonostol_gyari_fenyezesu_garantalt_kilometerrel-19076469'"
      ]
     },
     "execution_count": 52,
     "metadata": {},
     "output_type": "execute_result"
    }
   ],
   "source": [
    "link = all_links[0]\n",
    "link"
   ]
  },
  {
   "cell_type": "code",
   "execution_count": 66,
   "id": "a049f7b4-f64c-4ca2-a11a-05e04ec676ab",
   "metadata": {},
   "outputs": [
    {
     "data": {
      "text/plain": [
       "['Ár, költségek',\n",
       " 'Vételár:',\n",
       " '6\\xa0895\\xa0000\\xa0Ft',\n",
       " 'Vételár EUR:',\n",
       " '€\\xa018\\xa0950                        Átírás kalkulátor                                HIRDETÉS        ',\n",
       " 'Általános adatok',\n",
       " 'Évjárat:',\n",
       " '2016/3',\n",
       " 'Állapot:',\n",
       " 'Kitűnő',\n",
       " 'Kivitel:',\n",
       " 'Sedan',\n",
       " 'Járműelőélet:',\n",
       " 'Elérhető autó-előélet alvázszám alapján                        Ellenőrzöm                    ',\n",
       " 'Finanszírozás',\n",
       " 'Finanszírozás:',\n",
       " '25%-tól elvihető',\n",
       " 'Jármű adatok',\n",
       " 'Km. óra állás:',\n",
       " '110\\xa0000\\xa0km',\n",
       " 'Szállítható szem. száma:',\n",
       " '5 fő',\n",
       " 'Ajtók száma:',\n",
       " '4',\n",
       " 'Szín:',\n",
       " 'Fekete (metál)',\n",
       " 'Saját tömeg:',\n",
       " '1\\xa0426 kg',\n",
       " 'Teljes tömeg:',\n",
       " '2\\xa0040 kg',\n",
       " 'Csomagtartó:',\n",
       " '586 liter',\n",
       " 'Klíma fajtája:',\n",
       " 'Digitális többzónás klíma',\n",
       " 'Tető:',\n",
       " 'Lemeztető',\n",
       " 'Motor adatok',\n",
       " 'Üzemanyag:',\n",
       " 'Dízel',\n",
       " 'Hengerűrtartalom:',\n",
       " '1\\xa0968 cm³',\n",
       " 'Teljesítmény:',\n",
       " '110\\xa0kW, 150\\xa0LE',\n",
       " 'Henger-elrendezés:',\n",
       " 'Soros',\n",
       " 'Hajtás:',\n",
       " 'Első kerék',\n",
       " 'Sebességváltó:',\n",
       " 'Automata (6 fokozatú)',\n",
       " 'Okmányok',\n",
       " 'Okmányok jellege:',\n",
       " 'Érvényes magyar okmányokkal',\n",
       " 'Műszaki vizsga érvényes:',\n",
       " '2025/5',\n",
       " 'Abroncs',\n",
       " 'Nyári gumi méret:',\n",
       " '215/60\\xa0R\\xa016']"
      ]
     },
     "execution_count": 66,
     "metadata": {},
     "output_type": "execute_result"
    }
   ],
   "source": [
    "response = requests.get(link)\n",
    "soup = BeautifulSoup(response.content, 'html.parser')\n",
    "\n",
    "header = soup.find_all('div', {'class':'data-relay-banner'})\n",
    "\n",
    "header = ast.literal_eval(header[0]['data-vehicle-information-banner-parameters'])\n",
    "advertisement_data =  soup.find_all('table', {'class':'hirdetesadatok'})\n",
    "# Get the text from xml\n",
    "advertisement_data = advertisement_data[0].get_text(separator='#')\n",
    "\n",
    "# Clean it\n",
    "advertisement_data = advertisement_data.strip()\n",
    "advertisement_data = re.sub(r'#\\n', '', advertisement_data)\n",
    "\n",
    "# Get lines\n",
    "advertisement_data = advertisement_data.split('#')\n",
    "advertisement_data"
   ]
  },
  {
   "cell_type": "code",
   "execution_count": 63,
   "id": "66977f89-44ab-4ad2-abdc-40e458c1fe3f",
   "metadata": {},
   "outputs": [
    {
     "data": {
      "text/plain": [
       "0                                         Ár, költségek\n",
       "1                                              Vételár:\n",
       "2                                          6 895 000 Ft\n",
       "3                                          Vételár EUR:\n",
       "4     € 18 950                        Átírás kalkulá...\n",
       "5                                      Általános adatok\n",
       "6                                              Évjárat:\n",
       "7                                                2016/3\n",
       "8                                              Állapot:\n",
       "9                                                Kitűnő\n",
       "10                                             Kivitel:\n",
       "11                                                Sedan\n",
       "12                                        Járműelőélet:\n",
       "13    Elérhető autó-előélet alvázszám alapján       ...\n",
       "14                                        Finanszírozás\n",
       "15                                       Finanszírozás:\n",
       "16                                     25%-tól elvihető\n",
       "17                                         Jármű adatok\n",
       "18                                       Km. óra állás:\n",
       "19                                           110 000 km\n",
       "20                             Szállítható szem. száma:\n",
       "21                                                 5 fő\n",
       "22                                         Ajtók száma:\n",
       "23                                                    4\n",
       "24                                                Szín:\n",
       "25                                       Fekete (metál)\n",
       "26                                         Saját tömeg:\n",
       "27                                             1 426 kg\n",
       "28                                        Teljes tömeg:\n",
       "29                                             2 040 kg\n",
       "30                                         Csomagtartó:\n",
       "31                                            586 liter\n",
       "32                                       Klíma fajtája:\n",
       "33                            Digitális többzónás klíma\n",
       "34                                                Tető:\n",
       "35                                            Lemeztető\n",
       "36                                         Motor adatok\n",
       "37                                           Üzemanyag:\n",
       "38                                                Dízel\n",
       "39                                    Hengerűrtartalom:\n",
       "40                                            1 968 cm³\n",
       "41                                        Teljesítmény:\n",
       "42                                       110 kW, 150 LE\n",
       "43                                   Henger-elrendezés:\n",
       "44                                                Soros\n",
       "45                                              Hajtás:\n",
       "46                                           Első kerék\n",
       "47                                       Sebességváltó:\n",
       "48                                Automata (6 fokozatú)\n",
       "49                                             Okmányok\n",
       "50                                    Okmányok jellege:\n",
       "51                          Érvényes magyar okmányokkal\n",
       "52                             Műszaki vizsga érvényes:\n",
       "53                                               2025/5\n",
       "54                                              Abroncs\n",
       "55                                    Nyári gumi méret:\n",
       "56                                          215/60 R 16\n",
       "dtype: object"
      ]
     },
     "execution_count": 63,
     "metadata": {},
     "output_type": "execute_result"
    }
   ],
   "source": [
    "# Clean lines and create pairs\n",
    "advertisement_data = pd.Series(advertisement_data)\n",
    "        \n",
    "# Add header to advertisment data\n",
    "advertisement_data.update(header)\n",
    "advertisement_data"
   ]
  },
  {
   "cell_type": "code",
   "execution_count": 64,
   "id": "bfe341d0-ffb4-48d2-a5b4-f48415bc0265",
   "metadata": {},
   "outputs": [],
   "source": [
    "advertisement_data.update(header)"
   ]
  },
  {
   "cell_type": "code",
   "execution_count": 65,
   "id": "3f698fd4-0c0b-4d61-8344-7a643c6bca46",
   "metadata": {},
   "outputs": [
    {
     "data": {
      "text/plain": [
       "0                                         Ár, költségek\n",
       "1                                              Vételár:\n",
       "2                                          6 895 000 Ft\n",
       "3                                          Vételár EUR:\n",
       "4     € 18 950                        Átírás kalkulá...\n",
       "5                                      Általános adatok\n",
       "6                                              Évjárat:\n",
       "7                                                2016/3\n",
       "8                                              Állapot:\n",
       "9                                                Kitűnő\n",
       "10                                             Kivitel:\n",
       "11                                                Sedan\n",
       "12                                        Járműelőélet:\n",
       "13    Elérhető autó-előélet alvázszám alapján       ...\n",
       "14                                        Finanszírozás\n",
       "15                                       Finanszírozás:\n",
       "16                                     25%-tól elvihető\n",
       "17                                         Jármű adatok\n",
       "18                                       Km. óra állás:\n",
       "19                                           110 000 km\n",
       "20                             Szállítható szem. száma:\n",
       "21                                                 5 fő\n",
       "22                                         Ajtók száma:\n",
       "23                                                    4\n",
       "24                                                Szín:\n",
       "25                                       Fekete (metál)\n",
       "26                                         Saját tömeg:\n",
       "27                                             1 426 kg\n",
       "28                                        Teljes tömeg:\n",
       "29                                             2 040 kg\n",
       "30                                         Csomagtartó:\n",
       "31                                            586 liter\n",
       "32                                       Klíma fajtája:\n",
       "33                            Digitális többzónás klíma\n",
       "34                                                Tető:\n",
       "35                                            Lemeztető\n",
       "36                                         Motor adatok\n",
       "37                                           Üzemanyag:\n",
       "38                                                Dízel\n",
       "39                                    Hengerűrtartalom:\n",
       "40                                            1 968 cm³\n",
       "41                                        Teljesítmény:\n",
       "42                                       110 kW, 150 LE\n",
       "43                                   Henger-elrendezés:\n",
       "44                                                Soros\n",
       "45                                              Hajtás:\n",
       "46                                           Első kerék\n",
       "47                                       Sebességváltó:\n",
       "48                                Automata (6 fokozatú)\n",
       "49                                             Okmányok\n",
       "50                                    Okmányok jellege:\n",
       "51                          Érvényes magyar okmányokkal\n",
       "52                             Műszaki vizsga érvényes:\n",
       "53                                               2025/5\n",
       "54                                              Abroncs\n",
       "55                                    Nyári gumi méret:\n",
       "56                                          215/60 R 16\n",
       "dtype: object"
      ]
     },
     "execution_count": 65,
     "metadata": {},
     "output_type": "execute_result"
    }
   ],
   "source": [
    "advertisement_data"
   ]
  },
  {
   "cell_type": "code",
   "execution_count": 62,
   "id": "054cac8a-c230-44eb-997a-5a5784e1ace3",
   "metadata": {},
   "outputs": [
    {
     "data": {
      "text/plain": [
       "['Ár, költségek',\n",
       " 'Vételár:',\n",
       " '6\\xa0895\\xa0000\\xa0Ft',\n",
       " 'Vételár EUR:',\n",
       " '€\\xa018\\xa0950                        Átírás kalkulátor                                HIRDETÉS        ',\n",
       " 'Általános adatok',\n",
       " 'Évjárat:',\n",
       " '2016/3',\n",
       " 'Állapot:',\n",
       " 'Kitűnő',\n",
       " 'Kivitel:',\n",
       " 'Sedan',\n",
       " 'Járműelőélet:',\n",
       " 'Elérhető autó-előélet alvázszám alapján                        Ellenőrzöm                    ',\n",
       " 'Finanszírozás',\n",
       " 'Finanszírozás:',\n",
       " '25%-tól elvihető',\n",
       " 'Jármű adatok',\n",
       " 'Km. óra állás:',\n",
       " '110\\xa0000\\xa0km',\n",
       " 'Szállítható szem. száma:',\n",
       " '5 fő',\n",
       " 'Ajtók száma:',\n",
       " '4',\n",
       " 'Szín:',\n",
       " 'Fekete (metál)',\n",
       " 'Saját tömeg:',\n",
       " '1\\xa0426 kg',\n",
       " 'Teljes tömeg:',\n",
       " '2\\xa0040 kg',\n",
       " 'Csomagtartó:',\n",
       " '586 liter',\n",
       " 'Klíma fajtája:',\n",
       " 'Digitális többzónás klíma',\n",
       " 'Tető:',\n",
       " 'Lemeztető',\n",
       " 'Motor adatok',\n",
       " 'Üzemanyag:',\n",
       " 'Dízel',\n",
       " 'Hengerűrtartalom:',\n",
       " '1\\xa0968 cm³',\n",
       " 'Teljesítmény:',\n",
       " '110\\xa0kW, 150\\xa0LE',\n",
       " 'Henger-elrendezés:',\n",
       " 'Soros',\n",
       " 'Hajtás:',\n",
       " 'Első kerék',\n",
       " 'Sebességváltó:',\n",
       " 'Automata (6 fokozatú)',\n",
       " 'Okmányok',\n",
       " 'Okmányok jellege:',\n",
       " 'Érvényes magyar okmányokkal',\n",
       " 'Műszaki vizsga érvényes:',\n",
       " '2025/5',\n",
       " 'Abroncs',\n",
       " 'Nyári gumi méret:',\n",
       " '215/60\\xa0R\\xa016']"
      ]
     },
     "execution_count": 62,
     "metadata": {},
     "output_type": "execute_result"
    }
   ],
   "source": [
    "\n",
    "\n",
    "keys_id = advertisement_data.str.contains(':$')\n",
    "values_id = np.where(keys_id)[0] + 1\n",
    "keys = advertisement_data[keys_id]\n",
    "values = advertisement_data[values_id]\n",
    "advertisement_data = dict(zip(keys, values))"
   ]
  },
  {
   "cell_type": "code",
   "execution_count": 54,
   "id": "43817574-1d26-4a5e-858d-536a6e9b2422",
   "metadata": {},
   "outputs": [],
   "source": [
    "response = requests.get(link)\n",
    "soup = BeautifulSoup(response.content, \"html.parser\")\n",
    "\n",
    "header = soup.find_all(\"div\", {\"class\": \"data-relay-banner\"}, )\n",
    "\n",
    "# Get the header information\n",
    "# It is in a dictionary format but as a string, so we need to convert it\n",
    "header = ast.literal_eval(\n",
    "    header[0][\"data-vehicle-information-banner-parameters\"]\n",
    ")\n",
    "\n",
    "# Get the data from the base advertisement information table\n",
    "advertisement_data = soup.find_all(\"table\", {\"class\": \"hirdetesadatok\"})\n"
   ]
  },
  {
   "cell_type": "code",
   "execution_count": 56,
   "id": "741f1bf9-ef9c-45df-b36b-311b7b0a5c0f",
   "metadata": {},
   "outputs": [
    {
     "data": {
      "text/plain": [
       "{'vetelar': 6895000,\n",
       " 'gyartasiev': 2016,\n",
       " 'gyartasiho': 3,\n",
       " 'gepjarmutipus': 1,\n",
       " 'gepjarmumarka': 'VOLKSWAGEN PASSAT 2.0 TDI BMT Comfortline DSG ELSŐ TULAJDONOSTÓL. GYÁRI FÉNYEZÉSŰ. GARANTÁLT KILÓMÉTERREL!!!',\n",
       " 'kalk_forras': 'HAHU',\n",
       " 'cofidisPartnerId': 17987,\n",
       " 'adId': 19076469,\n",
       " 'adURL': 'https:\\\\/\\\\/www.hasznaltauto.hu\\\\/szemelyauto\\\\/volkswagen\\\\/passat\\\\/volkswagen_passat_2.0_tdi_bmt_comfortline_dsg_elso_tulajdonostol_gyari_fenyezesu_garantalt_kilometerrel-19076469'}"
      ]
     },
     "execution_count": 56,
     "metadata": {},
     "output_type": "execute_result"
    }
   ],
   "source": [
    "header"
   ]
  },
  {
   "cell_type": "code",
   "execution_count": 57,
   "id": "792b5b0d-9215-4513-a4c2-9d4569befe10",
   "metadata": {},
   "outputs": [
    {
     "data": {
      "text/plain": [
       "b'<!DOCTYPE html>\\n<html lang=\"hu-HU\">\\n<head>\\n    <link href=\"https://www.hasznaltauto.hu/favicon.ico\" rel=\"shortcut icon\" type=\"image/x-icon\"; />\\n    <link rel=\"stylesheet\" href=\"https://bmh.jofogas.hu/hza/css-tracking.css\" media=\"print\" onload=\"this.media=\\'all\\'\">\\n    <meta charset=\"UTF-8\"/>\\n\\n    <meta name=\"viewport\"\\n          content=\"width=device-width, maximum-scale=1.0, minimum-scale=1.0, initial-scale=1.0, user-scalable=no\"/>\\n    <meta name=\"format-detection\" content=\"telephone=no\">\\n    <meta name=\"google\" content=\"nositelinkssearchbox\">\\n    <script type=\"text/javascript\">window.gdprAppliesGlobally=true;(function(){function a(e){if(!window.frames[e]){if(document.body&&document.body.firstChild){var t=document.body;var n=document.createElement(\"iframe\");n.style.display=\"none\";n.name=e;n.title=e;t.insertBefore(n,t.firstChild)}\\n      else{setTimeout(function(){a(e)},5)}}}function e(n,r,o,c,s){function e(e,t,n,a){if(typeof n!==\"function\"){return}if(!window[r]){window[r]=[]}var i=false;if(s){i=s(e,t,n)}if(!i){window[r].push({command:e,parameter:t,callback:n,version:a})}}e.stub=true;function t(a){if(!window[n]||window[n].stub!==true){return}if(!a.data){return}\\n        var i=typeof a.data===\"string\";var e;try{e=i?JSON.parse(a.data):a.data}catch(t){return}if(e[o]){var r=e[o];window[n](r.command,r.parameter,function(e,t){var n={};n[c]={returnValue:e,success:t,callId:r.callId};a.source.postMessage(i?JSON.stringify(n):n,\"*\")},r.version)}}\\n        if(typeof window[n]!==\"function\"){window[n]=e;if(window.addEventListener){window.addEventListener(\"message\",t,false)}else{window.attachEvent(\"onmessage\",t)}}}e(\"__tcfapi\",\"__tcfapiBuffer\",\"__tcfapiCall\",\"__tcfapiReturn\");a(\"__tcfapiLocator\");(function(e){\\n        var t=document.createElement(\"script\");t.id=\"spcloader\";t.type=\"text/javascript\";t.async=true;t.src=\"https://sdk.privacy-center.org/\"+e+\"/loader.js?target=\"+document.location.hostname;t.charset=\"utf-8\";var n=document.getElementsByTagName(\"script\")[0];n.parentNode.insertBefore(t,n)})(\"4f7c0bc2-9c38-4c36-9394-d3620940e3c6\")})();</script>\\n    <script type=\"didomi/javascript\" src=\"//try.abtasty.com/a08ec2f1cebf271595ee53f9ff0855fd.js\" defer data-vendor=\"c:ab-tasty\"></script>\\n\\n\\n        <title>Elad\\xc3\\xb3 haszn\\xc3\\xa1lt VOLKSWAGEN PASSAT 2.0 TDI BMT Comfortline DSG ELS\\xc5\\x90 TULAJDONOST\\xc3\\x93L. GY\\xc3\\x81RI F\\xc3\\x89NYEZ\\xc3\\x89S\\xc5\\xb0. GARANT\\xc3\\x81LT KIL\\xc3\\x93M\\xc3\\x89TERREL!!!, 2016/3, Fekete (met\\xc3\\xa1l) sz\\xc3\\xadn\\xc5\\xb1 - Haszn\\xc3\\xa1ltaut\\xc3\\xb3.hu</title>\\n        <script type=\"didomi/javascript\" async src=\"https://www.googletagmanager.com/gtag/js?id=G-F5H6VDB6TM\"></script>\\n    <script type=\"didomi/javascript\">\\n        window.dataLayer = window.dataLayer || [];\\n        function gtag(){dataLayer.push(arguments);}\\n        gtag(\\'js\\', new Date());\\n\\n        gtag(\\'config\\', \\'G-F5H6VDB6TM\\', {\\n                            });\\n        </script>\\n\\n    <script type=\"application/ld+json\">{\\n    \"@context\": {\\n        \"@vocab\": \"http://schema.org/\"\\n    },\\n    \"@type\": \"Product\",\\n    \"brand\": {\\n        \"@type\": \"Brand\",\\n        \"name\": \"VOLKSWAGEN\"\\n    },\\n    \"color\": \"Fekete (met\\xc3\\xa1l)\",\\n    \"description\": \"Elad\\xc3\\xb3 haszn\\xc3\\xa1lt Fekete (met\\xc3\\xa1l) VOLKSWAGEN PASSAT 2.0 TDI BMT Comfortline DSG ELS\\xc5\\x90 TULAJDONOST\\xc3\\x93L. GY\\xc3\\x81RI F\\xc3\\x89NYEZ\\xc3\\x89S\\xc5\\xb0. GARANT\\xc3\\x81LT KIL\\xc3\\x93M\\xc3\\x89TERREL!!! kit\\xc5\\xb1n\\xc5\\x91 sedan, 4 ajt\\xc3\\xb3s, 1\\xc2\\xa0968 cm\\xc2\\xb3, 110\\xc2\\xa0kW, 150\\xc2\\xa0LE, d\\xc3\\xadzel, 110\\xc2\\xa0000\\xc2\\xa0km, 2016/3 6\\xc2\\xa0895\\xc2\\xa0000\\xc2\\xa0Ft (Elad\\xc3\\xb3 c\\xc3\\xadme: Dunakeszi)\",\\n    \"image\": [\\n        {\\n            \"@type\": \"ImageObject\",\\n            \"url\": \"https://hasznaltauto.medija.hu/9481/19076469_1.jpg?v=1679317706\"\\n        },\\n        {\\n            \"@type\": \"ImageObject\",\\n            \"url\": \"https://hasznaltauto.medija.hu/9481/19076469_2.jpg?v=1679317706\"\\n        },\\n        {\\n            \"@type\": \"ImageObject\",\\n            \"url\": \"https://hasznaltauto.medija.hu/9481/19076469_3.jpg?v=1679317706\"\\n        },\\n        {\\n            \"@type\": \"ImageObject\",\\n            \"url\": \"https://hasznaltauto.medija.hu/9481/19076469_4.jpg?v=1679317706\"\\n        },\\n        {\\n            \"@type\": \"ImageObject\",\\n            \"url\": \"https://hasznaltauto.medija.hu/9481/19076469_5.jpg?v=1679317706\"\\n        },\\n        {\\n            \"@type\": \"ImageObject\",\\n            \"url\": \"https://hasznaltauto.medija.hu/9481/19076469_6.jpg?v=1679317706\"\\n        },\\n        {\\n            \"@type\": \"ImageObject\",\\n            \"url\": \"https://hasznaltauto.medija.hu/9481/19076469_7.jpg?v=1679317706\"\\n        },\\n        {\\n            \"@type\": \"ImageObject\",\\n            \"url\": \"https://hasznaltauto.medija.hu/9481/19076469_8.jpg?v=1679317706\"\\n        },\\n        {\\n            \"@type\": \"ImageObject\",\\n            \"url\": \"https://hasznaltauto.medija.hu/9481/19076469_9.jpg?v=1679317706\"\\n        },\\n        {\\n            \"@type\": \"ImageObject\",\\n            \"url\": \"https://hasznaltauto.medija.hu/9481/19076469_10.jpg?v=1679317706\"\\n        },\\n        {\\n            \"@type\": \"ImageObject\",\\n            \"url\": \"https://hasznaltauto.medija.hu/9481/19076469_11.jpg?v=1679317706\"\\n        },\\n        {\\n            \"@type\": \"ImageObject\",\\n            \"url\": \"https://hasznaltauto.medija.hu/9481/19076469_12.jpg?v=1679317706\"\\n        }\\n    ],\\n    \"name\": \"VOLKSWAGEN PASSAT 2.0 TDI BMT Comfortline DSG ELS\\xc5\\x90 TULAJDONOST\\xc3\\x93L. GY\\xc3\\x81RI F\\xc3\\x89NYEZ\\xc3\\x89S\\xc5\\xb0. GARANT\\xc3\\x81LT KIL\\xc3\\x93M\\xc3\\x89TERREL!!!\",\\n    \"offers\": {\\n        \"@type\": \"Offer\",\\n        \"availability\": \"InStock\",\\n        \"itemCondition\": \"UsedCondition\",\\n        \"price\": 6895000,\\n        \"priceCurrency\": \"HUF\",\\n        \"seller\": {\\n            \"@type\": \"Organization\",\\n            \"name\": \"\"\\n        },\\n        \"url\": \"/szemelyauto/volkswagen/passat/volkswagen_passat_2.0_tdi_bmt_comfortline_dsg_elso_tulajdonostol_gyari_fenyezesu_garantalt_kilometerrel-19076469\"\\n    }\\n}</script><script type=\"application/ld+json\">{\\n    \"@context\": {\\n        \"@vocab\": \"http://schema.org/\"\\n    },\\n    \"@type\": \"WebSite\",\\n    \"name\": \"Haszn\\xc3\\xa1ltaut\\xc3\\xb3.hu\",\\n    \"url\": \"https://www.hasznaltauto.hu\"\\n}</script><script type=\"application/ld+json\">{\\n    \"@context\": {\\n        \"@vocab\": \"http://schema.org/\"\\n    },\\n    \"@type\": \"BreadcrumbList\",\\n    \"itemListElement\": [\\n        {\\n            \"@type\": \"ListItem\",\\n            \"item\": {\\n                \"@id\": \"https://www.hasznaltauto.hu/szemelyauto\",\\n                \"name\": \"Szem\\xc3\\xa9lyaut\\xc3\\xb3\"\\n            },\\n            \"position\": 1\\n        },\\n        {\\n            \"@type\": \"ListItem\",\\n            \"item\": {\\n                \"@id\": \"https://www.hasznaltauto.hu/szemelyauto/volkswagen\",\\n                \"name\": \"VOLKSWAGEN\"\\n            },\\n            \"position\": 2\\n        },\\n        {\\n            \"@type\": \"ListItem\",\\n            \"item\": {\\n                \"@id\": \"https://www.hasznaltauto.hu/szemelyauto/volkswagen/passat\",\\n                \"name\": \"PASSAT\"\\n            },\\n            \"position\": 3\\n        }\\n    ]\\n}</script><meta name=\"robots\" content=\"max-image-preview:large, max-video-preview:-1\">\\n<meta name=\"customtarget\" content=\"dXNlcmRiX2lkPTQzJnJlZ2lvPXBlc3QtZGsma2F0ZWdvcmlhPXN6ZW1lbHlhdXRvJmVneWVkaV9qZWxvbG89YmJfdmlwJmd5YXJ0bWFueT12b2xrc3dhZ2VuJm1vZGVsbD1wYXNzYXRfMi4wX3RkaV9ibXRfY29tZm9ydGxpbmVfZHNnX2Vsc29fdHVsYWpkb25vc3RvbF9neWFyaV9mZW55ZXplc3VfZ2FyYW50YWx0X2tpbG9tZXRlcnJlbCZldmphcmF0PTIwMTYmdmV0ZWxhcj02ODk1MDAwJnRpcHVzPTEmcGFydG5lcmtvZD05NDgxJmtpdml0ZWw9c2VkYW4mZnV0b3R0a209MTEwMDAwJmhlbmdlcnVydD0xOTY4JmFsbGFwb3Q9a2l0dW5vJnV6ZW1hbnlhZz1kaXplbCZtZWd5ZT1wZXN0X21lZ3llJmhpcmRldGVzX3RpcHVzPWhhc3puYWx0Jmhhc192aW49MSZkb29ycz00JnNlYXRzPTUmaGFzX3ZhbGlkX2h1bmdhcmlhbl90cmFmZmljX2xpY2Vuc2U9MSZoYXNfYWlyX2NvbmRpdGlvbmluZz0x\">\\n<meta property=\"og:title\" content=\"Elad\\xc3\\xb3 haszn\\xc3\\xa1lt VOLKSWAGEN PASSAT 2.0 TDI BMT Comfortline DSG ELS\\xc5\\x90 TULAJDONOST\\xc3\\x93L. GY\\xc3\\x81RI F\\xc3\\x89NYEZ\\xc3\\x89S\\xc5\\xb0. GARANT\\xc3\\x81LT KIL\\xc3\\x93M\\xc3\\x89TERREL!!!, 2016/3, Fekete (met\\xc3\\xa1l) sz\\xc3\\xadn\\xc5\\xb1 - Haszn\\xc3\\xa1ltaut\\xc3\\xb3.hu\">\\n<meta property=\"og:description\" content=\"Elad\\xc3\\xb3 haszn\\xc3\\xa1lt Fekete (met\\xc3\\xa1l) VOLKSWAGEN PASSAT 2.0 TDI BMT Comfortline DSG ELS\\xc5\\x90 TULAJDONOST\\xc3\\x93L. GY\\xc3\\x81RI F\\xc3\\x89NYEZ\\xc3\\x89S\\xc5\\xb0. GARANT\\xc3\\x81LT KIL\\xc3\\x93M\\xc3\\x89TERREL!!! kit\\xc5\\xb1n\\xc5\\x91 sedan, 4 ajt\\xc3\\xb3s, 1\\xc2\\xa0968 cm\\xc2\\xb3, 110\\xc2\\xa0kW, 150\\xc2\\xa0LE, d\\xc3\\xadzel, 110\\xc2\\xa0000\\xc2\\xa0km, 2016/3 6\\xc2\\xa0895\\xc2\\xa0000\\xc2\\xa0Ft (Elad\\xc3\\xb3 c\\xc3\\xadme: Dunakeszi)\">\\n<meta property=\"og:url\" content=\"https://www.hasznaltauto.hu/szemelyauto/volkswagen/passat/volkswagen_passat_2.0_tdi_bmt_comfortline_dsg_elso_tulajdonostol_gyari_fenyezesu_garantalt_kilometerrel-19076469\">\\n<meta property=\"og:image\" content=\"https://hasznaltauto.medija.hu/9481/19076469_1.jpg?v=1679317706\">\\n<meta property=\"og:image:width\" content=\"640\">\\n<meta property=\"og:image:height\" content=\"480\">\\n<meta property=\"fb:app_id\" content=\"190697914343684\">\\n<meta property=\"og:type\" content=\"website\">\\n<meta name=\"description\" content=\"Elad\\xc3\\xb3 haszn\\xc3\\xa1lt Fekete (met\\xc3\\xa1l) VOLKSWAGEN PASSAT 2.0 TDI BMT Comfortline DSG ELS\\xc5\\x90 TULAJDONOST\\xc3\\x93L. GY\\xc3\\x81RI F\\xc3\\x89NYEZ\\xc3\\x89S\\xc5\\xb0. GARANT\\xc3\\x81LT KIL\\xc3\\x93M\\xc3\\x89TERREL!!! kit\\xc5\\xb1n\\xc5\\x91 sedan, 4 ajt\\xc3\\xb3s, 1\\xc2\\xa0968 cm\\xc2\\xb3, 110\\xc2\\xa0kW, 150\\xc2\\xa0LE, d\\xc3\\xadzel, 110\\xc2\\xa0000\\xc2\\xa0km, 2016/3 6\\xc2\\xa0895\\xc2\\xa0000\\xc2\\xa0Ft (Elad\\xc3\\xb3 c\\xc3\\xadme: Dunakeszi)\">\\n<meta name=\"keywords\" content=\"expressz, aut\\xc3\\xb3-motor, volkswagen, passat, 2.0 tdi bmt comfortline dsg els\\xc5\\x91 tulajdonost\\xc3\\xb3l. gy\\xc3\\xa1ri f\\xc3\\xa9nyez\\xc3\\xa9s\\xc5\\xb1. garant\\xc3\\xa1lt kil\\xc3\\xb3m\\xc3\\xa9terrel!!!, szem\\xc3\\xa9lyaut\\xc3\\xb3, aut\\xc3\\xb3, elad\\xc3\\xb3, haszn\\xc3\\xa1ltaut\\xc3\\xb3, haszn\\xc3\\xa1lt volkswagen, haszn\\xc3\\xa1lt volkswagen passat\">\\n<link href=\"https://www.hasznaltauto.hu/szemelyauto/volkswagen/passat/volkswagen_passat_2.0_tdi_bmt_comfortline_dsg_elso_tulajdonostol_gyari_fenyezesu_garantalt_kilometerrel-19076469\" rel=\"canonical\">\\n<link href=\"https://hasznaltauto.medija.hu/9481/19076469_1.jpg?v=1679317706\" rel=\"image_src\">\\n<link href=\"https://hasznaltauto.medija.hu/new_test/assets/52dbd86d017c5b36e45a119e53efa492.css?v=1688040437\" rel=\"stylesheet\">\\n<link href=\"https://hasznaltauto.medija.hu/new_test/assets/98d745431305ef133ef17fb3da9b3dcc.css?v=1688040429\" rel=\"stylesheet\">\\n<link href=\"https://hasznaltauto.medija.hu/new_test/assets/62f86f8777c51a8503f0fe78215c2fd0.css?v=1688040181\" rel=\"stylesheet\">\\n<link href=\"https://hasznaltauto.medija.hu/new_test/assets/6704aaf99b2d1412c438bd9292fdf40e.css?v=1688040450\" rel=\"stylesheet\" media=\"print\">\\n<link href=\"https://hasznaltauto.medija.hu/new_test/assets/d98724c6543d0a22aad6e41ace62b190.css?v=1688040406\" rel=\"stylesheet\">\\n<link href=\"https://hasznaltauto.medija.hu/new_test/assets/710d9ba41f4e259a63ee0631ddab2123.css?v=1688040298\" rel=\"stylesheet\">\\n<link href=\"https://hasznaltauto.medija.hu/new_test/assets/8add5a25e4094de012aa24d5c92017ab.css?v=1688040418\" rel=\"stylesheet\">\\n<link href=\"https://hasznaltauto.medija.hu/new_test/assets/b5e11ccc/css/blueimp-gallery.min.css?v=1451256315\" rel=\"stylesheet\">\\n<link href=\"https://hasznaltauto.medija.hu/new_test/assets/183e45bc/leaflet.css?v=1498562022\" rel=\"stylesheet\">\\n<link href=\"https://hasznaltauto.medija.hu/new_test/assets/822bde846549bdae207ce8b022e891b5.css?v=1688040379\" rel=\"stylesheet\">\\n<link href=\"https://hasznaltauto.medija.hu/new_test/assets/530bbe32089e7acaeab339999c0525da.css?v=1688040442\" rel=\"stylesheet\">\\n<link href=\"https://hasznaltauto.medija.hu/new_test/assets/89c550a8218a8f8bf8ad6cdc4369995d.css?v=1688040412\" rel=\"stylesheet\">\\n<link href=\"https://hasznaltauto.medija.hu/new_test/assets/ee5809db7199d4846ab81319b0eb6bca.css?v=1688040313\" rel=\"stylesheet\">\\n<link href=\"https://hasznaltauto.medija.hu/new_test/assets/a29a3e1121e631591da9306b7f81fcae.css?v=1688040292\" rel=\"stylesheet\">\\n<link href=\"https://hasznaltauto.medija.hu/new_test/assets/8246866de27feb01fbc168a182e72188.css?v=1688040228\" rel=\"stylesheet\">\\n<link href=\"https://hasznaltauto.medija.hu/new_test/assets/339a649d263e6027c65be072eb412ba5.css?v=1688040222\" rel=\"stylesheet\">\\n<link href=\"https://hasznaltauto.medija.hu/new_test/assets/3a596dc736e5980adc0e717843e9bb11.css?v=1688040282\" rel=\"stylesheet\">\\n<link href=\"https://hasznaltauto.medija.hu/new_test/assets/f429d57e9863dc0d0da8739133fed3e8.css?v=1688040335\" rel=\"stylesheet\">\\n<link href=\"https://hasznaltauto.medija.hu/new_test/assets/5e780d05e0c82e6dc59c0bb5cec9234f.css?v=1688040276\" rel=\"stylesheet\">\\n<link href=\"https://hasznaltauto.medija.hu/new_test/assets/4016710cf7292e9d2038f463cf6649a9.css?v=1688040174\" rel=\"stylesheet\">\\n<link href=\"https://hasznaltauto.medija.hu/new_test/assets/d3935abcd1dd74d31f15563ea3538188.css?v=1688040406\" rel=\"stylesheet\">\\n<link href=\"https://hasznaltauto.medija.hu/new_test/assets/33af7fe533114fb097b5385da29a56a0.css?v=1688040340\" rel=\"stylesheet\">\\n<link href=\"https://hasznaltauto.medija.hu/new_test/assets/e710e0f1beda9da12de1a7c2bd762360.css?v=1688040265\" rel=\"stylesheet\">\\n<link href=\"https://hasznaltauto.medija.hu/new_test/assets/078f0e0df04fee3bb51cc9861521a7da.css?v=1688040282\" rel=\"stylesheet\">\\n<link href=\"https://hasznaltauto.medija.hu/new_test/assets/e05e3ee9082245fcf4b571ff40b63ec5.css?v=1688040270\" rel=\"stylesheet\">\\n<link href=\"https://hasznaltauto.medija.hu/new_test/assets/a84e4458b1f730a7af7a9444d65b4abe.css?v=1688040257\" rel=\"stylesheet\">\\n<link href=\"https://hasznaltauto.medija.hu/new_test/assets/a8aa7b964cf99f74b6ad0e053944c0aa.css?v=1688040258\" rel=\"stylesheet\">\\n<script src=\"https://static.hasznaltauto.hu/LoginForm.js\" defer=\"\"></script>\\n<script src=\"https://static.hasznaltauto.hu/FooterCopyrightBar.js\" defer=\"\"></script>\\n<script src=\"https://hasznaltauto.medija.hu/new_test/assets/1f04843bbd67af25fa85bb440e5edbd9.js?v=1688040436\" defer=\"\" crossorigin=\"crossorigin\"></script>\\n<script src=\"https://hasznaltauto.medija.hu/new_test/assets/c82bdb675f44522bcf9997574dcb95d5.js?v=1688040180\" defer=\"\" crossorigin=\"crossorigin\"></script>\\n<script src=\"https://hasznaltauto.medija.hu/new_test/assets/77755058c9daa8fd6dd23458d8fb29cd.js?v=1688040307\" defer=\"\" crossorigin=\"crossorigin\"></script>\\n<script src=\"https://hasznaltauto.medija.hu/new_test/assets/83e6815eb68bb946c38f29ed403b6ecf.js?v=1688040418\" defer=\"\" crossorigin=\"crossorigin\"></script>\\n<script src=\"https://hasznaltauto.medija.hu/new_test/assets/f7074a819035f6f97c78aa31a427de87.js?v=1688040187\" defer=\"\" crossorigin=\"crossorigin\"></script>\\n<script src=\"https://hasznaltauto.medija.hu/new_test/assets/33fdab0c9abebc4f048f6a728c0bc8d4.js?v=1688040442\" defer=\"\" crossorigin=\"crossorigin\"></script>\\n<script src=\"https://hasznaltauto.medija.hu/new_test/assets/4ed330f1bc9f0061362db718d9f33d1e.js?v=1688040313\" defer=\"\" crossorigin=\"crossorigin\"></script>\\n<script src=\"https://hasznaltauto.medija.hu/new_test/assets/9484dd223653eac161c7deb75fc57126.js?v=1688040292\" defer=\"\" crossorigin=\"crossorigin\"></script>\\n<script src=\"https://hasznaltauto.medija.hu/new_test/assets/84e297bad05de105b9629b53b5bb80af.js?v=1688040227\" defer=\"\" crossorigin=\"crossorigin\"></script>\\n<script src=\"https://hasznaltauto.medija.hu/new_test/assets/e05fec4fd637c2c0cd1ae0bdc00b5664.js?v=1688040222\" defer=\"\" crossorigin=\"crossorigin\"></script>\\n<script src=\"https://hasznaltauto.medija.hu/new_test/assets/798a8f86e6a4e4ec54e5adb906f6ca6e.js?v=1688040206\" defer=\"\" crossorigin=\"crossorigin\"></script>\\n<script src=\"https://hasznaltauto.medija.hu/new_test/assets/683d95bd6f43b4f2d274da6662bf2da1.js?v=1688040303\" defer=\"\" crossorigin=\"crossorigin\"></script>\\n<script src=\"https://hasznaltauto.medija.hu/new_test/assets/8cc25ba6cd4591bff27c1ad3cfaf96de.js?v=1688040212\" defer=\"\" crossorigin=\"crossorigin\"></script>\\n<script src=\"https://hasznaltauto.medija.hu/new_test/assets/83a56fe3246d58f8784dd4a3cff87285.js?v=1688040217\" defer=\"\" crossorigin=\"crossorigin\"></script>\\n<script src=\"https://hasznaltauto.medija.hu/new_test/assets/553015e0413d1ec3ca8e6a3e09bd1cd9.js?v=1688040401\" defer=\"\" crossorigin=\"crossorigin\"></script>\\n<script src=\"https://hasznaltauto.medija.hu/new_test/assets/5b746c0c1e1e163de0b51a815b438006.js?v=1688040334\" defer=\"\" crossorigin=\"crossorigin\"></script>\\n<script src=\"https://hasznaltauto.medija.hu/new_test/assets/0b1108ae718f24d7cdd308310ea45bd0.js?v=1688040276\" defer=\"\" crossorigin=\"crossorigin\"></script>\\n<script src=\"https://hasznaltauto.medija.hu/new_test/assets/dca9397d7a65eec164eb94046e37f4e3.js?v=1688040406\" defer=\"\" crossorigin=\"crossorigin\"></script>\\n<script src=\"https://hasznaltauto.medija.hu/new_test/assets/4bf18ea290c0e495c5dc0c11a1165b4e.js?v=1688040412\" defer=\"\" crossorigin=\"crossorigin\"></script>\\n<script src=\"https://hasznaltauto.medija.hu/new_test/assets/960b90b64f63a31f36f39cf38ecd84d4.js?v=1688040340\" defer=\"\" crossorigin=\"crossorigin\"></script>\\n<script src=\"https://hasznaltauto.medija.hu/new_test/assets/27b78f996b9aace4e96609e5acaed496.js?v=1688040264\" defer=\"\" crossorigin=\"crossorigin\"></script>\\n<script src=\"https://hasznaltauto.medija.hu/new_test/assets/48ff83c44a4842e7419bf39bab9bb353.js?v=1688040281\" defer=\"\" crossorigin=\"crossorigin\"></script>\\n<script src=\"https://hasznaltauto.medija.hu/new_test/assets/8ea6f0dd3218296827d3e82324bc986d.js?v=1688040270\" defer=\"\" crossorigin=\"crossorigin\"></script>\\n<script src=\"https://hasznaltauto.medija.hu/new_test/assets/a761838baff92dd038e9b60b6244f39d.js?v=1688040257\" defer=\"\" crossorigin=\"crossorigin\"></script>\\n<script src=\"https://hasznaltauto.medija.hu/new_test/assets/acf9dbdb3dddc3a0f6ed171e5041e8d4.js?v=1688040318\" defer=\"\" crossorigin=\"crossorigin\"></script>\\n<script type=\"text/javascript\">window.checkboxX_5005a241 = {\"size\":\"md\",\"threeState\":false,\"iconChecked\":\"\\\\u003Ci class=\\\\u0022glyphicon glyphicon-ok\\\\u0022\\\\u003E\\\\u003C\\\\/i\\\\u003E\",\"iconNull\":\"\\\\u003Ci class=\\\\u0022glyphicon glyphicon-none\\\\u0022\\\\u003E\\\\u003C\\\\/i\\\\u003E\"};\\n\\n\\n        (function() {\\n            var env = \\'prod\\'; // dev or prod\\n            var host = \\'www.hasznaltauto.hu\\';\\n            \\n            !function(t,e){function n(t){return t&&e.XDomainRequest&&!/MSIE 1/.test(navigator.userAgent)?new XDomainRequest:e.XMLHttpRequest?new XMLHttpRequest:void 0}function o(t,e,n){t[e]=t[e]||n}var r=[\"responseType\",\"withCredentials\",\"timeout\",\"onprogress\"];t.ajax=function(t,a){function s(t,e){return function(){c||(a(void 0===f.status?t:f.status,0===f.status?\"Error\":f.response||f.responseText||e,f),c=!0)}}var u=t.headers||{},i=t.body,d=t.method||(i?\"POST\":\"GET\"),c=!1,f=n(t.cors);f.open(d,t.url,!0);var l=f.onload=s(200);f.onreadystatechange=function(){4===f.readyState&&l()},f.onerror=s(null,\"Error\"),f.ontimeout=s(null,\"Timeout\"),f.onabort=s(null,\"Abort\"),i&&(o(u,\"X-Requested-With\",\"XMLHttpRequest\"),e.FormData&&i instanceof e.FormData||o(u,\"Content-Type\",\"application/x-www-form-urlencoded\"));for(var p,m=0,v=r.length;v>m;m++)p=r[m],void 0!==t[p]&&(f[p]=t[p]);for(var p in u)f.setRequestHeader(p,u[p]);return f.send(i),f},e.nanoajax=t}({},function(){return this}());\\n            window.onerror=function(msg,url,line,column){nanoajax.ajax({url:\"https://error-handler.hasznaltauto.hu/js_error_handler\",method:\"POST\",body:\"host=\"+host+\"&env=\"+env+\"&error_msg=\"+msg+\"&error_url=\"+url+\"&error_line=\"+line+\"&error_column=\"+column+\"&screen_width=\"+screen.width+\"&screen_height=\"+screen.height+\"&window_innerwidth=\"+window.innerWidth+\"&window_innerheight=\"+window.innerHeight+\"&title=\"+document.title+\"&cookie=\"+document.cookie,cors:true},function(e,t,n){});window.onerror={};return true}\\n            if(env==\\'prod\\'){var con=window.console=window.console||{};var extractLineNumberAndOrigFuncFromStack=function(stack){if(typeof stack!==\\'string\\'){return{line:\\'\\',origfuncname:\\'\\',stack:\\'\\'}}var stackSplit=stack.split(\\'\\\\n\\');if(stackSplit.length<1){return{line:\\'\\',origfuncname:\\'\\',stack:stack}}var line=stackSplit[stackSplit.length-1];line=(line.indexOf(\\' (\\')>=0?line.split(\\' (\\')[1].substring(0,line.length-1):line.split(\\'at \\')[1]);var origFunc=stack.split(\\'\\\\n\\')[1].match(/\\\\[as\\\\s(\\\\w+)\\\\]/);var origFuncName=(origFunc!=null&&typeof origFunc!==\\'undefined\\'&&typeof origFunc[1]!==\\'undefined\\'?origFunc[1]:\\'\\');return{line:line,origfuncname:origFuncName,stack:stack}};for(var methods=\"error,exception,warn\".split(\\',\\'),func;func=methods.pop();){con[func]=function(){var errorObj=new Error();var errorObjInfo=extractLineNumberAndOrigFuncFromStack(errorObj.stack);var infoFileAndLine=(errorObj.lineNumber?errorObj.fileName+\\':\\'+errorObj.lineNumber+\":1\":errorObjInfo.line);var msg=\\'console\\'+(errorObjInfo.origfuncname==\\'\\'?\\'\\':\\'.\\'+errorObjInfo.origfuncname)+\\' call\\'+(infoFileAndLine==\\'\\'?\\'\\':\\' at \\'+infoFileAndLine)+(typeof arguments[0]!==\\'undefined\\'?\\' with arguments[0]: \\'+arguments[0]:\\'\\')+(errorObjInfo.stack==\\'\\'?\\'\\':\\'\\\\n\\\\n===\\\\n\\\\n\\'+errorObjInfo.stack);nanoajax.ajax({url:\"https://error-handler.hasznaltauto.hu/js_error_handler\",method:\"POST\",body:\"host=\"+host+\"&env=\"+env+\"&error_msg=\"+msg+\"&error_url=\"+window.location.href.toString()+\"&error_line=0&error_column=0&screen_width=\"+screen.width+\"&screen_height=\"+screen.height+\"&window_innerwidth=\"+window.innerWidth+\"&window_innerheight=\"+window.innerHeight+\"&title=\"+document.title+\"&cookie=\"+document.cookie,cors:true},function(e,t,n){});return true}}}\\n        }());\\n        \\nif (!window.mfcPublicPath) window.mfcPublicPath = \"https://static.hasznaltauto.hu/\";\\nwindow.typeahead_ee87697f = {\"minLength\":4};\\n\\n\\n            (function(a,b,c,d){\\n                a=\\'//tags.tiqcdn.com/utag/schibsted/hasznaltauto/prod/utag.js\\';\\n                b=document;c=\\'script\\';d=b.createElement(c);d.src=a;\\n                d.type=\\'text/java\\'+c;d.async=true;\\n                a=b.getElementsByTagName(c)[0];a.parentNode.insertBefore(d,a);\\n                \\n                d.onload = function() {\\n                    var event = document.createEvent(\\'Event\\');\\n                    event.initEvent(\\'utagLoaded\\', false, false);\\n                    document.dispatchEvent(event);\\n                };\\n            })();\\n            </script></head>\\n<body>\\n    <script type=\"text/javascript\">\\n                {\\n                    window.brazeEvent = {\\n                        name: \\'ad_view\\',\\n                        data: {\"category\":\"Szem\\xc3\\xa9lyaut\\xc3\\xb3\",\"brand\":\"VOLKSWAGEN\",\"model\":\"PASSAT\",\"body_type\":\"Sedan\",\"is_own_ad\":false,\"original_price\":6895000,\"discount_price\":6895000,\"total_price\":null,\"is_net_priced\":false,\"title\":\"VOLKSWAGEN PASSAT 2.0 TDI BMT Comfortline DSG ELS\\xc5\\x90 TULAJDONOST\\xc3\\x93L. GY\\xc3\\x81RI F\\xc3\\x89NYEZ\\xc3\\x89S\\xc5\\xb0. GARANT\\xc3\\x81LT KIL\\xc3\\x93M\\xc3\\x89TERREL!!!\",\"ad_url\":\"https:\\\\/\\\\/www.hasznaltauto.hu\\\\/szemelyauto\\\\/volkswagen\\\\/passat\\\\/volkswagen_passat_2.0_tdi_bmt_comfortline_dsg_elso_tulajdonostol_gyari_fenyezesu_garantalt_kilometerrel-19076469\",\"seller_id\":9481,\"has_vin\":true,\"year\":2016,\"seats\":5,\"fuel_type\":\"D\\xc3\\xadzel\",\"mileage\":110000,\"currency\":\"HUF\",\"main_picture_url\":\"https:\\\\/\\\\/hasznaltauto.medija.hu\\\\/9481\\\\/19076469_1.jpg?v=1679317706\"}\\n                    };\\n                }\\n                \\nvar utag_data = {\"website\":\"ha_resp\",\"environment\":\"prod\",\"gemius_enabled\":0,\"google_analytics_enabled\":1,\"xiti_enabled\":0,\"is_mobile\":0,\"event_name\":\"datasheet::professional::passenger_cars::VOLKSWAGEN::PASSAT::2.0::TDI::BMT::Comfortline::DSG::ELS\\xc5\\x90::TULAJDONOST\\xc3\\x93L.::GY\\xc3\\x81RI::F\\xc3\\x89NYEZ\\xc3\\x89S\\xc5\\xb0.::GARANT\\xc3\\x81LT::KIL\\xc3\\x93M\\xc3\\x89TERREL!!!\",\"page_type\":2,\"level2_site\":109,\"spt_is_pulse_enabled\":\"false\",\"region\":\"Pest megye\",\"hirkod\":19076469,\"ad_price\":6895000,\"num_pictures\":12,\"ad_oldness\":141,\"postal_code\":2120,\"category_id\":109,\"subject\":\"VOLKSWAGEN PASSAT 2.0 TDI BMT Comfortline DSG ELS\\xc5\\x90 TULAJDONOST\\xc3\\x93L. GY\\xc3\\x81RI F\\xc3\\x89NYEZ\\xc3\\x89S\\xc5\\xb0. GARANT\\xc3\\x81LT KIL\\xc3\\x93M\\xc3\\x89TERREL!!!\",\"age_group\":\"2016\\\\/3\",\"state\":2,\"design\":10,\"km\":110000,\"clime\":5,\"gas\":2,\"shifter\":\"A6\",\"size\":5,\"doors_number\":4,\"document_valid\":\"2025\\\\/5\",\"documents\":0,\"color\":190,\"brand\":\"VOLKSWAGEN\",\"model\":\"PASSAT\",\"motor\":1968,\"akcios_ar\":0,\"HD_kepek\":1,\"HD_kepnezegeto\":0,\"cimlap\":0,\"kepalairas\":\"0\",\"keretes\":0,\"eloresorolas\":0,\"acmh_event_type\":\"view_ad\",\"acmh_category_path\":[{\"id\":9,\"name\":\"Passenger cars\"}],\"acmh_page_type\":\"ad_detail\",\"acmh_publisher_type\":\"pro\",\"acmh_search_extension\":\"{}\"};\\n\\n            const hash = document.location.hash.slice(1);\\n            const searchId = new URLSearchParams(hash).get(\\'sid\\');\\n            if(searchId) {\\n                window.utag_data[\\'acmh_search_id\\'] = searchId;\\n            }\\n            </script><div id=\"scroll_top\" class=\"hidden-xs hidden-sm\" onclick=\"$(&#039;html, body&#039;).animate({scrollTop:0}, 500);return false;\">&nbsp;</div><div id=\"w58\" class=\"visible-lg no-print zone-container hidden-print\" style=\"margin: 0;\"><div class=\"zone-label hidden\">HIRDET\\xc3\\x89S</div><div class=\"zone-content\"><div id=\"zonepossible5954582\" class=\"goAdverticum viewportadverticumzone\" data-viewport=\"lg\"></div></div></div><div id=\"bodyContainer\">\\n    <div id=\"wrap\">\\n        <div id=\"BlackWrap\"></div>\\n        <div class=\"visible-xs visible-sm visible-md\"></div>\\n<div id=\"loginform-modal\" class=\"fade modal\" role=\"dialog\" tabindex=\"-1\">\\n<div class=\"modal-dialog \">\\n<div class=\"modal-content\">\\n<div class=\"modal-header\">\\n<div class=\"header-content-container\"><div class=\"modal-headercontent\"><h3>Bejelentkez\\xc3\\xa9s</h3></div></div><div class=\"close\" data-dismiss=\"modal\" aria-hidden=\"true\"><div class=\"material-icon mdi-close\"></div></div>\\n</div>\\n<div class=\"modal-body\">\\n<div\\n    class=\"micro-frontend-component\"\\n    data-mfc-component-name=\"LoginForm\"\\n    data-mfc-props=\\'null\\'\\n>\\n    </div>\\n\\n\\n</div>\\n\\n</div>\\n</div>\\n</div>\\n<div id=\"telepulesvalaszto-modal\" class=\"fade modal\" role=\"dialog\" tabindex=\"-1\">\\n<div class=\"modal-dialog \">\\n<div class=\"modal-content\">\\n<div class=\"modal-header\">\\n<div class=\"header-content-container\"><div class=\"modal-headercontent\"><h3>Az \\xc3\\x96n f\\xc3\\xb6ldrajzi helye</h3></div></div><div class=\"close\" data-dismiss=\"modal\" aria-hidden=\"true\"><div class=\"material-icon mdi-close\"></div></div>\\n</div>\\n<div class=\"modal-body\">\\n<div id=\"w60_alert\" class=\"alert-danger alert fade in\" style=\"display: none\">\\n<button type=\"button\" class=\"close\" data-dismiss=\"alert\" aria-hidden=\"true\">&times;</button>\\n\\nA f\\xc3\\xb6ldrajzi hely felismer\\xc3\\xa9se sikertelen!<div id=\"w60_alert_content\"></div>\\n\\n</div>        <div class=\"row no-gutter telepulesvalaszto-menu\">\\n\\n\\n            <div class=\"col-lg-28 no-gutter\">\\n\\n                \\n                <div class=\"row\">\\n                    <div class=\"col-sm-28\">\\n                        <p>Milyen messze van \\xc3\\x96nt\\xc5\\x91l a meghirdetett j\\xc3\\xa1rm\\xc5\\xb1? K\\xc3\\xa9rj\\xc3\\xbck, adja meg ir\\xc3\\xa1ny\\xc3\\xadt\\xc3\\xb3sz\\xc3\\xa1m\\xc3\\xa1t, \\xc3\\xadgy a tal\\xc3\\xa1lati list\\xc3\\xa1j\\xc3\\xa1ban l\\xc3\\xa1that\\xc3\\xb3v\\xc3\\xa1 v\\xc3\\xa1lik, mely j\\xc3\\xa1rm\\xc5\\xb1 milyen t\\xc3\\xa1vols\\xc3\\xa1gra tal\\xc3\\xa1lhat\\xc3\\xb3 az \\xc3\\x96n lakhely\\xc3\\xa9t\\xc5\\x91l k\\xc3\\xb6z\\xc3\\xbaton!</p><p><a class=\"geolocationget hidden\" data-widgetid=\"w60\">Tal\\xc3\\xa1ljon meg automatikusan!</a></p>                    </div>\\n                    <div class=\"col-sm-28\">\\n                        <form id=\"telepules-form\" action=\"https://www.hasznaltauto.hu/telepulesvalaszto/telepules/megadott-telepules\" method=\"post\" role=\"form\">                        <div class=\"row\">\\n                            <div class=\"col-sm-28 label-own\">\\n                                Ir\\xc3\\xa1ny\\xc3\\xadt\\xc3\\xb3sz\\xc3\\xa1m                            </div>\\n                        </div>\\n                        <div class=\"row\">\\n                            <div class=\"col-sm-28 iranyitoszamContainer\">\\n                                <!--                                itt nem lehet label nek for-ja, mert HTML5 invalid, mivel hidden inputra mutat, ez\\xc3\\xa9rt false-->\\n                                <div class=\"form-group field-telepulesform-telepules required\">\\n\\n<div class=\"input-group\"><div><input type=\"tel\" id=\"telepulesform-irszam\" class=\"form-control\" name=\"TelepulesForm[irszam]\" maxlength=\"4\" iranyitoszamClass=\"col-md-28\" data-krajee-typeahead=\"typeahead_ee87697f\"></div><span id=\"telepulesform-telepules-telepulesnev\" class=\"input-group-addon\"></span></div><input type=\"hidden\" id=\"telepulesform-telepules\" name=\"TelepulesForm[telepules]\">\\n\\n<p class=\"help-block help-block-error\"></p>\\n</div>                            </div>\\n                            <div class=\"col-sm-28 iranyitoszamGombContainer\">\\n                                <button type=\"submit\" class=\"btn btn-primary btn-block\">Telep\\xc3\\xbcl\\xc3\\xa9s ment\\xc3\\xa9se</button>                            </div>\\n                        </div>\\n                        </form>                    </div>\\n\\n                </div>\\n                            </div>\\n\\n        </div>\\n        \\n</div>\\n\\n</div>\\n</div>\\n</div>\\n<div id=\"w61\" class=\"adminLink-captchaPopup modal\" role=\"dialog\" tabindex=\"-1\">\\n<div class=\"modal-dialog \">\\n<div class=\"modal-content\">\\n<div class=\"modal-header\">\\n<div class=\"header-content-container\"><div class=\"modal-headercontent\"><h3>Meger\\xc5\\x91s\\xc3\\xadt\\xc3\\xa9s</h3></div></div><div class=\"close\" data-dismiss=\"modal\" aria-hidden=\"true\"><div class=\"material-icon mdi-close\"></div></div>\\n</div>\\n<div class=\"modal-body\">\\n\\n<p class=\"adminLink-captchaPopup-disclaimer\">\\n    Az esetleges vissza\\xc3\\xa9l\\xc3\\xa9sek elker\\xc3\\xbcl\\xc3\\xa9se \\xc3\\xa9s az\\n    \\xc3\\x96n v\\xc3\\xa9delme \\xc3\\xa9rdek\\xc3\\xa9ben k\\xc3\\xa9rj\\xc3\\xbck, er\\xc5\\x91s\\xc3\\xadtse meg a bel\\xc3\\xa9p\\xc3\\xa9s\\xc3\\xa9t.\\n    Meg\\xc3\\xa9rt\\xc3\\xa9s\\xc3\\xa9t \\xc3\\xa9s t\\xc3\\xbcrelm\\xc3\\xa9t k\\xc3\\xb6sz\\xc3\\xb6nj\\xc3\\xbck!\\n</p>\\n\\n<input type=\"hidden\" id=\"w62-reCaptcha\" name=\"reCaptcha\"><div id=\"w62-reCaptcha-recaptcha\" class=\"g-recaptcha adminLink-captchaPopup-reCaptcha\" data-sitekey=\"6LetBcAaAAAAAN6XEnqpDRNvoa9dkcFAmV1HjoxC\" data-size=\"normal\" data-render=\"onload\" data-callback=\"adminLinkCaptchaCB\" input-id=\"w62-reCaptcha\" form-id=\"\"></div>\\n</div>\\n\\n</div>\\n</div>\\n</div><nav class=\"navbar-hza-main navbar navbar-inverse\">\\n  \\t<div class=\"container\">\\n  \\t\\t<div class=\"navbar-header\">\\n                        <button type=\"button\" class=\"navbar-toggle collapsed\" data-toggle=\"collapse\" data-target=\"#main-navigation-collapseable\" aria-expanded=\"false\">\\n                <span class=\"sr-only\">Toggle navigation</span>\\n                <i class=\"material-icon mdi-menu\" aria-hidden=\"true\"></i>\\n            </button>\\n                        <a class=\"navbar-brand navbar-brand-hza\" href=\"/\" aria-label=\"hasznaltauto.hu\"></a>\\n  \\t\\t</div>\\n\\n        <div class=\"navbar-hza-table-container\">\\n            <div class=\"navbar-hza-navs collapse navbar-collapse\">\\n\\n                                <div class=\"navbar-hza-btn-close\">\\n                    <div class=\"navbar-hza-btn-close-wrapper\">\\n                        <button class=\"navbar-hza-close\" type=\"button\" aria-label=\"close\">\\n                            <i class=\"material-icon mdi-close\" aria-hidden=\"true\"></i>\\n                        </button>\\n                    </div>\\n                </div>\\n\\n                <ul class=\"nav navbar-nav\">\\n\\n                                        <li class=\"dropdown\">\\n    <a\\n        href=\"javascript:void(0)\"\\n        class=\"dropdown-toggle\"\\n        data-toggle=\"dropdown\"\\n        role=\"button\"\\n        aria-haspopup=\"true\"\\n        aria-expanded=\"false\"\\n    >\\n        Szolg\\xc3\\xa1ltat\\xc3\\xa1saink <i class=\"material-icon mdi-keyboard-arrow-down\" aria-hidden=\"true\"></i>\\n    </a>\\n    <ul class=\"dropdown-menu\">\\n\\n            <li>\\n            <a href=\"https://www.hasznaltauto.hu/araink\">\\n\\n                \\n                Hirdet\\xc3\\xa9sfelad\\xc3\\xa1s keresked\\xc3\\xa9sk\\xc3\\xa9nt\\n                \\n            </a>\\n        </li>\\n            <li>\\n            <a href=\"https://www.hasznaltauto.hu/hirdetesfigyelo\">\\n\\n                \\n                Hirdet\\xc3\\xa9sfigyel\\xc5\\x91\\n                \\n            </a>\\n        </li>\\n            <li>\\n            <a href=\"https://www.hasznaltauto.hu/popup/nagyito\" class=\"adminlink\">\\n\\n                \\n                HD k\\xc3\\xa9pn\\xc3\\xa9zeget\\xc5\\x91\\n                \\n            </a>\\n        </li>\\n            <li>\\n            <a href=\"https://www.hasznaltauto.hu/finanszirozas\">\\n\\n                \\n                Finansz\\xc3\\xadroz\\xc3\\xa1s\\n                \\n            </a>\\n        </li>\\n    \\n    </ul>\\n</li>\\n                                        <li class=\"dropdown\">\\n    <a\\n        href=\"javascript:void(0)\"\\n        class=\"dropdown-toggle\"\\n        data-toggle=\"dropdown\"\\n        role=\"button\"\\n        aria-haspopup=\"true\"\\n        aria-expanded=\"false\"\\n    >\\n        Hasznos <i class=\"material-icon mdi-keyboard-arrow-down\" aria-hidden=\"true\"></i>\\n    </a>\\n    <ul class=\"dropdown-menu\">\\n\\n            <li>\\n            <a href=\"https://www.hasznaltauto.hu/hirek\">\\n\\n                \\n                H\\xc3\\xadrek\\n                \\n            </a>\\n        </li>\\n            <li>\\n            <a href=\"https://www.hasznaltauto.hu/alvazszam-lekerdezes\">\\n\\n                \\n                Alv\\xc3\\xa1zsz\\xc3\\xa1m t\\xc3\\xa1j\\xc3\\xa9koztat\\xc3\\xb3\\n                \\n            </a>\\n        </li>\\n            <li>\\n            <a href=\"https://www.hasznaltauto.hu/dokumentumtar\">\\n\\n                \\n                Dokumentumt\\xc3\\xa1r\\n                \\n            </a>\\n        </li>\\n            <li>\\n            <a href=\"https://www.hasznaltauto.hu/gepjarmu-atiratas\">\\n\\n                \\n                G\\xc3\\xa9pj\\xc3\\xa1rm\\xc5\\xb1-\\xc3\\xa1tirat\\xc3\\xa1s\\n                \\n            </a>\\n        </li>\\n            <li>\\n            <a href=\"https://www.hasznaltauto.hu/regisztraciosado-kalkulator\">\\n\\n                \\n                Regisztr\\xc3\\xa1ci\\xc3\\xb3s ad\\xc3\\xb3 kalkul\\xc3\\xa1tor\\n                \\n            </a>\\n        </li>\\n            <li>\\n            <a href=\"https://www.hasznaltauto.hu/linkek\">\\n\\n                \\n                Aj\\xc3\\xa1nlott oldalak\\n                \\n            </a>\\n        </li>\\n            <li>\\n            <a href=\"https://www.hasznaltauto.hu/adasveteli-minta\">\\n\\n                \\n                Ad\\xc3\\xa1sv\\xc3\\xa9teli szerz\\xc5\\x91d\\xc3\\xa9s minta\\n                \\n            </a>\\n        </li>\\n            <li>\\n            <a href=\"https://www.hasznaltauto.hu/szolgaltatas-tajekoztato\">\\n\\n                \\n                Int\\xc3\\xa9zze ak\\xc3\\xa1r otthon\\xc3\\xa1b\\xc3\\xb3l t\\xc3\\xa1j\\xc3\\xa9koztat\\xc3\\xb3\\n                \\n            </a>\\n        </li>\\n            <li>\\n            <a href=\"https://www.hasznaltauto.hu/garanciak\">\\n\\n                \\n                Garanci\\xc3\\xa1lis le\\xc3\\xadr\\xc3\\xa1sok\\n                \\n            </a>\\n        </li>\\n    \\n    </ul>\\n</li>\\n                    \\n                                        <li class=\"navbar-hza-link\">\\n    <a href=\"javascript: void(0)\" data-toggle=\"modal\" data-target=\"#telepulesvalaszto-modal\" >\\n\\n                <i class=\"material-icon mdi-location-off navbar-hza-location\" aria-hidden=\"true\"></i>\\n        \\n        Telep\\xc3\\xbcl\\xc3\\xa9s\\n            </a>\\n</li>\\n\\n                </ul>\\n\\n                                <ul class=\"nav navbar-nav navbar-right navbar-hza-publish-ad\">\\n                    <li>\\n                        <button\\n                            type=\"button\"\\n                            class=\"btn btn-success navbar-btn-hza adminlink publish-new-ad\"\\n                             data-target=\"/ingyenes-hirdetesfeladas\">\\n                            <i class=\"material-icon mdi-add-circle\" aria-hidden=\"true\"></i> Hirdet\\xc3\\xa9sfelad\\xc3\\xa1s                        </button>\\n                    </li>\\n                </ul>\\n\\n                <ul\\n                    class=\"nav navbar-nav navbar-right no-border\"\\n                    data-hj-suppress\\n                >\\n\\n                                        <li class=\"navbar-hza-link\">\\n    <a href=\"javascript: void(0)\" data-toggle=\"login\" >\\n\\n        \\n        Bel\\xc3\\xa9p\\xc3\\xa9s\\n            </a>\\n</li>\\n                                        <li class=\"navbar-hza-link\">\\n    <a href=\"https://www.hasznaltauto.hu/regisztracio\" >\\n\\n        \\n        Regisztr\\xc3\\xa1ci\\xc3\\xb3\\n            </a>\\n</li>\\n                    \\n                    \\n                    \\n                </ul>\\n\\n                                            </div>\\n        </div>\\n  \\t</div>\\n</nav>\\n\\n        <div class=\"container\">\\n            <div id=\"w63\">\\n\\n</div>\\n<div class=\"css-tracking rubicon-1x1\" data-brand=\"volkswagen\"></div>\\n\\n<div class=\"css-tracking rubicon-1x1\" data-category=\"szemelyauto\"></div>\\n\\n<div class=\"css-tracking rubicon-1x1\" data-price-range=\"6000001_8000000\"></div>\\n\\n<div class=\"css-tracking rubicon-1x1\" data-fuel=\"dizel\"></div>\\n<div id=\"w0\" class=\"no-print hidden zone-container hidden-print\"><div class=\"zone-content\"><div id=\"zonepossible5184924\" class=\"goAdverticum viewportadverticumzone\" data-viewport=\"&gt;=xs\"></div></div></div><div class=\"adatlap\">\\n    <div class=\"row\">\\n        <div class=\"col-xs-28 no-print\">\\n            \\n<div\\n        id=\"localContent4968928\"\\n        class=\"local-content zone-container  visible-lg no-print\"\\n        style=\"\"\\n        data-fallback-img=\"https://hasznaltauto.medija.hu/new_test/images/local_content_banner.png\"\\n        data-fallback-url=\"https://admin.hasznaltauto.hu/\"\\n        data-alt=\"Kattints a hirdet\\xc3\\xa9sfelad\\xc3\\xa1shoz!\"\\n>\\n    <div class=\"local-content__zone\">\\n        <div id=\"w2\" class=\"visible-lg no-print zone-container hidden-print\"><div class=\"zone-label hidden\">HIRDET\\xc3\\x89S</div><div class=\"zone-content\"><div id=\"zonepossible4968928\" class=\"goAdverticum viewportadverticumzone\" data-viewport=\"lg\"></div></div></div>    </div>\\n</div>\\n<div id=\"w3\" class=\"visible-md-block no-print zone-container hidden-print\"><div class=\"zone-label hidden\">HIRDET\\xc3\\x89S</div><div class=\"zone-content\"><div id=\"zonepossible4969437\" class=\"goAdverticum viewportadverticumzone\" data-viewport=\"md\"></div></div></div><div><div id=\"w4\" class=\"visible-sm-block no-print zone-container hidden-print\" style=\"margin-top: -15px; margin-bottom: 5px; max-height: 280px;\"><div class=\"zone-label hidden\">HIRDET\\xc3\\x89S</div><div class=\"zone-content\"><div id=\"zonepossible4969440\" class=\"goAdverticum viewportadverticumzone\" data-viewport=\"sm\"></div></div></div></div><div></div>        </div>\\n        <div class=\"col-xs-28 col-md-20\">\\n            <div class=\"row\">\\n                <div class=\"col-xs-28 adatlap-fejlec-nav\">\\n                    <div class=\"col-md-18 no-gutter\">\\n                        <ul class=\"breadcrumb\"><li><a class=\"active\" href=\"https://www.hasznaltauto.hu/\" title=\"Haszn\\xc3\\xa1ltaut\\xc3\\xb3.hu\" data-toggle=\"tooltip\">Haszn\\xc3\\xa1ltaut\\xc3\\xb3.hu</a></li>\\n<li><a type=\"kategoria\" class=\"active\" href=\"https://www.hasznaltauto.hu/szemelyauto\" title=\"Elad\\xc3\\xb3 szem\\xc3\\xa9lyaut\\xc3\\xb3\" data-toggle=\"tooltip\">Szem\\xc3\\xa9lyaut\\xc3\\xb3</a></li>\\n<li><a type=\"marka\" class=\"active\" href=\"https://www.hasznaltauto.hu/szemelyauto/volkswagen\" title=\"Elad\\xc3\\xb3 VOLKSWAGEN\" data-toggle=\"tooltip\">VOLKSWAGEN</a></li>\\n<li><a type=\"modell\" class=\"active\" href=\"https://www.hasznaltauto.hu/szemelyauto/volkswagen/passat\" title=\"Elad\\xc3\\xb3 VOLKSWAGEN PASSAT\" data-toggle=\"tooltip\">PASSAT</a></li>\\n</ul>                    </div>\\n                    <div class=\"nav nav-vissza col-md-10 hidden-sm hidden-xs pull-right text-right\">\\n                        <ul class=\"breadcrumb\">\\n                            <li><a href=\"https://www.hasznaltauto.hu/szemelyauto/volkswagen/passat\">Vissza a tal\\xc3\\xa1lati oldalra</a></li>                            <li class=\"active\">\\n                                <a class=\"adview-new-search\" href=\"/kereso/szemelyauto\">\\xc3\\x9aj keres\\xc3\\xa9s ind\\xc3\\xadt\\xc3\\xa1sa</a>                            </li>\\n                        </ul>\\n                    </div>\\n                </div>\\n\\n                <div class=\"col-xs-28\">\\n                    \\n                </div>\\n\\n                <div class=\"col-xs-28\">\\n\\n                    <div class=\"tab-container touch-tab adatlap hidden-xs hidden-sm hidden-md\"><div class=\"tab-holder scroll-holder\"><ul id=\"w41\" class=\"adatlaptab nav nav-tabs\"><li class=\"active\"><a href=\"#adatlap\" data-toggle=\"tab\">J\\xc3\\xa1rm\\xc5\\xb1 adatlap</a></li></ul>\\n</div></div><div class=\"tab-content adatlap-content\"><div id=\"adatlap\" class=\"tab-pane active\"><div class=\"adatlap-header row\">\\n        <div class=\"adatlap-megosztas\"><div class=\"fbshare\"><a title=\"Facebook megoszt\\xc3\\xa1s\" onclick=\"fbShare(&#039;https%3A%2F%2Fwww.hasznaltauto.hu%2Fszemelyauto%2Fvolkswagen%2Fpassat%2Fvolkswagen_passat_2.0_tdi_bmt_comfortline_dsg_elso_tulajdonostol_gyari_fenyezesu_garantalt_kilometerrel-19076469&#039;, 500, 480);return false;\"></a></div></div>    <div class=\"adatlap-cim col-xs-28 col-lg-23\">\\n        <h1>VOLKSWAGEN PASSAT 2.0 TDI BMT Comfortline DSG ELS\\xc5\\x90 TULAJDONOST\\xc3\\x93L. GY\\xc3\\x81RI F\\xc3\\x89NYEZ\\xc3\\x89S\\xc5\\xb0. GARANT\\xc3\\x81LT KIL\\xc3\\x93M\\xc3\\x89TERREL!!!</h1>\\n    </div>\\n        <div class=\"clearfix\"></div>\\n</div>\\n\\n<div class=\"adatlap-adatok row\">\\n    <div class=\"col-xs-28 col-lg-13 adatlap-fulek-kontener\">\\n\\n        <div class=\"adatlap_fulek\">\\n        <div class=\"tab-container touch-tab adatlap egyszeru\"><div class=\"tab-holder scroll-holder\"><ul id=\"adatlapContainer\" class=\"adatlaptab nav nav-tabs\"><li class=\"active\"><a class=\"hirdetes-kepek\" href=\"#kepek\" data-toggle=\"tab\"><span>12</span></a></li>\\n<li id=\"hirdetes-hdkep\" onclick=\"hdkep(this, &#039;default&#039;); return false;\" data-token=\"JA2LPMG0SA0EUC36SP1LO7TWS40LPM3OJA0EAMG0SA2SDCW3SU2SSC34JA4EZZHRSM0ESM1TMP3EY3W5SHELMCW5SHWPU\" data-hash=\"9481|19076469\" data-xldb=\"12\" data-kepindex=\"0-1-2-3-4-5-6-7-8-9-10-11\" data-kep=\"1\"><a class=\"hirdetes-hd-kepek\" href=\"#hdkepek\"><span>HD k\\xc3\\xa9pek</span></a></li>\\n<li><a class=\"hirdetes-terkep\" href=\"#hirdetes-terkep\" data-toggle=\"tab\"><span>T\\xc3\\xa9rk\\xc3\\xa9p</span></a></li></ul>\\n</div></div><div class=\"tab-content\"><div id=\"kepek\" class=\"kepkontener tab-pane active\"><div class=\"kepek-container\">    <div class=\"adatlap-kepek-placeholder\" id=\"adatlap-kepek-placeholder\">\\n        <img class=\"adatlap-kepek-placeholder-image\" \\n            src=\"https://hasznaltauto.medija.hu/9481/19076469_1.jpg?v=1679317706\"\\n            alt=\"VOLKSWAGEN PASSAT 2.0 TDI BMT Comfortline DSG ELS\\xc5\\x90 TULAJDONOST\\xc3\\x93L. GY\\xc3\\x81RI F\\xc3\\x89NYEZ\\xc3\\x89S\\xc5\\xb0. GARANT\\xc3\\x81LT KIL\\xc3\\x93M\\xc3\\x89TERREL!!!\" \\n            data-hj-suppress>            <div class=\"black-backdrop mobile-gallery\">\\n            <div class=\"black-backdrop__counter\">\\n                <span class=\"black-backdrop__counter-current\">1</span>\\n                &nbsp;/&nbsp;\\n                12            </div>\\n            <div class=\"black-backdrop__button close material-icon mdi-close\"></div>\\n            <div class=\"black-backdrop__container\">\\n                                    <a class=\"mobile-gallery-pager dir-prev\">\\n                        <div class=\"material-icon mdi-arrow-back\" data-irany=\"elozo\"></div>\\n                    </a>\\n                    <a class=\"mobile-gallery-pager dir-next\">\\n                        <div class=\"material-icon mdi-arrow-forward\" data-irany=\"kovetkezo\"></div>\\n                    </a>\\n                                <div id=\"blueimp-gallery\" class=\"no-print hidden-lg blueimp-gallery blueimp-gallery-controls blueimp-gallery-carousel\"><div class=\"slides\"></div>\\n<h3 class=\"title\"></h3>\\n<a class=\"prev\">\\xe2\\x80\\xb9</a>\\n<a class=\"next\">\\xe2\\x80\\xba</a>\\n<a class=\"play-pause\"></a>\\n<ol class=\"indicator\"></ol></div>            </div>\\n                        </div>\\n    \\n<div id=\"adatlapKepnezo\" class=\"fade modal\" role=\"dialog\" tabindex=\"-1\">\\n<div class=\"modal-dialog \">\\n<div class=\"modal-content\">\\n<div class=\"modal-header\">\\n<div class=\"header-content-container\"><div class=\"modal-headercontent\"><h4>Elad\\xc3\\xb3 haszn\\xc3\\xa1lt VOLKSWAGEN PASSAT 2.0 TDI BMT Comfortline DSG ELS\\xc5\\x90 TULAJDONOST\\xc3\\x93L. GY\\xc3\\x81RI... - gal\\xc3\\xa9ria</h4></div></div><div class=\"close\" data-dismiss=\"modal\" aria-hidden=\"true\"><div class=\"material-icon mdi-close\"></div></div>\\n</div>\\n<div class=\"modal-body\">\\n<div class=\"adatlap-kepnezo-kontener\" data-hirkod=\"19076469\">\\n    <div class=\"adatlap-kepnezo-nagykep-kontener\">\\n\\n                <div class=\"xlkep-gomb opa xl-aktiv\" onclick=\"$(\\'#adatlapKepnezo\\').modal(\\'hide\\');hdkep(this); return false;\" data-token=\"JA2LPMG0SA0EUC36SP1LO7TWS40LPM3OJA0EAMG0SA2SDCW3SU2SSC34JA4EZZHRSM0ESM1TMP3EY3W5SHELMCW5SHWPU\" data-hash=\"9481|19076469\" data-xldb=\"12\" data-kepindex=\"0-1-2-3-4-5-6-7-8-9-10-11\" data-kep=\"0\"></div>\\n        \\n        <div class=\"kep-szamozas opa\"><span class=\"mostani-kep\">1</span>&nbsp;/&nbsp;<span class=\"osszes-kep\">12</span></div>\\n        <div class=\"adatlap-kepnezo-nagykep\" id=\"adatlap-kepnezo-nagykep\">\\n            <div id=\"blueimp-modal-gallery\" class=\"no-print blueimp-gallery blueimp-gallery-controls blueimp-gallery-carousel\"><div class=\"slides\"></div>\\n<h3 class=\"title\"></h3>\\n<a class=\"prev\">\\xe2\\x80\\xb9</a>\\n<a class=\"next\">\\xe2\\x80\\xba</a>\\n<a class=\"play-pause\"></a>\\n<ol class=\"indicator\"></ol></div>        </div>\\n                    <a class=\"lapozo elozo aktiv\"><div class=\"nyil opa material-icon mdi-arrow-back\" data-irany=\"elozo\"></div></a>\\n            <a class=\"lapozo aktiv kovetkezo\"><div class=\"nyil opa material-icon mdi-arrow-forward\" data-irany=\"kovetkezo\"></div></a>\\n            </div>\\n    <div class=\"adatlap-kepnezo-kiskep-kontener\" id=\"adatlap-kepnezo-kiskep-kontener\">\\n            </div>\\n</div>\\n<div class=\"adatlap-kepnezo-oldalso-kontener\">\\n    <div id=\"w19\" class=\"visible-lg no-print hidden zone-container hidden-print\" style=\"display: none !important\"><div class=\"zone-label hidden\">HIRDET\\xc3\\x89S</div><div class=\"zone-content\"><div id=\"zonepossible5040209\" class=\"goAdverticum viewportadverticumzone\" data-viewport=\"lg\"></div></div></div>\\n    <div id=\"w20\" class=\"visible-lg no-print hidden zone-container hidden-print\"><div class=\"zone-label hidden\">HIRDET\\xc3\\x89S</div><div class=\"zone-content\"><div id=\"zonepossible4968952\" class=\"galleryBanner manuallyLoadedAdverticum viewportadverticumzone\" style=\"width: 300px; height: 440px;\" data-viewport=\"lg\" data-zone-id=\"4968952\"></div></div></div>    <div id=\"survey_nekunkszamit\" style=\"margin-top: -15px; margin-bottom: 15px; display: none;\">\\n        <a href=\"https://survey.hasznaltauto.hu/476748\" target=\"_blank\" style=\"font-size: 12px; color: #0464A4; cursor: pointer; outline: medium none; text-decoration: none;\">Kereste, \\xc3\\xa9s n\\xc3\\xa1lunk megtal\\xc3\\xa1lta? \\xc3\\x89ppen ellenkez\\xc5\\x91leg? Mondja el v\\xc3\\xa9lem\\xc3\\xa9ny\\xc3\\xa9t itt! <span style=\"font-size: 12px; font-weight: bolder;\">\\xe2\\x80\\xba</span></a>\\n    </div>\\n    <div id=\"adsense_kepek\" class=\"visible-lg no-print hidden zone-container hidden-print\" style=\"width: 300px; height: 180px; position: absolute; bottom: 0; right: 0;\"><div class=\"zone-label hidden\">HIRDET\\xc3\\x89S</div><div class=\"zone-content\"><div id=\"zonepossible2666161\" class=\"galleryBanner manuallyLoadedAdverticum viewportadverticumzone\" style=\"width: 300px; height: 180px;\" data-viewport=\"lg\" data-zone-id=\"2666161\"></div></div></div></div>\\n<div class=\"clearfix\"></div>\\n\\n</div>\\n\\n</div>\\n</div>\\n</div>    </div>\\n        <div class=\"kepek-scrollbox-kontener\">\\n        <div class=\"kepek-scrollbox scroll-holder\">\\n            <div\\n                class=\"kepek-holder\"\\n                id=\"kepek-holder\"\\n                data-kepekszama=\"11\"\\n                style=\"width: 1348px;\"\\n            >\\n\\n                                    <figure itemprop=\"associatedMedia\" itemscope itemtype=\"http://schema.org/ImageObject\">\\n                        <a\\n                            href=\"https://hasznaltauto.medija.hu/9481/19076469_2.jpg?v=1679317706\"\\n                            itemprop=\"contentUrl\"\\n                            data-size=\"640x480\"\\n                        >\\n                            <img\\n                                src=\"https://hasznaltauto.medija.hu/9481/19076469_2t.jpg?v=1679317706\"\\n                                itemprop=\"thumbnail\"\\n                                alt=\"\"\\n                                data-kepszam=\"1\" data-hj-suppress\\n                            />\\n                        </a>\\n                                            </figure>\\n                                    <figure itemprop=\"associatedMedia\" itemscope itemtype=\"http://schema.org/ImageObject\">\\n                        <a\\n                            href=\"https://hasznaltauto.medija.hu/9481/19076469_3.jpg?v=1679317706\"\\n                            itemprop=\"contentUrl\"\\n                            data-size=\"640x480\"\\n                        >\\n                            <img\\n                                src=\"https://hasznaltauto.medija.hu/9481/19076469_3t.jpg?v=1679317706\"\\n                                itemprop=\"thumbnail\"\\n                                alt=\"\"\\n                                data-kepszam=\"2\" data-hj-suppress\\n                            />\\n                        </a>\\n                                            </figure>\\n                                    <figure itemprop=\"associatedMedia\" itemscope itemtype=\"http://schema.org/ImageObject\">\\n                        <a\\n                            href=\"https://hasznaltauto.medija.hu/9481/19076469_4.jpg?v=1679317706\"\\n                            itemprop=\"contentUrl\"\\n                            data-size=\"640x480\"\\n                        >\\n                            <img\\n                                src=\"https://hasznaltauto.medija.hu/9481/19076469_4t.jpg?v=1679317706\"\\n                                itemprop=\"thumbnail\"\\n                                alt=\"\"\\n                                data-kepszam=\"3\" data-hj-suppress\\n                            />\\n                        </a>\\n                                            </figure>\\n                                    <figure itemprop=\"associatedMedia\" itemscope itemtype=\"http://schema.org/ImageObject\">\\n                        <a\\n                            href=\"https://hasznaltauto.medija.hu/9481/19076469_5.jpg?v=1679317706\"\\n                            itemprop=\"contentUrl\"\\n                            data-size=\"640x480\"\\n                        >\\n                            <img\\n                                src=\"https://hasznaltauto.medija.hu/9481/19076469_5t.jpg?v=1679317706\"\\n                                itemprop=\"thumbnail\"\\n                                alt=\"\"\\n                                data-kepszam=\"4\" data-hj-suppress\\n                            />\\n                        </a>\\n                                            </figure>\\n                                    <figure itemprop=\"associatedMedia\" itemscope itemtype=\"http://schema.org/ImageObject\">\\n                        <a\\n                            href=\"https://hasznaltauto.medija.hu/9481/19076469_6.jpg?v=1679317706\"\\n                            itemprop=\"contentUrl\"\\n                            data-size=\"640x480\"\\n                        >\\n                            <img\\n                                src=\"https://hasznaltauto.medija.hu/9481/19076469_6t.jpg?v=1679317706\"\\n                                itemprop=\"thumbnail\"\\n                                alt=\"\"\\n                                data-kepszam=\"5\" data-hj-suppress\\n                            />\\n                        </a>\\n                                            </figure>\\n                                    <figure itemprop=\"associatedMedia\" itemscope itemtype=\"http://schema.org/ImageObject\">\\n                        <a\\n                            href=\"https://hasznaltauto.medija.hu/9481/19076469_7.jpg?v=1679317706\"\\n                            itemprop=\"contentUrl\"\\n                            data-size=\"640x480\"\\n                        >\\n                            <img\\n                                src=\"https://hasznaltauto.medija.hu/9481/19076469_7t.jpg?v=1679317706\"\\n                                itemprop=\"thumbnail\"\\n                                alt=\"\"\\n                                data-kepszam=\"6\" data-hj-suppress\\n                            />\\n                        </a>\\n                                            </figure>\\n                                    <figure itemprop=\"associatedMedia\" itemscope itemtype=\"http://schema.org/ImageObject\">\\n                        <a\\n                            href=\"https://hasznaltauto.medija.hu/9481/19076469_8.jpg?v=1679317706\"\\n                            itemprop=\"contentUrl\"\\n                            data-size=\"640x480\"\\n                        >\\n                            <img\\n                                src=\"https://hasznaltauto.medija.hu/9481/19076469_8t.jpg?v=1679317706\"\\n                                itemprop=\"thumbnail\"\\n                                alt=\"\"\\n                                data-kepszam=\"7\" data-hj-suppress\\n                            />\\n                        </a>\\n                                            </figure>\\n                                    <figure itemprop=\"associatedMedia\" itemscope itemtype=\"http://schema.org/ImageObject\">\\n                        <a\\n                            href=\"https://hasznaltauto.medija.hu/9481/19076469_9.jpg?v=1679317706\"\\n                            itemprop=\"contentUrl\"\\n                            data-size=\"640x480\"\\n                        >\\n                            <img\\n                                src=\"https://hasznaltauto.medija.hu/9481/19076469_9t.jpg?v=1679317706\"\\n                                itemprop=\"thumbnail\"\\n                                alt=\"\"\\n                                data-kepszam=\"8\" data-hj-suppress\\n                            />\\n                        </a>\\n                                            </figure>\\n                                    <figure itemprop=\"associatedMedia\" itemscope itemtype=\"http://schema.org/ImageObject\">\\n                        <a\\n                            href=\"https://hasznaltauto.medija.hu/9481/19076469_10.jpg?v=1679317706\"\\n                            itemprop=\"contentUrl\"\\n                            data-size=\"640x480\"\\n                        >\\n                            <img\\n                                src=\"https://hasznaltauto.medija.hu/9481/19076469_10t.jpg?v=1679317706\"\\n                                itemprop=\"thumbnail\"\\n                                alt=\"\"\\n                                data-kepszam=\"9\" data-hj-suppress\\n                            />\\n                        </a>\\n                                            </figure>\\n                                    <figure itemprop=\"associatedMedia\" itemscope itemtype=\"http://schema.org/ImageObject\">\\n                        <a\\n                            href=\"https://hasznaltauto.medija.hu/9481/19076469_11.jpg?v=1679317706\"\\n                            itemprop=\"contentUrl\"\\n                            data-size=\"640x480\"\\n                        >\\n                            <img\\n                                src=\"https://hasznaltauto.medija.hu/9481/19076469_11t.jpg?v=1679317706\"\\n                                itemprop=\"thumbnail\"\\n                                alt=\"\"\\n                                data-kepszam=\"10\" data-hj-suppress\\n                            />\\n                        </a>\\n                                            </figure>\\n                                    <figure itemprop=\"associatedMedia\" itemscope itemtype=\"http://schema.org/ImageObject\">\\n                        <a\\n                            href=\"https://hasznaltauto.medija.hu/9481/19076469_12.jpg?v=1679317706\"\\n                            itemprop=\"contentUrl\"\\n                            data-size=\"640x480\"\\n                        >\\n                            <img\\n                                src=\"https://hasznaltauto.medija.hu/9481/19076469_12t.jpg?v=1679317706\"\\n                                itemprop=\"thumbnail\"\\n                                alt=\"\"\\n                                data-kepszam=\"11\" data-hj-suppress\\n                            />\\n                        </a>\\n                                            </figure>\\n                            </div>\\n        </div>\\n    </div>\\n<div id=\"hd-gallery-data-provider\">\\n            <div data-caption=\"\"></div>\\n                <div data-caption=\"\"></div>\\n                <div data-caption=\"\"></div>\\n                <div data-caption=\"\"></div>\\n                <div data-caption=\"\"></div>\\n                <div data-caption=\"\"></div>\\n                <div data-caption=\"\"></div>\\n                <div data-caption=\"\"></div>\\n                <div data-caption=\"\"></div>\\n                <div data-caption=\"\"></div>\\n                <div data-caption=\"\"></div>\\n                <div data-caption=\"\"></div>\\n        </div>\\n</div></div>\\n<div id=\"adatlapContainer-tab1\" class=\"tab-pane\"></div>\\n<div id=\"hirdetes-terkep\" class=\"tab-pane\"><div class=\"adatlap-terkep no-print\">\\n<div id=\"mapContent\" style=\"position: absolute; width: 100%; height: 100%;\"></div></div></div></div>        </div>\\n    </div>\\n    <hr class=\"hidden-lg\" />\\n    <div class=\"col-xs-28 col-lg-15 pull-right adatlap-jobb-hasab\">\\n\\n        <table class=\"hirdetesadatok\"><tr><th colspan=\"2\">\\xc3\\x81r, k\\xc3\\xb6lts\\xc3\\xa9gek</th></tr><tr><td class=\"bal pontos\">V\\xc3\\xa9tel\\xc3\\xa1r:</td><td><strong><div class=\"ListingPagePrice-secondary\">6\\xc2\\xa0895\\xc2\\xa0000\\xc2\\xa0Ft</div></strong></td></tr><tr><td class=\"bal pontos\">V\\xc3\\xa9tel\\xc3\\xa1r EUR:</td><td><strong><div class=\"ListingPagePrice-secondary\">\\xe2\\x82\\xac\\xc2\\xa018\\xc2\\xa0950</div></strong></td></tr><tr><td colspan=\"2\">\\n<div class=\"insura bubble-button-bubble\">\\n    <div class=\"bubble-button-notch\">\\n        <div class=\"bubble-button-notch-left\"></div>\\n        <div class=\"bubble-button-notch-right\"></div>\\n    </div>\\n    <div class=\"bubble-button-content\">\\n        <div class=\"bubble-button-content-flexContainer\">\\n\\n            <div class=\"bubble-button-content-flexContainer-logoContainer\">\\n            </div>\\n            <div class=\"bubble-button-content-flexContainer-linkContainer\">\\n                <a href=\"https://ad.adverticum.net/C/5655698/6359427/635942300?\" target=\"_blank\" rel=\"nofollow\">\\n                    <span>\\n                        \\xc3\\x81t\\xc3\\xadr\\xc3\\xa1s kalkul\\xc3\\xa1tor                    </span>\\n                </a>\\n            </div>\\n        </div>\\n    </div>\\n            <img class=\"bubble-button-img-tracking\" src=\"https://ad.adverticum.net/t/?z=5655698&g=6359427&b=635942300&h=[LOCATION]&p=2\" width=\"0\" height=\"0\">\\n                <div class=\"bubble-button-advertisement-label\">\\n            HIRDET\\xc3\\x89S        </div>\\n    </div>\\n</td></tr><tr><th colspan=\"2\">\\xc3\\x81ltal\\xc3\\xa1nos adatok</th></tr><tr><td class=\"bal pontos\">\\xc3\\x89vj\\xc3\\xa1rat:</td><td><strong>2016/3</strong></td></tr><tr><td class=\"bal pontos\">\\xc3\\x81llapot:</td><td><strong>Kit\\xc5\\xb1n\\xc5\\x91</strong></td></tr><tr><td class=\"bal pontos\">Kivitel:</td><td><strong>Sedan</strong></td></tr><tr><td class=\"bal pontos\">J\\xc3\\xa1rm\\xc5\\xb1el\\xc5\\x91\\xc3\\xa9let:</td><td><strong>El\\xc3\\xa9rhet\\xc5\\x91 aut\\xc3\\xb3-el\\xc5\\x91\\xc3\\xa9let alv\\xc3\\xa1zsz\\xc3\\xa1m alapj\\xc3\\xa1n<div class=\"material-icon mdi-information-outline md-16 mdi-position-relative-vcentered-16 force-show-tooltip information-icon\" title=\"A hirdet\\xc3\\xa9sb\\xc5\\x91l el\\xc3\\xa9rhet\\xc5\\x91 a www.carvertical.hu weboldalon az aut\\xc3\\xb3-el\\xc5\\x91\\xc3\\xa9let lek\\xc3\\xa9rdez\\xc5\\x91 rendszer, melyen kereszt\\xc3\\xbcl egy kattint\\xc3\\xa1ssal megv\\xc3\\xa1s\\xc3\\xa1rolhatja a j\\xc3\\xa1rm\\xc5\\xb1h\\xc3\\xb6z kapcsol\\xc3\\xb3d\\xc3\\xb3 el\\xc5\\x91\\xc3\\xa9let elemz\\xc3\\xa9st a szolg\\xc3\\xa1ltat\\xc3\\xa1s ny\\xc3\\xbajt\\xc3\\xb3ja, a cV Group, UAB \\xc3\\xa1ltal a www.carvertical.hu weboldalon k\\xc3\\xb6zz\\xc3\\xa9tett felt\\xc3\\xa9telek szerint.\" data-toggle=\"tooltip\" data-trigger=\"hover\"></div></strong></td></tr><tr><td colspan=\"2\">\\n<div class=\"carvertical bubble-button-bubble\">\\n    <div class=\"bubble-button-notch\">\\n        <div class=\"bubble-button-notch-left\"></div>\\n        <div class=\"bubble-button-notch-right\"></div>\\n    </div>\\n    <div class=\"bubble-button-content\">\\n        <div class=\"bubble-button-content-flexContainer\">\\n\\n            <div class=\"bubble-button-content-flexContainer-logoContainer\">\\n            </div>\\n            <div class=\"bubble-button-content-flexContainer-linkContainer\">\\n                <a href=\"https://www.carvertical.com/hu/elozetes-ellenorzes?vin=WVWZZZ3CZGE180312&a=has&b=57082549&chan=dskvin\" target=\"_blank\" rel=\"nofollow\">\\n                    <span>\\n                        Ellen\\xc5\\x91rz\\xc3\\xb6m                    </span>\\n                </a>\\n            </div>\\n        </div>\\n    </div>\\n        </div>\\n</td></tr><tr><th colspan=\"2\">Finansz\\xc3\\xadroz\\xc3\\xa1s</th></tr><tr><td class=\"bal pontos\">Finansz\\xc3\\xadroz\\xc3\\xa1s:</td><td><strong>25%-t\\xc3\\xb3l elvihet\\xc5\\x91</strong></td></tr><tr><th colspan=\"2\">J\\xc3\\xa1rm\\xc5\\xb1 adatok</th></tr><tr><td class=\"bal pontos\">Km. \\xc3\\xb3ra \\xc3\\xa1ll\\xc3\\xa1s:</td><td><strong>110\\xc2\\xa0000\\xc2\\xa0km</strong></td></tr><tr><td class=\"bal pontos\">Sz\\xc3\\xa1ll\\xc3\\xadthat\\xc3\\xb3 szem. sz\\xc3\\xa1ma:</td><td><strong>5 f\\xc5\\x91</strong></td></tr><tr><td class=\"bal pontos\">Ajt\\xc3\\xb3k sz\\xc3\\xa1ma:</td><td><strong>4</strong></td></tr><tr><td class=\"bal pontos\">Sz\\xc3\\xadn:</td><td><strong>Fekete (met\\xc3\\xa1l)</strong></td></tr><tr><td class=\"bal pontos\">Saj\\xc3\\xa1t t\\xc3\\xb6meg:</td><td><strong>1\\xc2\\xa0426 kg</strong></td></tr><tr><td class=\"bal pontos\">Teljes t\\xc3\\xb6meg:</td><td><strong>2\\xc2\\xa0040 kg</strong></td></tr><tr><td class=\"bal pontos\">Csomagtart\\xc3\\xb3:</td><td><strong>586 liter</strong></td></tr><tr><td class=\"bal pontos\">Kl\\xc3\\xadma fajt\\xc3\\xa1ja:</td><td><strong>Digit\\xc3\\xa1lis t\\xc3\\xb6bbz\\xc3\\xb3n\\xc3\\xa1s kl\\xc3\\xadma</strong></td></tr><tr><td class=\"bal pontos\">Tet\\xc5\\x91:</td><td><strong>Lemeztet\\xc5\\x91</strong></td></tr><tr><th colspan=\"2\">Motor adatok</th></tr><tr><td class=\"bal pontos\">\\xc3\\x9czemanyag:</td><td><strong>D\\xc3\\xadzel</strong></td></tr><tr><td class=\"bal pontos\">Henger\\xc5\\xb1rtartalom:</td><td><strong>1\\xc2\\xa0968 cm\\xc2\\xb3</strong></td></tr><tr><td class=\"bal pontos\">Teljes\\xc3\\xadtm\\xc3\\xa9ny:</td><td><strong>110\\xc2\\xa0kW, 150\\xc2\\xa0LE</strong></td></tr><tr><td class=\"bal pontos\">Henger-elrendez\\xc3\\xa9s:</td><td><strong>Soros</strong></td></tr><tr><td class=\"bal pontos\">Hajt\\xc3\\xa1s:</td><td><strong>Els\\xc5\\x91 ker\\xc3\\xa9k</strong></td></tr><tr><td class=\"bal pontos\">Sebess\\xc3\\xa9gv\\xc3\\xa1lt\\xc3\\xb3:</td><td><strong>Automata (6 fokozat\\xc3\\xba)</strong></td></tr><tr><th colspan=\"2\">Okm\\xc3\\xa1nyok</th></tr><tr><td class=\"bal pontos\">Okm\\xc3\\xa1nyok jellege:</td><td><strong>\\xc3\\x89rv\\xc3\\xa9nyes magyar okm\\xc3\\xa1nyokkal</strong></td></tr><tr><td class=\"bal pontos\">M\\xc5\\xb1szaki vizsga \\xc3\\xa9rv\\xc3\\xa9nyes:</td><td><strong>2025/5</strong></td></tr><tr><th colspan=\"2\">Abroncs</th></tr><tr><td class=\"bal pontos\">Ny\\xc3\\xa1ri gumi m\\xc3\\xa9ret:</td><td><strong>215/60\\xc2\\xa0R\\xc2\\xa016</strong></td></tr></table><hr>\\n        <div class=\"row felszereltseg\"><div class=\"col-xs-28 col-sm-14\"><h4>M\\xc5\\xb1szaki</h4><ul class=\"pontos\">\\n<li>kulcsn\\xc3\\xa9lk\\xc3\\xbcli nyit\\xc3\\xb3rendszer</li>\\n<li>kulcsn\\xc3\\xa9lk\\xc3\\xbcli ind\\xc3\\xadt\\xc3\\xa1s</li>\\n<li>tolat\\xc3\\xb3radar</li>\\n<li>els\\xc5\\x91-h\\xc3\\xa1ts\\xc3\\xb3 parkol\\xc3\\xb3radar</li>\\n<li>ABS (blokkol\\xc3\\xa1sg\\xc3\\xa1tl\\xc3\\xb3)</li>\\n<li>ASR (kip\\xc3\\xb6rg\\xc3\\xa9sg\\xc3\\xa1tl\\xc3\\xb3)</li>\\n<li>ESP (menetstabiliz\\xc3\\xa1tor)</li>\\n<li>elektronikus r\\xc3\\xb6gz\\xc3\\xadt\\xc5\\x91f\\xc3\\xa9k</li>\\n<li>\\xc3\\xbctk\\xc3\\xb6z\\xc3\\xa9s vesz\\xc3\\xa9lyre felk\\xc3\\xa9sz\\xc3\\xadt\\xc5\\x91 rendszer</li>\\n<li>tempomat</li>\\n<li>guminyom\\xc3\\xa1s-ellen\\xc5\\x91rz\\xc5\\x91 rendszer</li>\\n<li>visszagurul\\xc3\\xa1s-g\\xc3\\xa1tl\\xc3\\xb3</li>\\n<li>f\\xc3\\xa1radts\\xc3\\xa1g\\xc3\\xa9rz\\xc3\\xa9kel\\xc5\\x91</li>\\n<li>koccan\\xc3\\xa1sg\\xc3\\xa1tl\\xc3\\xb3</li>\\n<li>v\\xc3\\xa9szf\\xc3\\xa9k asszisztens</li>\\n<li>centr\\xc3\\xa1lz\\xc3\\xa1r</li>\\n<li>szervokorm\\xc3\\xa1ny</li>\\n<li>r\\xc3\\xa9szecskesz\\xc5\\xb1r\\xc5\\x91</li>\\n<li>start-stop/motormeg\\xc3\\xa1ll\\xc3\\xadt\\xc3\\xb3 rendszer</li>\\n</ul></div> <div class=\"col-xs-28 col-sm-14\"><h4>Belt\\xc3\\xa9r</h4><ul class=\"pontos\">\\n<li>d\\xc3\\xb6nthet\\xc5\\x91 utas\\xc3\\xbcl\\xc3\\xa9sek</li>\\n<li>f\\xc5\\xb1thet\\xc5\\x91 els\\xc5\\x91 \\xc3\\xbcl\\xc3\\xa9s</li>\\n<li>pl\\xc3\\xbcss k\\xc3\\xa1rpit</li>\\n<li>\\xc3\\xbcl\\xc3\\xa9smagass\\xc3\\xa1g \\xc3\\xa1ll\\xc3\\xadt\\xc3\\xa1s</li>\\n<li>k\\xc3\\xb6z\\xc3\\xa9ps\\xc5\\x91 kart\\xc3\\xa1masz</li>\\n<li>automatikusan s\\xc3\\xb6t\\xc3\\xa9ted\\xc5\\x91 bels\\xc5\\x91 t\\xc3\\xbck\\xc3\\xb6r</li>\\n<li>multifunkci\\xc3\\xb3s korm\\xc3\\xa1nyker\\xc3\\xa9k</li>\\n<li>\\xc3\\xa1ll\\xc3\\xadthat\\xc3\\xb3 combt\\xc3\\xa1masz</li>\\n<li>der\\xc3\\xa9kt\\xc3\\xa1masz</li>\\n<li>elektromos \\xc3\\xbcl\\xc3\\xa9s\\xc3\\xa1ll\\xc3\\xadt\\xc3\\xa1s vezet\\xc5\\x91oldal</li>\\n<li>b\\xc5\\x91rkorm\\xc3\\xa1ny</li>\\n<li>f\\xc3\\xbcgg\\xc3\\xb6nyl\\xc3\\xa9gzs\\xc3\\xa1k</li>\\n<li>ISOFIX rendszer</li>\\n<li>kikapcsolhat\\xc3\\xb3 l\\xc3\\xa9gzs\\xc3\\xa1k</li>\\n<li>oldall\\xc3\\xa9gzs\\xc3\\xa1k</li>\\n<li>utasoldali l\\xc3\\xa9gzs\\xc3\\xa1k</li>\\n<li>vezet\\xc5\\x91oldali l\\xc3\\xa9gzs\\xc3\\xa1k</li>\\n<li>\\xc3\\xa1ll\\xc3\\xadthat\\xc3\\xb3 korm\\xc3\\xa1ny</li>\\n<li>fed\\xc3\\xa9lzeti komputer</li>\\n</ul></div><div class=\"clearfix\"></div> <div class=\"col-xs-28 col-sm-14\"><h4>K\\xc3\\xbclt\\xc3\\xa9r</h4><ul class=\"pontos\">\\n<li>automatikusan s\\xc3\\xb6t\\xc3\\xa9ted\\xc5\\x91 k\\xc3\\xbcls\\xc5\\x91 t\\xc3\\xbck\\xc3\\xb6r</li>\\n<li>k\\xc3\\xb6dl\\xc3\\xa1mpa</li>\\n<li>automata f\\xc3\\xa9nysz\\xc3\\xb3r\\xc3\\xb3kapcsol\\xc3\\xa1s</li>\\n<li>bekanyarod\\xc3\\xa1si seg\\xc3\\xa9df\\xc3\\xa9ny</li>\\n<li>es\\xc5\\x91szenzor</li>\\n<li>f\\xc3\\xa9nysz\\xc3\\xb3r\\xc3\\xb3 magass\\xc3\\xa1g\\xc3\\xa1ll\\xc3\\xadt\\xc3\\xa1s</li>\\n<li>elektromos ablak el\\xc3\\xb6l</li>\\n<li>elektromos ablak h\\xc3\\xa1tul</li>\\n<li>elektromos t\\xc3\\xbck\\xc3\\xb6r</li>\\n<li>f\\xc5\\xb1thet\\xc5\\x91 t\\xc3\\xbck\\xc3\\xb6r</li>\\n<li>k\\xc3\\xb6nny\\xc5\\xb1f\\xc3\\xa9m felni</li>\\n<li>sz\\xc3\\xadnezett \\xc3\\xbcveg</li>\\n<li>von\\xc3\\xb3horog</li>\\n<li>p\\xc3\\xb3tker\\xc3\\xa9k</li>\\n</ul></div> <div class=\"col-xs-28 col-sm-14\"><h4>Multim\\xc3\\xa9dia / Navig\\xc3\\xa1ci\\xc3\\xb3</h4><ul class=\"pontos\">\\n<li>mem\\xc3\\xb3riak\\xc3\\xa1rtya-olvas\\xc3\\xb3</li>\\n<li>GPS (navig\\xc3\\xa1ci\\xc3\\xb3)</li>\\n<li>bluetooth-os kihangos\\xc3\\xadt\\xc3\\xb3</li>\\n<li>USB csatlakoz\\xc3\\xb3</li>\\n<li>AUX csatlakoz\\xc3\\xb3</li>\\n<li>MP3 lej\\xc3\\xa1tsz\\xc3\\xa1s</li>\\n<li>MP4 lej\\xc3\\xa1tsz\\xc3\\xa1s</li>\\n<li>\\xc3\\xa9rint\\xc5\\x91kijelz\\xc5\\x91</li>\\n<li>2 DIN</li>\\n<li>8 hangsz\\xc3\\xb3r\\xc3\\xb3</li>\\n<li>HIFI</li>\\n<li>WiFi Hotspot</li>\\n</ul></div><div class=\"clearfix\"></div></div><hr>\\n                    <div class=\"leiras\">\\n                <h4>Le\\xc3\\xadr\\xc3\\xa1s</h4>\\n                <div data-hj-suppress>ELS\\xc5\\x90 TULAJDONOST\\xc3\\x93L \\xc3\\x89RKEZETT HOZZ\\xc3\\x81NK EZ A KIMAGASL\\xc3\\x93 FUT\\xc3\\x81STELJES\\xc3\\x8dTM\\xc3\\x89NNYEL \\xc3\\x89S SZERKEZETI \\xc3\\x81LLAPOTTAL B\\xc3\\x8dR\\xc3\\x93 NYOLCADIK GENER\\xc3\\x81CI\\xc3\\x93S SEDAN PASSAT. KIZ\\xc3\\x81R\\xc3\\x93LAG M\\xc3\\x81RKASZERVIZBEN SZERVIZELVE 90.000KM-ES KOR\\xc3\\x81IG MELY VEZETVE IS VAN \\xc3\\x89S AZ AUT\\xc3\\x93BAN MEGTAL\\xc3\\x81LHAT\\xc3\\x93. F\\xc3\\x89NYEZ\\xc3\\x89SE GY\\xc3\\x81RI VASTAGS\\xc3\\x81GNAK \\xc3\\x96RVEND \\xc3\\x89S EGYS\\xc3\\x89GES. EXTR\\xc3\\x81I RENDELTET\\xc3\\x89SZER\\xc5\\xb0EN HASZ\\xc3\\x81LHAT\\xc3\\x93AK, GY\\xc3\\x96NY\\xc3\\x96R\\xc5\\xb0EN DOLGOZIK A V\\xc3\\x81LT\\xc3\\x93, FUT\\xc3\\x93M\\xc5\\xb0VE KOPPAN\\xc3\\x81SMENTES. SOKAT BIZONYONY\\xc3\\x8dTOTT 2.0 CR TDI MOTOR PEDIG HALKAN DURUZSOL A G\\xc3\\x89PTET\\xc5\\x90 ALATT MELY K\\xc3\\x96NNYED\\xc3\\x89N VISZI A MAJD 2 TONN\\xc3\\x81S AUT\\xc3\\x93T. MAGYARORSZ\\xc3\\x81GI AUT\\xc3\\x93INK K\\xc3\\x96ZPONTI RENDSZEREN KERESZT\\xc3\\x9cL LEELLEN\\xc5\\x90RZ\\xc3\\x96TTEK, AUT\\xc3\\x93INK EREDET\\xc3\\x89T SZAVATOLJUK, R\\xc3\\x89SZLETFIZET\\xc3\\x89S BANKI \\xc3\\x9cGYINT\\xc3\\x89Z\\xc3\\x89ST A HELYSZ\\xc3\\x8dNEN V\\xc3\\x81LLALUNK, AUT\\xc3\\x93INK M\\xc3\\x81R AK\\xc3\\x81R 20% \\xc3\\x96NR\\xc3\\x89SZT\\xc5\\x90L ELVIHET\\xc5\\x90EK. AUT\\xc3\\x93BESZ\\xc3\\x81M\\xc3\\x8dT\\xc3\\x81S MEGOLDHAT\\xc3\\x93, TELEPHELY\\xc3\\x9cNK H\\xc3\\x89TK\\xc3\\x96ZNAP 08:00-18:00-IG, SZOMBATON 10:00-16:00 TART NYITVA. A HIRDET\\xc3\\x89S NEM MIN\\xc5\\x90S\\xc3\\x9cL AJ\\xc3\\x81NLATT\\xc3\\x89TELNEK, AZ \\xc3\\x81RV\\xc3\\x81LTOZTAT\\xc3\\x81S JOG\\xc3\\x81T FENNTARTJUK, A G\\xc3\\x89PJ\\xc3\\x81RM\\xc5\\xb0 FELT\\xc3\\x9cNTETETT FELSZERELTS\\xc3\\x89GE T\\xc3\\x81J\\xc3\\x89KOZTAT\\xc3\\x93 JELLEG\\xc5\\xb0, A PONTOS FELSZERELTS\\xc3\\x89GR\\xc5\\x90L K\\xc3\\x89REM T\\xc3\\x81J\\xc3\\x89KOZ\\xc3\\x93DJON SZEM\\xc3\\x89LYESEN.</div>\\n            </div>\\n            <hr class=\"oldalso\" />\\n        \\n        \\n                    <div class=\"egyebinformacio\">\\n                <h4>Egy\\xc3\\xa9b inform\\xc3\\xa1ci\\xc3\\xb3</h4>\\n                <ul class=\"pontos\">\\n<li>aut\\xc3\\xb3besz\\xc3\\xa1m\\xc3\\xadt\\xc3\\xa1s lehets\\xc3\\xa9ges</li>\\n<li>azonnal elvihet\\xc5\\x91</li>\\n<li>els\\xc5\\x91 forgalomba helyez\\xc3\\xa9s Magyarorsz\\xc3\\xa1gon</li>\\n<li>els\\xc5\\x91 tulajdonost\\xc3\\xb3l</li>\\n<li>garant\\xc3\\xa1lt km fut\\xc3\\xa1s</li>\\n<li>gar\\xc3\\xa1zsban tartott</li>\\n<li>h\\xc3\\xb6lgy tulajdonost\\xc3\\xb3l</li>\\n<li>keveset futott</li>\\n<li>nem doh\\xc3\\xa1nyz\\xc3\\xb3</li>\\n<li>rendszeresen karbantartott</li>\\n<li>vezetett szervizk\\xc3\\xb6nyv</li>\\n<li>25%-t\\xc3\\xb3l elvihet\\xc5\\x91</li>\\n</ul>            </div>\\n            <hr class=\"oldalso\" />\\n                <div class=\"clearfix\"></div>\\n        <div class=\"elerhetosegek\">\\n            <h4>Keresked\\xc3\\xa9s adatai</h4>\\n            <div class=\"year-badge\">\\n                            </div>\\n            <div class=\"elerhetosegek adatlapgombok row no-gutter btn-group-vertical\">\\n<a\\n    class=\"habgicon material-icon mdi-business col-xs-28 contact-button contact-web-address\"\\n    target=\"_blank\"\\n            data-hj-suppress\\n>\\n    <span class=\"contact-button-text\">\\n        FGL FULL 99 Kft    </span>\\n</a>\\n\\n<a\\n    class=\"habgicon haicon-haz contact-button-adview-map col-xs-28 contact-button contact-web-address\"\\n    target=\"_blank\"\\n    href=#adatlapContainer        data-hj-suppress\\n>\\n    <span class=\"contact-button-text\">\\n        Dunakeszi (2120) BAGOLY UTCA 16.<br>T\\xc3\\xa9rk\\xc3\\xa9p megtekint\\xc3\\xa9se    </span>\\n</a>\\n\\n<a\\n    class=\"habgicon haicon-telefon contact-button-captcha no-print col-xs-28 contact-button contact-web-address\"\\n    target=\"_blank\"\\n        data-resolve-tealium-event=phoneRevealed data-link=https://www.hasznaltauto.hu/captcha/reveal-phone-number data-index=1 data-model-id=19076469 data-type=hirdetes data-sitekey=6LfPBMAaAAAAAG-Cz259OmmHyQJZRGgDOHyrbOH7     data-hj-suppress\\n>\\n    <span class=\"contact-button-text\">\\n        (+36) 20/XXXXXXX<br>Telefonsz\\xc3\\xa1m megjelen\\xc3\\xadt\\xc3\\xa9se    </span>\\n</a>\\n\\n<a\\n    class=\"habgicon haicon-telefon contact-button-captcha no-print col-xs-28 contact-button contact-web-address\"\\n    target=\"_blank\"\\n        data-resolve-tealium-event=phoneRevealed data-link=https://www.hasznaltauto.hu/captcha/reveal-phone-number data-index=2 data-model-id=19076469 data-type=hirdetes data-sitekey=6LfPBMAaAAAAAG-Cz259OmmHyQJZRGgDOHyrbOH7     data-hj-suppress\\n>\\n    <span class=\"contact-button-text\">\\n        (+36) 20/XXXXXXX<br>Telefonsz\\xc3\\xa1m megjelen\\xc3\\xadt\\xc3\\xa9se    </span>\\n</a>\\n\\n<a\\n    class=\"habgicon haicon-email contact-button-captcha no-print col-xs-28 contact-button contact-web-address\"\\n    target=\"_blank\"\\n        data-resolve-tealium-event=emailRevealed data-link=https://www.hasznaltauto.hu/captcha/reveal-email data-model-id=19076469 data-type=hirdetes data-sitekey=6LfPBMAaAAAAAG-Cz259OmmHyQJZRGgDOHyrbOH7     data-hj-suppress\\n>\\n    <span class=\"contact-button-text\">\\n        xxxxxxxxxxxxx@xxxxx.xxx<br>E-mail megjelen\\xc3\\xadt\\xc3\\xa9se    </span>\\n</a>\\n\\n<a\\n    class=\"habgicon material-icon mdi-local-offer col-xs-28 contact-button contact-web-address\"\\n    target=\"_blank\"\\n            data-hj-suppress\\n>\\n    <span class=\"contact-button-text\">\\n        Hirdet\\xc3\\xa9sk\\xc3\\xb3d: <strong>19076469</strong>    </span>\\n</a>\\n</div>            \\n<div class=\"recaptcha-links\">\\n    Az oldal Google reCAPTCHA \\xc3\\xa1ltal v\\xc3\\xa9dett, \\xc3\\xa9s a Google <a href=\"https://www.google.com/intl/hu/policies/privacy/\">Adatv\\xc3\\xa9delmi t\\xc3\\xa1j\\xc3\\xa9koztat\\xc3\\xb3ja</a>\\n    \\xc3\\xa9s <a href=\"https://www.google.com/intl/hu/policies/terms/\">\\xc3\\x81SZF</a>-e az ir\\xc3\\xa1nyad\\xc3\\xb3ak.\\n</div>\\n        </div>\\n        <div class=\"clearfix\"></div>\\n\\n        <div class=\"data-relay-banner\" data-vehicle-information-banner-parameters=\\'{\"vetelar\":6895000,\"gyartasiev\":2016,\"gyartasiho\":3,\"gepjarmutipus\":1,\"gepjarmumarka\":\"VOLKSWAGEN PASSAT 2.0 TDI BMT Comfortline DSG ELS\\xc5\\x90 TULAJDONOST\\xc3\\x93L. GY\\xc3\\x81RI F\\xc3\\x89NYEZ\\xc3\\x89S\\xc5\\xb0. GARANT\\xc3\\x81LT KIL\\xc3\\x93M\\xc3\\x89TERREL!!!\",\"kalk_forras\":\"HAHU\",\"cofidisPartnerId\":17987,\"adId\":19076469,\"adURL\":\"https:\\\\/\\\\/www.hasznaltauto.hu\\\\/szemelyauto\\\\/volkswagen\\\\/passat\\\\/volkswagen_passat_2.0_tdi_bmt_comfortline_dsg_elso_tulajdonostol_gyari_fenyezesu_garantalt_kilometerrel-19076469\"}\\'><div id=\"w31\" class=\"visible-xs visible-sm visible-md no-print hidden zone-container hidden-print\" style=\"margin-top: 15px; margin-bottom: 5px;\"><div class=\"zone-label hidden\">HIRDET\\xc3\\x89S</div><div class=\"zone-content\"><div id=\"zonepossible4737261\" class=\"goAdverticum viewportadverticumzone\" data-viewport=\"&lt;=md\"></div></div></div></div>    </div>\\n\\n    <div class=\"col-xs-28 col-lg-13 no-print\">\\n        <hr class=\"oldalso\" />\\n        <div class=\"funkciok\">\\n            <h4 class=\"funkciok\">Funkci\\xc3\\xb3k</h4>\\n        <div id=\"w32\" class=\"funkciok row no-gutter btn-group-vertical\"><a id=\"w33\" class=\"btn hagomb hagomb-nagy col-xs-28 material-icon mdi-local-parking habgicon parkoloBtn\" data-hirkod=\"19076469\" data-toggle=\"button\" data-tealium-action=\"Parkol\\xc3\\xb3ba rakom\" onclick=\"parkolo(this)\"><div class=\"hagomb-belso\">Parkol\\xc3\\xb3ba rakom</div></a>\\n<a id=\"w34\" class=\"btn hagomb hagomb-nagy habgicon col-xs-28 material-icon mdi-report-problem\" rel=\"nofollow\" data-toggle=\"modal\" data-target=\"#adatlaphibajelentes\" data-tealium-action=\"Probl\\xc3\\xa9ma a hirdet\\xc3\\xa9ssel\"><div class=\"hagomb-belso\">Probl\\xc3\\xa9ma a hirdet\\xc3\\xa9ssel</div></a>\\n<a id=\"w35\" class=\"btn hagomb hagomb-nagy habgicon col-xs-28 material-icon mdi-print\" rel=\"nofollow\" data-tealium-action=\"Adatlap nyomtat\\xc3\\xa1sa\" onclick=\"window.print(); event.preventDefault();\"><div class=\"hagomb-belso\">Adatlap nyomtat\\xc3\\xa1sa</div></a>\\n<a id=\"allapotFelmeresBanner\" class=\"btn hagomb habgicon col-xs-28 material-icon mdi-assignment-turned-in\" rel=\"nofollow\" data-tealium-action=\"\\xc3\\x81llapotfelm\\xc3\\xa9r\\xc3\\xa9s erre a j\\xc3\\xa1rm\\xc5\\xb1re\"><div class=\"hagomb-belso\">\\xc3\\x81llapotfelm\\xc3\\xa9r\\xc3\\xa9s erre a j\\xc3\\xa1rm\\xc5\\xb1re <span style=\"color:red;\">(\\xc3\\xbaj)</span></div></a>\\n<div id=\"allapotFelmeresTerkep\" class=\"modal-kontener hidden-md hidden-sm hidden-xs modal\" role=\"dialog\" tabindex=\"-1\">\\n<div class=\"modal-dialog \">\\n<div class=\"modal-content\">\\n<div class=\"modal-header\">\\n<div class=\"header-content-container\"><div class=\"modal-headercontent\"><h4>\\xc3\\x81llapotfelm\\xc3\\xa9r\\xc3\\xa9s, eredetvizsg\\xc3\\xa1lat</h4></div></div><div class=\"close\" data-dismiss=\"modal\" aria-hidden=\"true\"><div class=\"material-icon mdi-close\"></div></div>\\n</div>\\n<div class=\"modal-body\">\\n    <div class=\"frame-container loading-spin\" id=\"allapotFelmeresFrameContainer\">\\n        <iframe id=\"allapotFelmeresFrame\" src=\"about:blank\" frameborder=\"0\" width=\"990\" height=\"600\" class=\"no-print notopen\"></iframe>\\n    </div>\\n\\n</div>\\n\\n</div>\\n</div>\\n</div>\\n<a id=\"w37\" class=\"btn hagomb hagomb-nagy habgicon col-xs-28 material-icon mdi-directions-car\" href=\"https://www.hasznaltauto.hu/partner/fgl_full_99_kft-9481\" data-tealium-action=\"Az elad\\xc3\\xb3 tov\\xc3\\xa1bbi j\\xc3\\xa1rm\\xc5\\xb1vei\"><div class=\"hagomb-belso\">Az elad\\xc3\\xb3 tov\\xc3\\xa1bbi j\\xc3\\xa1rm\\xc5\\xb1vei</div></a></div>            <div>\\n                <div id=\"w38\" class=\"visible-md visible-lg no-print hidden zone-container hidden-print\" style=\"height: 50px; width: 320px; margin-bottom: 0\"><div class=\"zone-content\"><div id=\"zonepossible6489151\" class=\"goAdverticum viewportadverticumzone\" data-viewport=\"&gt;sm\"></div></div></div>            </div>\\n        </div>\\n\\n        <hr class=\"oldalso\" />\\n        <div id=\"w39\" class=\"no-print hidden zone-container hidden-print\" style=\"max-width: 300px; max-height: 250px; display: block; margin: 20px auto;\"><div class=\"zone-label hidden\">HIRDET\\xc3\\x89S</div><div class=\"zone-content\"><div id=\"zone5759205\" class=\"goAdverticum \"></div></div></div>    </div>\\n\\n    \\n<div id=\"adatlaphibajelentes\" class=\"fade modal\" role=\"dialog\" tabindex=\"-1\">\\n<div class=\"modal-dialog \">\\n<div class=\"modal-content\">\\n<div class=\"modal-header\">\\n<div class=\"header-content-container\"><div class=\"modal-headercontent\"><h3>Nem megfelel\\xc5\\x91 hirdet\\xc3\\xa9s bejelent\\xc3\\xa9se</h3></div></div><div class=\"close\" data-dismiss=\"modal\" aria-hidden=\"true\"><div class=\"material-icon mdi-close\"></div></div>\\n</div>\\n<div class=\"modal-body\">\\n<div class=\"row\"><p class=\"col-xs-28\">Ha \\xc3\\xbagy gondolja, hogy a 19076469 hirdet\\xc3\\xa9sk\\xc3\\xb3d alatt szerepl\\xc5\\x91 hirdet\\xc3\\xa9s nem megfelel\\xc5\\x91en van feladva, jelezze a Haszn\\xc3\\xa1ltaut\\xc3\\xb3.hu \\xc3\\xbcgyf\\xc3\\xa9lszolg\\xc3\\xa1lat\\xc3\\xa1nak a k\\xc3\\xb6vetkez\\xc5\\x91 \\xc5\\xb1rlap seg\\xc3\\xadts\\xc3\\xa9g\\xc3\\xa9vel:</p><h4 class=\"col-xs-28\">Hiba jellege</h4></div><form id=\"hibajelentes_form\" action=\"https://www.hasznaltauto.hu/hibajelentes/19076469\" method=\"post\"><div class=\"row\"><div class=\"col-xs-28\"><div class=\"form-group field-hibajelentesform-hibakodok-error\">\\n\\n<input type=\"hidden\" id=\"hibajelentesform-hibakodok-error\" class=\"form-control\" name=\"HibajelentesForm[hibakodok][error]\">\\n\\n<div class=\"help-block\"></div>\\n</div></div></div><fieldset><div class=\"form-group field-hibajelentesform-hibakodok\">\\n\\n<input type=\"hidden\" name=\"HibajelentesForm[hibakodok]\" value=\"\"><div id=\"hibajelentesform-hibakodok\" class=\"row\"><div class=\"col-xs-28 col-sm-14\" style=\"margin-bottom: 5px;\"><div class=\"row\" style=\"word-break:kepp-all;\"><div class=\"col-xs-3 col-sm-3\"><input type=\"text\" id=\"hibajelentesFormHibakodok1\" class=\"cbx-loading\" name=\"HibajelentesForm[hibakodok][1]\" value=\"0\" data-krajee-checkboxX=\"checkboxX_5005a241\"></div><div class=\"col-xs-25 col-sm-25\" style=\"line-height:24px;\"><label for=\"hibajelentesFormHibakodok1\">Nem megfelel\\xc5\\x91 telefonsz\\xc3\\xa1m</label></div></div></div>\\n<div class=\"col-xs-28 col-sm-14\" style=\"margin-bottom: 5px;\"><div class=\"row\" style=\"word-break:kepp-all;\"><div class=\"col-xs-3 col-sm-3\"><input type=\"text\" id=\"hibajelentesFormHibakodok2\" class=\"cbx-loading\" name=\"HibajelentesForm[hibakodok][2]\" value=\"0\" data-krajee-checkboxX=\"checkboxX_5005a241\"></div><div class=\"col-xs-25 col-sm-25\" style=\"line-height:24px;\"><label for=\"hibajelentesFormHibakodok2\">Okm\\xc3\\xa1nyok jellege vagy \\xc3\\xa9rv\\xc3\\xa9nyess\\xc3\\xa9ge nem megfelel\\xc5\\x91</label></div></div></div>\\n<div class=\"col-xs-28 col-sm-14\" style=\"margin-bottom: 5px;\"><div class=\"row\" style=\"word-break:kepp-all;\"><div class=\"col-xs-3 col-sm-3\"><input type=\"text\" id=\"hibajelentesFormHibakodok3\" class=\"cbx-loading\" name=\"HibajelentesForm[hibakodok][3]\" value=\"0\" data-krajee-checkboxX=\"checkboxX_5005a241\"></div><div class=\"col-xs-25 col-sm-25\" style=\"line-height:24px;\"><label for=\"hibajelentesFormHibakodok3\">Le\\xc3\\xadr\\xc3\\xa1sban szerepel a telefonsz\\xc3\\xa1m</label></div></div></div>\\n<div class=\"col-xs-28 col-sm-14\" style=\"margin-bottom: 5px;\"><div class=\"row\" style=\"word-break:kepp-all;\"><div class=\"col-xs-3 col-sm-3\"><input type=\"text\" id=\"hibajelentesFormHibakodok4\" class=\"cbx-loading\" name=\"HibajelentesForm[hibakodok][4]\" value=\"0\" data-krajee-checkboxX=\"checkboxX_5005a241\"></div><div class=\"col-xs-25 col-sm-25\" style=\"line-height:24px;\"><label for=\"hibajelentesFormHibakodok4\">A k\\xc3\\xa9pek nem a hirdet\\xc3\\xa9sben szerepl\\xc5\\x91 j\\xc3\\xa1rm\\xc5\\xb1r\\xc5\\x91l k\\xc3\\xa9sz\\xc3\\xbcltek</label></div></div></div>\\n<div class=\"col-xs-28 col-sm-14\" style=\"margin-bottom: 5px;\"><div class=\"row\" style=\"word-break:kepp-all;\"><div class=\"col-xs-3 col-sm-3\"><input type=\"text\" id=\"hibajelentesFormHibakodok6\" class=\"cbx-loading\" name=\"HibajelentesForm[hibakodok][6]\" value=\"0\" data-krajee-checkboxX=\"checkboxX_5005a241\"></div><div class=\"col-xs-25 col-sm-25\" style=\"line-height:24px;\"><label for=\"hibajelentesFormHibakodok6\">V\\xc3\\xa9tel\\xc3\\xa1rn\\xc3\\xa1l szerepel a kezd\\xc5\\x91r\\xc3\\xa9szlet</label></div></div></div>\\n<div class=\"col-xs-28 col-sm-14\" style=\"margin-bottom: 5px;\"><div class=\"row\" style=\"word-break:kepp-all;\"><div class=\"col-xs-3 col-sm-3\"><input type=\"text\" id=\"hibajelentesFormHibakodok7\" class=\"cbx-loading\" name=\"HibajelentesForm[hibakodok][7]\" value=\"0\" data-krajee-checkboxX=\"checkboxX_5005a241\"></div><div class=\"col-xs-25 col-sm-25\" style=\"line-height:24px;\"><label for=\"hibajelentesFormHibakodok7\">Nem megfelel\\xc5\\x91 \\xc3\\xa1r</label></div></div></div>\\n<div class=\"col-xs-28 col-sm-14\" style=\"margin-bottom: 5px;\"><div class=\"row\" style=\"word-break:kepp-all;\"><div class=\"col-xs-3 col-sm-3\"><input type=\"text\" id=\"hibajelentesFormHibakodok8\" class=\"cbx-loading\" name=\"HibajelentesForm[hibakodok][8]\" value=\"0\" data-krajee-checkboxX=\"checkboxX_5005a241\"></div><div class=\"col-xs-25 col-sm-25\" style=\"line-height:24px;\"><label for=\"hibajelentesFormHibakodok8\">A kivitel hib\\xc3\\xa1san van megadva</label></div></div></div>\\n<div class=\"col-xs-28 col-sm-14\" style=\"margin-bottom: 5px;\"><div class=\"row\" style=\"word-break:kepp-all;\"><div class=\"col-xs-3 col-sm-3\"><input type=\"text\" id=\"hibajelentesFormHibakodok9\" class=\"cbx-loading\" name=\"HibajelentesForm[hibakodok][9]\" value=\"0\" data-krajee-checkboxX=\"checkboxX_5005a241\"></div><div class=\"col-xs-25 col-sm-25\" style=\"line-height:24px;\"><label for=\"hibajelentesFormHibakodok9\">Nem megfelel\\xc5\\x91 kateg\\xc3\\xb3ri\\xc3\\xa1ban van a hirdet\\xc3\\xa9s</label></div></div></div>\\n<div class=\"col-xs-28 col-sm-14\" style=\"margin-bottom: 5px;\"><div class=\"row\" style=\"word-break:kepp-all;\"><div class=\"col-xs-3 col-sm-3\"><input type=\"text\" id=\"hibajelentesFormHibakodok10\" class=\"cbx-loading\" name=\"HibajelentesForm[hibakodok][10]\" value=\"0\" data-krajee-checkboxX=\"checkboxX_5005a241\"></div><div class=\"col-xs-25 col-sm-25\" style=\"line-height:24px;\"><label for=\"hibajelentesFormHibakodok10\">A k\\xc3\\xa9pek ut\\xc3\\xb3lag szerkesztettek</label></div></div></div>\\n<div class=\"col-xs-28 col-sm-14\" style=\"margin-bottom: 5px;\"><div class=\"row\" style=\"word-break:kepp-all;\"><div class=\"col-xs-3 col-sm-3\"><input type=\"text\" id=\"hibajelentesFormHibakodok11\" class=\"cbx-loading\" name=\"HibajelentesForm[hibakodok][11]\" value=\"0\" data-krajee-checkboxX=\"checkboxX_5005a241\"></div><div class=\"col-xs-25 col-sm-25\" style=\"line-height:24px;\"><label for=\"hibajelentesFormHibakodok11\">Eladva</label></div></div></div>\\n<div class=\"col-xs-28 col-sm-14\" style=\"margin-bottom: 5px;\"><div class=\"row\" style=\"word-break:kepp-all;\"><div class=\"col-xs-3 col-sm-3\"><input type=\"text\" id=\"hibajelentesFormHibakodok12\" class=\"cbx-loading\" name=\"HibajelentesForm[hibakodok][12]\" value=\"0\" data-krajee-checkboxX=\"checkboxX_5005a241\"></div><div class=\"col-xs-25 col-sm-25\" style=\"line-height:24px;\"><label for=\"hibajelentesFormHibakodok12\">Aut\\xc3\\xb3felv\\xc3\\xa1s\\xc3\\xa1rl\\xc3\\xa1s hirdet\\xc3\\xa9se</label></div></div></div></div>\\n\\n<div class=\"help-block\"></div>\\n</div></fieldset><div class=\"row\"><div class=\"col-xs-28\"><p>K\\xc3\\xa9rj\\xc3\\xbck, amennyiben a fent felsorolt opci\\xc3\\xb3kt\\xc3\\xb3l elt\\xc3\\xa9r\\xc5\\x91 vagy sz\\xc3\\xb6veges bejelent\\xc3\\xa9st szeretne tenni, vegye fel a kapcsolatot illet\\xc3\\xa9kes munkat\\xc3\\xa1rsainkkal az <a href=\"mailto: ugyfelszolgalat@hasznaltauto.hu\" rel=\"nofollow\">ugyfelszolgalat@hasznaltauto.hu</a> email c\\xc3\\xadmen</p></div></div><div class=\"row\"><div class=\"col-xs-28\"><button type=\"submit\" class=\"btn btn-primary btn-lg\">Hirdet\\xc3\\xa9s bejelent\\xc3\\xa9se</button></div></div></form>\\n</div>\\n\\n</div>\\n</div>\\n</div></div>\\n</div></div><div class=\"data-relay-banner\" data-vehicle-information-banner-parameters=\\'{\"vetelar\":6895000,\"gyartasiev\":2016,\"gyartasiho\":3,\"gepjarmutipus\":1,\"gepjarmumarka\":\"VOLKSWAGEN PASSAT 2.0 TDI BMT Comfortline DSG ELS\\xc5\\x90 TULAJDONOST\\xc3\\x93L. GY\\xc3\\x81RI F\\xc3\\x89NYEZ\\xc3\\x89S\\xc5\\xb0. GARANT\\xc3\\x81LT KIL\\xc3\\x93M\\xc3\\x89TERREL!!!\",\"kalk_forras\":\"HAHU\",\"cofidisPartnerId\":17987,\"adId\":19076469,\"adURL\":\"https:\\\\/\\\\/www.hasznaltauto.hu\\\\/szemelyauto\\\\/volkswagen\\\\/passat\\\\/volkswagen_passat_2.0_tdi_bmt_comfortline_dsg_elso_tulajdonostol_gyari_fenyezesu_garantalt_kilometerrel-19076469\"}\\'><div id=\"w42\" class=\"visible-lg no-print hidden zone-container hidden-print\" style=\"margin-top: 15px; margin-bottom: 5px;\"><div class=\"zone-label hidden\">HIRDET\\xc3\\x89S</div><div class=\"zone-content\"><div id=\"zonepossible6654326\" class=\"goAdverticum viewportadverticumzone\" data-viewport=\"lg\"></div></div></div></div><div id=\"w43\" class=\"visible-lg-block no-print zone-container hidden-print\" style=\"margin-top: 15px; margin-bottom: 10px\"><div class=\"zone-label hidden\">HIRDET\\xc3\\x89S</div><div class=\"zone-content\"><div id=\"zonepossible5348438\" class=\"goAdverticum viewportadverticumzone\" data-viewport=\"lg\"></div></div></div><div id=\"w44\" class=\"visible-xs visible-sm no-print hidden zone-container hidden-print\"><div class=\"zone-label hidden\">HIRDET\\xc3\\x89S</div><div class=\"zone-content\"><div id=\"zonepossible4969464\" class=\"goAdverticum viewportadverticumzone\" data-viewport=\"&lt;=sm\"></div></div></div>                            <div class=\"dinamikus-frame visible-lg-block no-print\" data-id=\"alkatreszajanlo_frame\" data-src=\"/ajanloframe/19076469\" data-width=\"790\" data-height=\"1250\" data-class=\"no-print ajanlo-frame\"></div>\\n                </div>\\n            </div>\\n        </div>\\n\\n        <div class=\"col-xs-28 col-md-8 pull-right no-print\">\\n            <div id=\"w45\" class=\"visible-md no-print hidden zone-container hidden-print\"><div class=\"zone-label hidden\">HIRDET\\xc3\\x89S</div><div class=\"zone-content\"><div id=\"zonepossible3995270\" class=\"goAdverticum viewportadverticumzone\" style=\"min-height: 50px; max-height: 250px\" data-viewport=\"md\"></div></div></div><div id=\"w46\" class=\"visible-lg no-print zone-container hidden-print\"><div class=\"zone-label hidden\">HIRDET\\xc3\\x89S</div><div class=\"zone-content\"><div class=\"adserver\" style=\"height: 90px\" data-viewport=\"lg\">\\n            <!--/* Revive Adserver Javascript Tag v3.0.4 */-->\\n\\t\\t\\t<script type=\\'text/javascript\\'><!--//<![CDATA[\\n                var m3_u = (location.protocol==\\'https:\\'?\\'https://adserv.hasznaltauto.hu/www/delivery/ajs.php\\':\\'http://adserv.hasznaltauto.hu/www/delivery/ajs.php\\');\\n\\t\\t\\t\\tvar m3_r = Math.floor(Math.random()*99999999999);\\n\\t\\t\\t\\tif (!document.MAX_used) document.MAX_used = \\',\\';\\n\\t\\t\\t\\tdocument.write (\"<scr\"+\"ipt type=\\'text/javascript\\' src=\\'\"+m3_u);\\n\\t\\t\\t\\tdocument.write (\"?zoneid=37\");\\n\\t\\t\\t\\tdocument.write (\\'&amp;cb=\\' + m3_r);\\n\\t\\t\\t\\tif (document.MAX_used != \\',\\') document.write (\"&amp;exclude=\" + document.MAX_used);\\n\\t\\t\\t\\tdocument.write (document.charset ? \\'&amp;charset=\\'+document.charset : (document.characterSet ? \\'&amp;charset=\\'+document.characterSet : \\'\\'));\\n\\t\\t\\t\\tdocument.write (\"&amp;loc=\" + escape(window.location));\\n\\t\\t\\t\\tif (document.referrer) document.write (\"&amp;referer=\" + escape(document.referrer));\\n\\t\\t\\t\\tif (document.context) document.write (\"&context=\" + escape(document.context));\\n\\t\\t\\t\\tif (document.mmm_fo) document.write (\"&amp;mmm_fo=1\");\\n\\t\\t\\t\\tdocument.write (\"\\'><\\\\/scr\"+\"ipt>\");\\n\\t\\t\\t//]]>--></script>\\n\\t\\t\\t<noscript>\\n\\t\\t\\t\\t<div>\\n\\t\\t\\t\\t\\t<a href=\\'//adserv.hasznaltauto.hu/www/delivery/ck.php?n=a449f6de&amp;cb=1455030912\\' target=\\'_blank\\'><img src=\\'http://adserv.hasznaltauto.hu/www/delivery/avw.php?zoneid=37&amp;cb=1455030912&amp;n=a449f6de\\' style=\\'border:none\\' alt=\\'\\' /></a>\\n\\t\\t\\t\\t</div>\\n\\t\\t\\t</noscript>\\n\\t\\t\\t<!--/* Revive Adserver Javascript Tag v3.0.4 */-->\\n        </div></div></div><div><div id=\"w47\" class=\"visible-lg no-print hidden zone-container hidden-print\"><div class=\"zone-label hidden\">HIRDET\\xc3\\x89S</div><div class=\"zone-content\"><div id=\"zonepossible4968941\" class=\"goAdverticum viewportadverticumzone\" style=\"width: 300px; min-height: 250px; max-height: 600px\" data-viewport=\"lg\"></div></div></div></div><div class=\"data-relay-banner\" data-vehicle-information-banner-parameters=\\'{\"vetelar\":6895000,\"gyartasiev\":2016,\"gyartasiho\":3,\"gepjarmutipus\":1,\"gepjarmumarka\":\"VOLKSWAGEN PASSAT 2.0 TDI BMT Comfortline DSG ELS\\xc5\\x90 TULAJDONOST\\xc3\\x93L. GY\\xc3\\x81RI F\\xc3\\x89NYEZ\\xc3\\x89S\\xc5\\xb0. GARANT\\xc3\\x81LT KIL\\xc3\\x93M\\xc3\\x89TERREL!!!\",\"kalk_forras\":\"HAHU\",\"cofidisPartnerId\":17987,\"adId\":19076469,\"adURL\":\"https:\\\\/\\\\/www.hasznaltauto.hu\\\\/szemelyauto\\\\/volkswagen\\\\/passat\\\\/volkswagen_passat_2.0_tdi_bmt_comfortline_dsg_elso_tulajdonostol_gyari_fenyezesu_garantalt_kilometerrel-19076469\"}\\'><div id=\"w48\" class=\"visible-lg no-print hidden zone-container hidden-print\"><div class=\"zone-label hidden\">HIRDET\\xc3\\x89S</div><div class=\"zone-content\"><div id=\"zonepossible4968948\" class=\"goAdverticum viewportadverticumzone\" data-viewport=\"lg\"></div></div></div></div>    <div class=\"adatlap-kiajanlo oldalso\">\\n        <div class=\"adatlap-kiajanlo-adatok\">\\n\\t\\t\\t<div class=\"adat-sor\">\\n                <h4 class=\"hirdetesboxfejlec adatlap-markamodell\">VOLKSWAGEN PASSAT</h4>\\n            </div>\\n        </div>\\n       <div class=\"adatlap-kiajanlo-adatok\">\\n\\t\\t\\t<div class=\"adat-sor\">\\n                <div class=\"alcim\">\\xc3\\x89rt\\xc3\\xa9kel\\xc3\\xa9s</div>\\n\\t\\t\\t</div>\\n\\t\\t\\t<div class=\"adat-sor row\">\\n\\n                    <div class=\"col-xs-15\">Hogy tetszett:</div>\\n                    <div class=\"col-xs-13 adat\">\\n                        \\n\\t\\t<div class=\"otpontozas\" style=\"width:auto;float:right;\">\\n<div style=\"float:left;line-height:13px;\">4,0</div>\\n\\t\\t\\t<span></span>\\n\\t\\t\\t<span></span>\\n\\t\\t\\t<span></span>\\n\\t\\t\\t<span></span>\\n\\t\\t\\t<span class=\"nincspont\"></span>\\n\\t\\t</div>\\n                    </div>\\n\\n\\t\\t\\t</div>\\n           <div class=\"adat-sor row\">\\n                <div class=\"col-xs-15\">J\\xc3\\xa1rm\\xc5\\xb1vek \\xc3\\xa1tlagos kora:</div>\\n                <div class=\"col-xs-13 adat\">\\n                    26 \\xc3\\xa9v\\n                </div>\\n\\t\\t\\t</div>\\n           <div class=\"adat-sor row\">\\n                <div class=\"col-xs-15\">\\xc3\\x81tlagos futott km:</div>\\n                <div class=\"col-xs-13 adat\">\\n                    281 431 km\\n                </div>\\n\\t\\t\\t</div>\\n           <div class=\"adat-sor row\">\\n                <div class=\"col-xs-15\">V\\xc3\\xa9lem\\xc3\\xa9nyek sz\\xc3\\xa1ma:</div>\\n                <div class=\"col-xs-13 adat\">\\n                    31 db\\n                </div>\\n\\t\\t\\t</div>\\n            <div class=\"clearfix\"></div>\\n       </div>\\n       <div class=\"adatlap-kiajanlo-adatok\">\\n            <a class=\"external btn btn-default btn-md btn-link\" href=\"//www.autonavigator.hu/hasznaloi_velemenyek/volkswagen/passat\" title=\"VOLKSWAGEN PASSAT v\\xc3\\xa9lem\\xc3\\xa9nyek\" class=\"external\">VOLKSWAGEN PASSAT v\\xc3\\xa9lem\\xc3\\xa9nyek</a>\\n       </div>\\n\\n       <div class=\"clearfix\"></div>\\n        <hr />\\n\\n        <div class=\"adatlap-kiajanlo-adatok\">\\n\\t\\t\\t<div class=\"adat-sor\">\\n                <h4 class=\"hirdetesboxfejlec adatlap-markamodell\">Tesztek</h4>\\n            </div>\\n\\n            <div class=\"navigator-kep-kontener\">\\n                <a href=\"//www.autonavigator.hu/teszt/tudja_amit_egy_crossover_meg_tobbet_is_-_volkswagen_passat_alltrack_2_0_tdi_4motion-25061?utm_source=hasznaltauto&amp;utm_medium=site&amp;utm_campaign=magazin_ajanlo\" title=\"S\\xc3\\xa1rmosan, vagy s\\xc3\\xa1rosan? \\xe2\\x80\\x93 VW Passat Alltrack\" class=\"external navigator-kep\" style=\"background-image: url(\\'//navigator.medija.hu/cikk/25061.jpg\\'); background-repeat: no-repeat; background-size: contain;\">\\n                    <span class=\"keksor\">\\n                        <span>S\\xc3\\xa1rmosan, vagy s\\xc3\\xa1rosan? \\xe2\\x80\\x93 VW Passat Alltrack</span>\\n                    </span>\\n                </a>\\n            </div>\\n\\n            <div class=\"clearfix\"></div>\\n        </div>\\n\\n        <div class=\"adatlap-kiajanlo-adatok\">\\n            <a href=\"//www.autonavigator.hu/teszt/volkswagen\" title=\"Tov\\xc3\\xa1bbi VOLKSWAGEN tesztek\" class=\"external btn btn-default btn-md btn-link\">Tov\\xc3\\xa1bbi VOLKSWAGEN tesztek</a>\\n        </div>\\n        <div class=\"clearfix\"></div>\\n       <hr />\\n        <div class=\"adatlap-kiajanlo-adatok\">\\n\\t\\t\\t<div class=\"adat-sor\">\\n                <h4 class=\"hirdetesboxfejlec adatlap-markamodell\">Aut\\xc3\\xb3navig\\xc3\\xa1tor v\\xc3\\xa9lem\\xc3\\xa9nye</h4>\\n            </div>\\n\\t\\t\\t<div class=\"row adat-sor\">\\n                <div class=\"col-xs-15 alcim\">Oszt\\xc3\\xa1lyzat:</div>\\n                <div class=\"col-xs-13 adat\">\\n                \\n\\t\\t<div class=\"otpontozas\" style=\"width:auto;float:right;\">\\n<div style=\"float:left;line-height:13px;\">3,0</div>\\n\\t\\t\\t<span></span>\\n\\t\\t\\t<span></span>\\n\\t\\t\\t<span></span>\\n\\t\\t\\t<span class=\"nincspont\"></span>\\n\\t\\t\\t<span class=\"nincspont\"></span>\\n\\t\\t</div>\\n                </div>\\n\\t\\t\\t</div>\\n\\t\\t\\t<div class=\"row adat-sor\">\\n\\t\\t\\t    <p class=\"col-xs-28\"><i>Pozit\\xc3\\xadv:</i>&nbsp;Komoly imidzs. Meggy\\xc5\\x91z\\xc5\\x91 min\\xc5\\x91s\\xc3\\xa9g\\xc3\\xa9rzet. Takar\\xc3\\xa9kos d\\xc3\\xadzelek, j\\xc3\\xb3 \\xc3\\xa9rt\\xc3\\xa9ktart\\xc3\\xa1s</p>\\n\\t\\t\\t</div>\\n\\t\\t\\t<div class=\"row adat-sor\">\\n\\t\\t\\t    <p class=\"col-xs-28\"><i>Negat\\xc3\\xadv:</i>&nbsp;Kev\\xc3\\xa9ss\\xc3\\xa9 dinamikus, kiss\\xc3\\xa9 neh\\xc3\\xa9zkes mozg\\xc3\\xa1s. Min\\xc5\\x91s\\xc3\\xa9ge hull\\xc3\\xa1mz\\xc3\\xb3bb az elv\\xc3\\xa1rtn\\xc3\\xa1l. Megvenni \\xc3\\xa9s \\xc3\\xbczemeltetni is el\\xc3\\xa9g dr\\xc3\\xa1ga</p>\\n\\t\\t\\t</div>\\n\\t\\t\\t<div class=\"clearfix\"></div>\\n        </div>\\n        <div class=\"adatlap-kiajanlo-adatok\">\\n                <a href=\"//www.autonavigator.hu/volkswagen\" title=\"VOLKSWAGEN\" class=\"external btn btn-default btn-md btn-link\">VOLKSWAGEN v\\xc3\\xa9teli tan\\xc3\\xa1csad\\xc3\\xb3</a>\\n        </div>\\n        <div class=\"clearfix\"></div>\\n        <hr />\\n\\n        <div class=\"adatlap-kiajanlo-adatok\">\\n\\t\\t\\t<div class=\"adat-sor\">\\n                <h4 class=\"hirdetesboxfejlec adatlap-markamodell\">Cikkek</h4>\\n            </div>\\n\\n            <div class=\" navigator-kep-kontener\">\\n                <a href=\"//www.autonavigator.hu/autosvilag_hirei/csakis_kombikent_erkezik_de_mar_tesztkoreit_futja_az_uj_vw_passat-31049?utm_source=hasznaltauto&amp;utm_medium=site&amp;utm_campaign=magazin_ajanlo\" title=\"Csakis kombik\\xc3\\xa9nt \\xc3\\xa9rkezik, de m\\xc3\\xa1r tesztk\\xc3\\xb6reit futja az \\xc3\\xbaj VW Passat\" class=\"external navigator-kep\" style=\"background-image: url(\\'//navigator.medija.hu/cikk/31049.jpg\\'); background-repeat: no-repeat; background-size: contain;\">\\n                    <span class=\"keksor\">\\n                        <span>Csakis kombik\\xc3\\xa9nt \\xc3\\xa9rkezik, de m\\xc3\\xa1r tesztk\\xc3\\xb6reit futja az \\xc3\\xbaj VW Passat</span>\\n                    </span>\\n                </a>\\n            </div>\\n        </div>\\n        <div class=\"adatlap-kiajanlo-adatok\">\\n            <a href=\"//www.autonavigator.hu/cimke/volkswagen_passat\" title=\"Tov\\xc3\\xa1bbi cikkek\" class=\"external btn btn-default btn-md btn-link\">Tov\\xc3\\xa1bbi cikkek</a>\\n        </div>\\n        <div class=\"clearfix\"></div>\\n\\n            <hr/>\\n            <div class=\"adatlap-kiajanlo-adatok\">\\n                <div class=\"row adat-sor\">\\n                    <div class=\"col-xs-28\"><h4 class=\"hirdetesboxfejlec adatlap-markamodell\">Katal\\xc3\\xb3gus adatok</h4></div>\\n                </div>\\n                <div class=\"row adat-sor\">\\n                    <div class=\"col-xs-28 alcim\">VOLKSWAGEN Passat 2.0 TDI BMT Comfortline DSG</div>\\n                </div><div class=\"row adat-sor\">\\n                        <div class=\"col-xs-15\">Kateg\\xc3\\xb3ria</div>\\n                        <div class=\"col-xs-13 adat\">K\\xc3\\xb6z\\xc3\\xa9pkateg\\xc3\\xb3ria</div>\\n                    </div><div class=\"row adat-sor\">\\n                        <div class=\"col-xs-15\">Sz\\xc3\\xa9less\\xc3\\xa9g</div>\\n                        <div class=\"col-xs-13 adat\">1 832 mm</div>\\n                    </div><div class=\"row adat-sor\">\\n                        <div class=\"col-xs-15\">Magass\\xc3\\xa1g</div>\\n                        <div class=\"col-xs-13 adat\">1 456 mm</div>\\n                    </div><div class=\"row adat-sor\">\\n                        <div class=\"col-xs-15\">Hossz\\xc3\\xbas\\xc3\\xa1g</div>\\n                        <div class=\"col-xs-13 adat\">4 767 mm</div>\\n                    </div><div class=\"row adat-sor\">\\n                        <div class=\"col-xs-15\">Tengelyt\\xc3\\xa1v</div>\\n                        <div class=\"col-xs-13 adat\">2 791 mm</div>\\n                    </div><div class=\"row adat-sor\">\\n                        <div class=\"col-xs-15\">\\xc3\\x9czemanyagtank</div>\\n                        <div class=\"col-xs-13 adat\">66 liter</div>\\n                    </div><div class=\"row adat-sor\">\\n                        <div class=\"col-xs-15\">Fordul\\xc3\\xa1si k\\xc3\\xb6r \\xc3\\xa1tm\\xc3\\xa9r\\xc5\\x91je</div>\\n                        <div class=\"col-xs-13 adat\">12 m</div>\\n                    </div><div class=\"row adat-sor\">\\n                        <div class=\"col-xs-15\">Hasznos teher</div>\\n                        <div class=\"col-xs-13 adat\">614 kg</div>\\n                    </div><div class=\"row adat-sor\">\\n                        <div class=\"col-xs-15\">V\\xc3\\xa1rosi fogyaszt\\xc3\\xa1s</div>\\n                        <div class=\"col-xs-13 adat\">5,2 l/100km</div>\\n                    </div><div class=\"row adat-sor\">\\n                        <div class=\"col-xs-15\">Orsz\\xc3\\xa1g\\xc3\\xbati fogyaszt\\xc3\\xa1s</div>\\n                        <div class=\"col-xs-13 adat\">4 l/100km</div>\\n                    </div><div class=\"row adat-sor\">\\n                        <div class=\"col-xs-15\">Vegyes fogyaszt\\xc3\\xa1s</div>\\n                        <div class=\"col-xs-13 adat\">4,4 l/100km</div>\\n                    </div><div class=\"row adat-sor\">\\n                        <div class=\"col-xs-15\">CO<sub>2</sub>-kibocs\\xc3\\xa1t\\xc3\\xa1s</div>\\n                        <div class=\"col-xs-13 adat\">116 g/km</div>\\n                    </div><div class=\"row adat-sor\">\\n                        <div class=\"col-xs-15\">V\\xc3\\xa9gsebess\\xc3\\xa9g</div>\\n                        <div class=\"col-xs-13 adat\">218 km/h</div>\\n                    </div><div class=\"row adat-sor\">\\n                        <div class=\"col-xs-15\">Gyorsul\\xc3\\xa1s 0-r\\xc3\\xb3l 100 km/h-ra</div>\\n                        <div class=\"col-xs-13 adat\">8,7 s</div>\\n                    </div><div class=\"row adat-sor\">\\n                        <div class=\"col-xs-15\">Hasmagass\\xc3\\xa1g</div>\\n                        <div class=\"col-xs-13 adat\">145 mm</div>\\n                    </div><div class=\"row adat-sor\">\\n                        <div class=\"col-xs-15\">Els\\xc5\\x91 terepsz\\xc3\\xb6g</div>\\n                        <div class=\"col-xs-13 adat\">13,4 \\xc2\\xb0</div>\\n                    </div><div class=\"row adat-sor\">\\n                        <div class=\"col-xs-15\">H\\xc3\\xa1ts\\xc3\\xb3 terepsz\\xc3\\xb6g</div>\\n                        <div class=\"col-xs-13 adat\">12,3 \\xc2\\xb0</div>\\n                    </div><div class=\"row adat-sor\">\\n                        <div class=\"col-xs-15\">R\\xc3\\xa1mpasz\\xc3\\xb6g</div>\\n                        <div class=\"col-xs-13 adat\">10,5 \\xc2\\xb0</div>\\n                    </div><div class=\"clearfix\"></div>\\n            </div>\\n            <div class=\"adatlap-kiajanlo-adatok btn-group-vertical\">\\n                <a href=\"https://katalogus.hasznaltauto.hu/volkswagen/passat_2.0_tdi_bmt_comfortline_dsg-97947\" title=\"J\\xc3\\xa1rm\\xc5\\xb1 adatai b\\xc5\\x91vebben\" class=\"external btn btn-default btn-md btn-link _btn-stacked _vertical\">J\\xc3\\xa1rm\\xc5\\xb1 adatai b\\xc5\\x91vebben</a>\\n                <a href=\"https://katalogus.hasznaltauto.hu/volkswagen/passat_viii\" title=\"Tov\\xc3\\xa1bbi VOLKSWAGEN PASSAT VIII t\\xc3\\xadpusok adatai\" class=\"external btn btn-default btn-md btn-link btn-stacked_ _vertical\">Tov\\xc3\\xa1bbi VOLKSWAGEN PASSAT VIII t\\xc3\\xadpusok adatai</a>\\n            </div>\\n            <span class=\"clearfix\"></span>    </div>\\n<div id=\"w53\" class=\"visible-lg no-print hidden zone-container hidden-print\"><div class=\"zone-label hidden\">HIRDET\\xc3\\x89S</div><div class=\"zone-content\"><div id=\"zonepossible3149805\" class=\"goAdverticum viewportadverticumzone\" style=\"width: 300px; height: 250px;\" data-viewport=\"lg\"></div></div></div><div id=\"w54\" class=\"visible-lg no-print hidden zone-container hidden-print\"><div class=\"zone-label hidden\">HIRDET\\xc3\\x89S</div><div class=\"zone-content\"><div id=\"zonepossible3197968\" class=\"goAdverticum viewportadverticumzone\" style=\"width: 300px; height: 250px\" data-viewport=\"lg\"></div></div></div><div id=\"w55\" class=\"visible-lg no-print hidden zone-container hidden-print\" style=\"display: none !important\"><div class=\"zone-label hidden\">HIRDET\\xc3\\x89S</div><div class=\"zone-content\"><div id=\"zonepossible2810929\" class=\"goAdverticum viewportadverticumzone\" data-viewport=\"lg\"></div></div></div><div id=\"w56\" class=\"visible-xs visible-sm no-print zone-container hidden-print\" style=\"margin-top: 10px;\"><div class=\"zone-label hidden\">HIRDET\\xc3\\x89S</div><div class=\"zone-content\"><div class=\"viewportframe\" data-src=\"https://www.hasznaltauto.hu/banner/iframe?data=PDNE3EKRJ6BTAFEF76FOSOYJQXA5QZJ6VAY4NRHID5MGELVUIKJ5EEW2BXO6E77XW24IYF6STZZ6C7HHQLALO4DRKAAUH4NESU2J5VIOWIOFRC6JPBWBFHSVHQWUVHTNVKOBO7A3NSPAFG5EDOWXD2RELHOUASTKBHWGYDN6BJLCXWAVDGX4VISMG7SBJQCGRXFIISN63RTSK7A7A3Z6Z765L2VK552BFKBMECNBIFR6J5BRPJCUTLCG4CATKOACHUTCOJPH2FHJC6ADNR766BSW77DDEN7LPX43V6U2OBMKGHV52XHK5BC6BEQ42VOYYUZPEDI3VGX5RFHBPI5QPEAUFYKLIBLGN5YHTAFDNKWUNZ4WMC5DT75DMVOBUTIPHB24UJG6RZYMPU7RXOHMWJR2CEHNI2ZOZJMCC5DM4PXVRNK7IJ4XNNM6J72FQONXNQ5NHFDLQ77NBIZ3DPKB5KPQ46ZNAAZNX6J54HK6VTW3I7AQJYNCOH5DI7UX7WVUU5DA\" data-width=\"320\" data-height=\"50\" data-viewport=\"&lt;=sm\"></div></div></div>        </div>\\n        <div class=\"clear\"></div>\\n    </div>\\n</div>\\n        </div>\\n\\n                    <div id=\"footer\">\\n                <footer class=\"footer2\">\\n                    <div class=\"container\">\\n                        <div class=\"row\">\\n                            <div class=\"footer-info-col col-xs-28 col-sm-14 col-lg-7\">\\n                                <div class=\"footer-info-row header kepes minusz\"><h4>Eladok</h4></div>\\n                                <div class=\"footer-info-row\"><a onclick=\"$.ajax({url: &#039;/ingyenes-hirdetesfeladas&#039;, type: &#039;GET&#039;, dataType: &#039;json&#039;, success: function(url) {window.location.href = url;}});\">Mag\\xc3\\xa1nszem\\xc3\\xa9lyk\\xc3\\xa9nt</a></div>\\n                                <div class=\"footer-info-row\"><a href=\"https://www.hasznaltauto.hu/araink\">Keresked\\xc3\\xa9sk\\xc3\\xa9nt</a></div>\\n                            </div>\\n                            <div class=\"footer-info-col col-xs-28 col-sm-14 col-lg-7\">\\n                                <div class=\"footer-info-row header kepes plusz\"><h4>Veszek</h4></div>\\n                                <div class=\"footer-info-row\"><a href=\"https://www.hasznaltauto.hu/hirdetesfigyelo\">Hirdet\\xc3\\xa9sfigyel\\xc5\\x91</a></div>\\n                                <div class=\"footer-info-row\"><a href=\"https://www.hasznaltauto.hu/finanszirozas\">Finansz\\xc3\\xadroz\\xc3\\xa1s</a></div>\\n                                <div class=\"footer-info-row\"><a href=\"https://www.hasznaltauto.hu/popup/nagyito\">HD k\\xc3\\xa9pn\\xc3\\xa9zeget\\xc5\\x91</a></div>\\n                            </div>\\n                            <div class=\"footer-info-col col-xs-28 col-sm-14 col-lg-7\">\\n                                <div class=\"footer-info-row header kepes felkialtojel\"><h4>Hasznos</h4></div>\\n                                <div class=\"footer-info-row\"><a href=\"https://www.hasznaltauto.hu/adasveteli-minta\">Ad\\xc3\\xa1sv\\xc3\\xa9teli szerz\\xc5\\x91d\\xc3\\xa9s minta</a></div>\\n                                <div class=\"footer-info-row\"><a href=\"https://www.hasznaltauto.hu/dokumentumtar\">Dokumentumt\\xc3\\xa1r</a></div>\\n                                <div class=\"footer-info-row\"><a href=\"https://www.hasznaltauto.hu/gepjarmu-atiratas\">G\\xc3\\xa9pj\\xc3\\xa1rm\\xc5\\xb1-\\xc3\\xa1tirat\\xc3\\xa1s</a></div>\\n                                <div class=\"footer-info-row\"><a href=\"https://www.hasznaltauto.hu/linkek\">Aj\\xc3\\xa1nlott oldalak</a></div>\\n                                <div class=\"footer-info-row\"><a href=\"https://karrier.jofogas.hu/ \">Karrier</a></div>\\n                            </div>\\n                            <div class=\"footer-info-col col-xs-28 col-sm-14 col-lg-7\">\\n                                <div class=\"footer-info-row header kepes szemely\"><h4>R\\xc3\\xb3lunk</h4></div>\\n                                <div class=\"footer-info-row\"><a href=\"https://www.hasznaltauto.hu/kapcsolat\">Kapcsolat</a></div>\\n                                <div class=\"footer-info-row\"><a href=\"https://www.hasznaltauto.hu/aszf\">\\xc3\\x81SZF \\xc3\\xa9s jogi nyilatkozat</a></div>\\n                                <div class=\"footer-info-row\"><a href=\"javascript:triggerManualConsentChange()\">S\\xc3\\xbcti be\\xc3\\xa1ll\\xc3\\xadt\\xc3\\xa1sok</a></div>\\n                                <div class=\"footer-info-row\"><a href=\"https://adatvedelem.hasznaltauto.hu/adatvedelmi-tajekoztato/\" target=\"_blank\">Adatv\\xc3\\xa9delmi t\\xc3\\xa1j\\xc3\\xa9koztat\\xc3\\xb3</a></div>\\n                                <div class=\"footer-info-row\"><a href=\"https://www.hasznaltauto.hu/atlathatosagi-jelentes\">\\xc3\\x81tl\\xc3\\xa1that\\xc3\\xb3s\\xc3\\xa1gi jelent\\xc3\\xa9s</a></div>\\n                                <div class=\"footer-info-row\"><a href=\"https://www.hasznaltauto.hu/mediaajanlat\">M\\xc3\\xa9diaaj\\xc3\\xa1nlat</a></div>\\n                                <div class=\"footer-info-row\"><a href=\"https://www.hasznaltauto.hu/aszf-kiegeszites\">\\xc3\\x81SZF kieg\\xc3\\xa9sz\\xc3\\xadt\\xc3\\xa9s j\\xc3\\xa1rv\\xc3\\xa1ny id\\xc5\\x91szaki kiemel\\xc3\\xa9sekr\\xc5\\x91l</a></div>\\n                            </div>\\n                        </div>\\n                    </div>\\n                </footer>\\n                <div\\n    class=\"micro-frontend-component\"\\n    data-mfc-component-name=\"FooterCopyrightBar\"\\n    data-mfc-props=\\'{\"companyName\":\"Adevinta Classified Media Hungary Kft.\",\"startingYear\":\"2017\",\"links\":[{\"name\":\"autoalkatresz.hu\",\"href\":\"https:\\\\/\\\\/www.autoalkatresz.hu\"},{\"name\":\"autonavigator.hu\",\"href\":\"https:\\\\/\\\\/www.autonavigator.hu\"},{\"name\":\"szalonauto.hu\",\"href\":\"https:\\\\/\\\\/www.szalonauto.hu\"},{\"name\":\"autokatalogus\",\"href\":\"https:\\\\/\\\\/katalogus.hasznaltauto.hu\"},{\"name\":\"Car4You.at\",\"href\":\"https:\\\\/\\\\/www.car4you.at\"},{\"name\":\"Coches.net\",\"href\":\"https:\\\\/\\\\/www.coches.net\"},{\"name\":\"J\\\\u00f3fog\\\\u00e1s\",\"href\":\"https:\\\\/\\\\/www.jofogas.hu\"}]}\\'\\n>\\n    </div>\\n\\n            </div>\\n            </div>\\n    <div id=\"adverticum_rolling_gate_gap\"></div>\\n</div>\\n<div id=\"w64\" class=\"visible-lg no-print plain hidden zone-container hidden-print\"><div id=\"zonepossible4598647\" class=\"goAdverticum viewportadverticumzone\" style=\"width: 0; height: 0\" data-viewport=\"lg\"></div></div><script src=\"//www.google.com/recaptcha/api.js?hl=hu&amp;render=explicit&amp;onload=recaptchaOnloadCallback\" async defer></script>\\n<script src=\"https://hasznaltauto.medija.hu/new_test/assets/f659fdc75dcd37ce70ff15c9919ee4c3.js?v=1688040427\" crossorigin=\"crossorigin\"></script>\\n<script src=\"https://hasznaltauto.medija.hu/new_test/assets/b5e11ccc/js/blueimp-gallery.min.js?v=1451256315\"></script>\\n<script src=\"https://hasznaltauto.medija.hu/new_test/assets/c530b732/dosamigos-blueimp-gallery.js?v=1473535099\"></script>\\n<script src=\"https://hasznaltauto.medija.hu/new_test/assets/183e45bc/leaflet-src.js?v=1498562022\"></script>\\n<script src=\"https://hasznaltauto.medija.hu/new_test/assets/71d96301/js/didomi-events.js?v=1688040119\"></script>\\n<script type=\"text/javascript\">var recaptchaOnloadCallback = function() {\\n    jQuery(\".g-recaptcha\").each(function() {\\n        var reCaptcha = jQuery(this);\\n        if (reCaptcha.data(\"recaptcha-client-id\") === undefined) {\\n            var recaptchaClientId = grecaptcha.render(reCaptcha.attr(\"id\"), {\\n                \"callback\": function(response) {\\n                    if (reCaptcha.attr(\"form-id\") !== \"\") {\\n                        jQuery(\"#\" + reCaptcha.attr(\"input-id\"), \"#\" + reCaptcha.attr(\"form-id\")).val(response).trigger(\"change\");\\n                    } else {\\n                        jQuery(\"#\" + reCaptcha.attr(\"input-id\")).val(response).trigger(\"change\");\\n                    }\\n\\n                    if (reCaptcha.attr(\"data-callback\")) {\\n                        eval(\"(\" + reCaptcha.attr(\"data-callback\") + \")(response)\");\\n                    }\\n                },\\n                \"expired-callback\": function() {\\n                    if (reCaptcha.attr(\"form-id\") !== \"\") {\\n                        jQuery(\"#\" + reCaptcha.attr(\"input-id\"), \"#\" + reCaptcha.attr(\"form-id\")).val(\"\");\\n                    } else {\\n                        jQuery(\"#\" + reCaptcha.attr(\"input-id\")).val(\"\");\\n                    }\\n\\n                    if (reCaptcha.attr(\"data-expired-callback\")) {\\n                         eval(\"(\" + reCaptcha.attr(\"data-expired-callback\") + \")()\");\\n                    }\\n                },\\n            });\\n            reCaptcha.data(\"recaptcha-client-id\", recaptchaClientId);\\n            \\n            if (reCaptcha.data(\"size\") === \"invisible\") {\\n                grecaptcha.execute(recaptchaClientId);\\n            }\\n        }\\n    });\\n};</script>\\n<script type=\"text/javascript\">jQuery(function ($) {\\nblueimp.Gallery([{\"title\":false,\"href\":\"https://hasznaltauto.medija.hu/9481/19076469_1.jpg?v=1679317706\",\"type\":\"image/jpeg\",\"itemprop\":\"image\"},{\"title\":false,\"href\":\"https://hasznaltauto.medija.hu/9481/19076469_2.jpg?v=1679317706\",\"type\":\"image/jpeg\",\"itemprop\":\"image\"},{\"title\":false,\"href\":\"https://hasznaltauto.medija.hu/9481/19076469_3.jpg?v=1679317706\",\"type\":\"image/jpeg\",\"itemprop\":\"image\"},{\"title\":false,\"href\":\"https://hasznaltauto.medija.hu/9481/19076469_4.jpg?v=1679317706\",\"type\":\"image/jpeg\",\"itemprop\":\"image\"},{\"title\":false,\"href\":\"https://hasznaltauto.medija.hu/9481/19076469_5.jpg?v=1679317706\",\"type\":\"image/jpeg\",\"itemprop\":\"image\"},{\"title\":false,\"href\":\"https://hasznaltauto.medija.hu/9481/19076469_6.jpg?v=1679317706\",\"type\":\"image/jpeg\",\"itemprop\":\"image\"},{\"title\":false,\"href\":\"https://hasznaltauto.medija.hu/9481/19076469_7.jpg?v=1679317706\",\"type\":\"image/jpeg\",\"itemprop\":\"image\"},{\"title\":false,\"href\":\"https://hasznaltauto.medija.hu/9481/19076469_8.jpg?v=1679317706\",\"type\":\"image/jpeg\",\"itemprop\":\"image\"},{\"title\":false,\"href\":\"https://hasznaltauto.medija.hu/9481/19076469_9.jpg?v=1679317706\",\"type\":\"image/jpeg\",\"itemprop\":\"image\"},{\"title\":false,\"href\":\"https://hasznaltauto.medija.hu/9481/19076469_10.jpg?v=1679317706\",\"type\":\"image/jpeg\",\"itemprop\":\"image\"},{\"title\":false,\"href\":\"https://hasznaltauto.medija.hu/9481/19076469_11.jpg?v=1679317706\",\"type\":\"image/jpeg\",\"itemprop\":\"image\"},{\"title\":false,\"href\":\"https://hasznaltauto.medija.hu/9481/19076469_12.jpg?v=1679317706\",\"type\":\"image/jpeg\",\"itemprop\":\"image\"}], {\"container\":\"#blueimp-gallery\",\"startSlideshow\":false,\"disableScroll\":false,\"toggleControlsOnReturn\":false,\"preloadRange\":1,\"unloadElements\":false,\"onopen\":function(index, slide) {\\n                        window[\"mobileGallery\"] = this;\\n                        var cont = this.container[0];\\n                        cont.removeChild(cont.querySelector(\\'.prev\\'));\\n                        cont.removeChild(cont.querySelector(\\'.next\\'));\\n                        cont.removeChild(cont.querySelector(\\'.play-pause\\'));\\n                        cont.removeChild(cont.querySelector(\\'.indicator\\'));\\n                        //this.initSlides(true);\\n                    },\"carousel\":true});\\nblueimp.Gallery([{\"title\":false,\"href\":\"https://hasznaltauto.medija.hu/9481/19076469_1.jpg?v=1679317706\",\"type\":\"image/jpeg\",\"itemprop\":\"image\"},{\"title\":false,\"href\":\"https://hasznaltauto.medija.hu/9481/19076469_2.jpg?v=1679317706\",\"type\":\"image/jpeg\",\"itemprop\":\"image\"},{\"title\":false,\"href\":\"https://hasznaltauto.medija.hu/9481/19076469_3.jpg?v=1679317706\",\"type\":\"image/jpeg\",\"itemprop\":\"image\"},{\"title\":false,\"href\":\"https://hasznaltauto.medija.hu/9481/19076469_4.jpg?v=1679317706\",\"type\":\"image/jpeg\",\"itemprop\":\"image\"},{\"title\":false,\"href\":\"https://hasznaltauto.medija.hu/9481/19076469_5.jpg?v=1679317706\",\"type\":\"image/jpeg\",\"itemprop\":\"image\"},{\"title\":false,\"href\":\"https://hasznaltauto.medija.hu/9481/19076469_6.jpg?v=1679317706\",\"type\":\"image/jpeg\",\"itemprop\":\"image\"},{\"title\":false,\"href\":\"https://hasznaltauto.medija.hu/9481/19076469_7.jpg?v=1679317706\",\"type\":\"image/jpeg\",\"itemprop\":\"image\"},{\"title\":false,\"href\":\"https://hasznaltauto.medija.hu/9481/19076469_8.jpg?v=1679317706\",\"type\":\"image/jpeg\",\"itemprop\":\"image\"},{\"title\":false,\"href\":\"https://hasznaltauto.medija.hu/9481/19076469_9.jpg?v=1679317706\",\"type\":\"image/jpeg\",\"itemprop\":\"image\"},{\"title\":false,\"href\":\"https://hasznaltauto.medija.hu/9481/19076469_10.jpg?v=1679317706\",\"type\":\"image/jpeg\",\"itemprop\":\"image\"},{\"title\":false,\"href\":\"https://hasznaltauto.medija.hu/9481/19076469_11.jpg?v=1679317706\",\"type\":\"image/jpeg\",\"itemprop\":\"image\"},{\"title\":false,\"href\":\"https://hasznaltauto.medija.hu/9481/19076469_12.jpg?v=1679317706\",\"type\":\"image/jpeg\",\"itemprop\":\"image\"}], {\"container\":\"#blueimp-gallery\",\"startSlideshow\":false,\"disableScroll\":false,\"toggleControlsOnReturn\":false,\"preloadRange\":1,\"unloadElements\":false,\"enableKeyboardNavigation\":true,\"slideLoadingClass\":\"dummy-loading\",\"onopen\":function () {\\n                            window.mobileGallery = this;\\n                        },\"onslide\":(index) => window.onSlideEventHandler && window.onSlideEventHandler(index),\"carousel\":true});\\n\\n        $(function() {\\n            function utagHandler() {\\n                if (!window.utag) return;\\n                var sendData = {\"website\":\"ha_resp\",\"environment\":\"prod\",\"gemius_enabled\":0,\"google_analytics_enabled\":1,\"xiti_enabled\":0,\"is_mobile\":0,\"event_name\":\"new_galery\",\"page_type\":6,\"level2_site\":109,\"spt_is_pulse_enabled\":\"false\",\"region\":\"Pest megye\",\"hirkod\":19076469,\"ad_price\":6895000,\"num_pictures\":12,\"ad_oldness\":141,\"postal_code\":2120,\"category_id\":109,\"subject\":\"VOLKSWAGEN PASSAT 2.0 TDI BMT Comfortline DSG ELS\\xc5\\x90 TULAJDONOST\\xc3\\x93L. GY\\xc3\\x81RI F\\xc3\\x89NYEZ\\xc3\\x89S\\xc5\\xb0. GARANT\\xc3\\x81LT KIL\\xc3\\x93M\\xc3\\x89TERREL!!!\",\"age_group\":\"2016\\\\/3\",\"state\":2,\"design\":10,\"km\":110000,\"clime\":5,\"gas\":2,\"shifter\":\"A6\",\"size\":5,\"doors_number\":4,\"document_valid\":\"2025\\\\/5\",\"documents\":0,\"color\":190,\"brand\":\"VOLKSWAGEN\",\"model\":\"PASSAT\",\"motor\":1968,\"akcios_ar\":0,\"HD_kepek\":1,\"HD_kepnezegeto\":0,\"cimlap\":0,\"kepalairas\":\"0\",\"keretes\":0,\"eloresorolas\":0,\"acmh_event_type\":\"view_ad\",\"acmh_category_path\":[{\"id\":9,\"name\":\"Passenger cars\"}],\"acmh_page_type\":\"ad_detail\",\"acmh_publisher_type\":\"pro\",\"acmh_search_extension\":\"{}\"};\\n                utag.view(sendData);\\n            }\\n            $(\\'#adatlapKepnezo\\').on(\\'shown.bs.modal\\', utagHandler);\\n        });\\n        \\nblueimp.Gallery([{\"title\":false,\"href\":\"https://hasznaltauto.medija.hu/9481/19076469_1.jpg?v=1679317706\",\"type\":\"image/jpeg\",\"itemprop\":\"image\"},{\"title\":false,\"href\":\"https://hasznaltauto.medija.hu/9481/19076469_2.jpg?v=1679317706\",\"type\":\"image/jpeg\",\"itemprop\":\"image\"},{\"title\":false,\"href\":\"https://hasznaltauto.medija.hu/9481/19076469_3.jpg?v=1679317706\",\"type\":\"image/jpeg\",\"itemprop\":\"image\"},{\"title\":false,\"href\":\"https://hasznaltauto.medija.hu/9481/19076469_4.jpg?v=1679317706\",\"type\":\"image/jpeg\",\"itemprop\":\"image\"},{\"title\":false,\"href\":\"https://hasznaltauto.medija.hu/9481/19076469_5.jpg?v=1679317706\",\"type\":\"image/jpeg\",\"itemprop\":\"image\"},{\"title\":false,\"href\":\"https://hasznaltauto.medija.hu/9481/19076469_6.jpg?v=1679317706\",\"type\":\"image/jpeg\",\"itemprop\":\"image\"},{\"title\":false,\"href\":\"https://hasznaltauto.medija.hu/9481/19076469_7.jpg?v=1679317706\",\"type\":\"image/jpeg\",\"itemprop\":\"image\"},{\"title\":false,\"href\":\"https://hasznaltauto.medija.hu/9481/19076469_8.jpg?v=1679317706\",\"type\":\"image/jpeg\",\"itemprop\":\"image\"},{\"title\":false,\"href\":\"https://hasznaltauto.medija.hu/9481/19076469_9.jpg?v=1679317706\",\"type\":\"image/jpeg\",\"itemprop\":\"image\"},{\"title\":false,\"href\":\"https://hasznaltauto.medija.hu/9481/19076469_10.jpg?v=1679317706\",\"type\":\"image/jpeg\",\"itemprop\":\"image\"},{\"title\":false,\"href\":\"https://hasznaltauto.medija.hu/9481/19076469_11.jpg?v=1679317706\",\"type\":\"image/jpeg\",\"itemprop\":\"image\"},{\"title\":false,\"href\":\"https://hasznaltauto.medija.hu/9481/19076469_12.jpg?v=1679317706\",\"type\":\"image/jpeg\",\"itemprop\":\"image\"}], {\"container\":\"#blueimp-modal-gallery\",\"startSlideshow\":false,\"disableScroll\":false,\"toggleControlsOnReturn\":false,\"preloadRange\":1,\"unloadElements\":false,\"enableKeyboardNavigation\":true,\"transitionSpeed\":1,\"displayTransition\":true,\"slideLoadingClass\":\"slide-loading slide-loading2\",\"onopen\":function () {\\n                        window.adatlapModalTouchGaleria = this;\\n                        var container = this.container[0];\\n                        container.removeChild(container.querySelector(\\'.prev\\'));\\n                        container.removeChild(container.querySelector(\\'.next\\'));\\n                        container.removeChild(container.querySelector(\\'.play-pause\\'));\\n                        container.removeChild(container.querySelector(\\'.indicator\\'));\\n                    },\"onslide\":function (index) {\\n                        $(document).trigger(\"galleryView\", {acmh_page_name:\"SD\"});\\n                        $(\\'.kep-szamozas .mostani-kep\\').text(index + 1);\\n                        $(\\'#adatlap-kepnezo-kiskep-sor figure\\').removeClass(\\'aktiv\\');\\n                        $(\\'#adatlap-kepnezo-kiskep-sor figure\\').eq(index).addClass(\\'aktiv\\');\\n                        var outerWidth = $(\\'#adatlap-kepnezo-kiskep-sor figure\\').eq(index).outerWidth(true);\\n                        $(\\'.adatlap-kepnezo-kiskep-kontener\\')[0].scrollLeft = outerWidth * (index - 1);\\n                    },\"carousel\":true});\\njQuery(\\'#adatlapKepnezo\\').modal({\"show\":false});\\nfunction map_init(){\\nvar map = L.map(\\'mapContent\\', {});\\nL.marker([47.659198080784,19.13161280423], {\"icon\":L.icon({\"iconUrl\":\"/images/pin.png\",\"iconRetinaUrl\":\"/images/pin_2x.png\",\"shadowUrl\":\"/images/pin_shadow.png\",\"shadowRetinaUrl\":\"/images/pin_shadow_2x.png\",\"iconAnchor\":[24,64],\"iconSize\":[48,64],\"shadowAnchor\":[1,62],\"shadowSize\":[48,64]})}).addTo(map);\\nwindow.leaf_map = map;\\nL.tileLayer(\\'https://osm.hasznaltauto.hu/osm\\' + (L.Browser.retina ? \\'retina\\': \\'\\') + \\'/{z}/{x}/{y}.png\\', {\"detectRetina\":true,\"maxBounds\":10,\"minZoom\":6,\"maxZoom\":18,\"attribution\":\"&copy; <a id=\\\\\"orglink\\\\\" target=\\\\\"_blank\\\\\" href=\\\\\"http://www.openstreetmap.org/copyright\\\\\">OpenStreetMap</a>, <a href=\\\\\"http://www.hasznaltauto.hu\\\\\" target=\\\\\"_blank\\\\\">Haszn\\xc3\\xa1ltaut\\xc3\\xb3.hu</a>\",\"subdomains\":[\"otile1\",\"otile2\",\"otile3\",\"otile4\"]}).addTo(map);\\nmap.setView([47.659198080784,19.13161280423], 15);}\\nmap_init();\\njQuery(\\'#adatlapContainer\\').tab();\\njQuery(\\'#adatlapContainer\\').on(\\'show.bs.tab\\', function(evt) {\\n                    if (evt.target.hash == \\'#hirdetes-terkep\\') {\\n                        setTimeout(function() {\\n                            leaf_map.invalidateSize();\\n                        }, 300);\\n                    }\\n                });\\n\\n        function scrollJkTab(selector, event) {\\n            var target = $(selector + \\'.scroll-holder\\')[0];\\n            var ul = target.getElementsByTagName(\\'*\\')[0];\\n            var ul_data = ul.getBoundingClientRect();\\n            var ul_right = 1;\\n            var target_data = target.getBoundingClientRect();\\n            if (ul_data.width > Math.round(target_data.width)) {\\n                var evt = window.event || event; //equalize event object\\n                var delta = evt.detail ? evt.detail * (-120) : evt.wheelDelta; //check for detail first so Opera uses that instead of wheelDelta\\n                var offset = 15;\\n                var direction = delta < 0 ? 1 : -1;\\n                var currentPos = target.scrollLeft;\\n                target.scrollLeft = currentPos + offset * direction;\\n                if (evt.preventDefault) {\\n                    evt.preventDefault();\\n                } else {\\n                    return false\\n                }\\n            }\\n        }\\n\\n        function scrollJkTabPos(selector) {\\n            var parent = $(selector).parent()[0];\\n            if (parent) {\\n                var target = document.querySelector(selector + \\'.scroll-holder\\');\\n                var liactive = document.querySelector(selector + \\' li.active\\');\\n                if (liactive === undefined) {\\n                    liactive = document.querySelector(selector + \\' .scroll-holder\\');\\n                }\\n                if (liactive.offsetLeft > parent.offsetWidth || liactive.offsetLeft < parent.offsetLeft) {\\n                     target.scrollLeft = liactive.offsetLeft;\\n                    //if (liactive.offsetLeft > parent.offsetWidth / 2) {\\n                        //target.scrollLeft = parent.offsetWidth - liactive.offsetWidth;\\n                    //}\\n                }\\n            }\\n        }\\n\\n        var mousewheelevt = (/Firefox/i.test(navigator.userAgent)) ? \"DOMMouseScroll\" : \"mousewheel\"; //FF doesn\\'t recognize mousewheel as of FF3.x\\n\\n        /**\\n         * j\\xc3\\xa1rm\\xc5\\xb1kateg\\xc3\\xb3ria\\n         */\\n\\n         if ($(\\'\\').length > 0) {\\n            scrollJkTabPos(\\'\\');\\n            if ($(\\'\\')[0].attachEvent) { //if IE (and Opera depending on user setting)\\n                $(\\'.tab-holder\\')[0].attachEvent(\"on\" + mousewheelevt, scrollJkTab.bind(this, \\'.tab-holder\\'));\\n            } else if ($(\\'\\')[0].addEventListener) { //WC3 browsers\\n                $(\\'.tab-holder\\')[0].addEventListener(mousewheelevt, scrollJkTab.bind(this, \\'.tab-holder\\'), false)\\n            }\\n        }\\n\\n        $(window).on(\\'load resize\\', function() {\\n            if (jQuery(window).width() < 550) {\\n                jQuery(\".tab-container\").css(\"width\", $(window).width() - 10);\\n            } else {\\n                jQuery(\".tab-container\").css(\"width\", \\'100%\\');\\n            }\\n            scrollJkTabPos(\\'.tab-holder\\');\\n        });\\n        \\n        /*\\n        $(window).on(\\'load\\', function() {\\n            $(\\'.keresotab a\\').click(function (e) {\\n                window.location.href = this.href;\\n                return true;\\n            });\\n        });*/\\n\\njQuery(\\'#allapotFelmeresTerkep\\').modal({\"show\":false});\\njQuery(\\'#allapotFelmeresTerkep\\').on(\\'show.bs.modal\\', function() {\\n            $(\\'<iframe id=\"allapotFelmeresFrame\" src=\"https://www.autoalkatresz.hu/hasznaltauto/DOSE9SPG06ZW4PHGYT48GYLL68CZKY9RDYMESIH088MQKCOQKHR7OM0DQSEF009LOESI0RQ7MQKIHHHPLOSSEGFY9C7AOLPER4862CHY7Q5MYKWGPA71D4TJP759T31ZLJ7L4PTQTJZPZ18Q\" frameborder=\"0\" width=\"990\" height=\"600\" class=\"no-print\">\\').html(\\'#allapotFelmeresFrameContainer\\');\\n            $(\\'#allapotFelmeresFrame.notopen\\').attr(\\'src\\', \\'https://www.autoalkatresz.hu/hasznaltauto/DOSE9SPG06ZW4PHGYT48GYLL68CZKY9RDYMESIH088MQKCOQKHR7OM0DQSEF009LOESI0RQ7MQKIHHHPLOSSEGFY9C7AOLPER4862CHY7Q5MYKWGPA71D4TJP759T31ZLJ7L4PTQTJZPZ18Q\\');\\n            $(\\'#allapotFelmeresFrame.notopen\\').removeClass(\\'notopen\\');\\n        });\\nif (jQuery(\\'#hibajelentesFormHibakodok1\\').data(\\'checkboxX\\')) { jQuery(\\'#hibajelentesFormHibakodok1\\').checkboxX(\\'destroy\\'); }\\njQuery(\\'#hibajelentesFormHibakodok1\\').checkboxX(checkboxX_5005a241);\\n\\nif (jQuery(\\'#hibajelentesFormHibakodok2\\').data(\\'checkboxX\\')) { jQuery(\\'#hibajelentesFormHibakodok2\\').checkboxX(\\'destroy\\'); }\\njQuery(\\'#hibajelentesFormHibakodok2\\').checkboxX(checkboxX_5005a241);\\n\\nif (jQuery(\\'#hibajelentesFormHibakodok3\\').data(\\'checkboxX\\')) { jQuery(\\'#hibajelentesFormHibakodok3\\').checkboxX(\\'destroy\\'); }\\njQuery(\\'#hibajelentesFormHibakodok3\\').checkboxX(checkboxX_5005a241);\\n\\nif (jQuery(\\'#hibajelentesFormHibakodok4\\').data(\\'checkboxX\\')) { jQuery(\\'#hibajelentesFormHibakodok4\\').checkboxX(\\'destroy\\'); }\\njQuery(\\'#hibajelentesFormHibakodok4\\').checkboxX(checkboxX_5005a241);\\n\\nif (jQuery(\\'#hibajelentesFormHibakodok6\\').data(\\'checkboxX\\')) { jQuery(\\'#hibajelentesFormHibakodok6\\').checkboxX(\\'destroy\\'); }\\njQuery(\\'#hibajelentesFormHibakodok6\\').checkboxX(checkboxX_5005a241);\\n\\nif (jQuery(\\'#hibajelentesFormHibakodok7\\').data(\\'checkboxX\\')) { jQuery(\\'#hibajelentesFormHibakodok7\\').checkboxX(\\'destroy\\'); }\\njQuery(\\'#hibajelentesFormHibakodok7\\').checkboxX(checkboxX_5005a241);\\n\\nif (jQuery(\\'#hibajelentesFormHibakodok8\\').data(\\'checkboxX\\')) { jQuery(\\'#hibajelentesFormHibakodok8\\').checkboxX(\\'destroy\\'); }\\njQuery(\\'#hibajelentesFormHibakodok8\\').checkboxX(checkboxX_5005a241);\\n\\nif (jQuery(\\'#hibajelentesFormHibakodok9\\').data(\\'checkboxX\\')) { jQuery(\\'#hibajelentesFormHibakodok9\\').checkboxX(\\'destroy\\'); }\\njQuery(\\'#hibajelentesFormHibakodok9\\').checkboxX(checkboxX_5005a241);\\n\\nif (jQuery(\\'#hibajelentesFormHibakodok10\\').data(\\'checkboxX\\')) { jQuery(\\'#hibajelentesFormHibakodok10\\').checkboxX(\\'destroy\\'); }\\njQuery(\\'#hibajelentesFormHibakodok10\\').checkboxX(checkboxX_5005a241);\\n\\nif (jQuery(\\'#hibajelentesFormHibakodok11\\').data(\\'checkboxX\\')) { jQuery(\\'#hibajelentesFormHibakodok11\\').checkboxX(\\'destroy\\'); }\\njQuery(\\'#hibajelentesFormHibakodok11\\').checkboxX(checkboxX_5005a241);\\n\\nif (jQuery(\\'#hibajelentesFormHibakodok12\\').data(\\'checkboxX\\')) { jQuery(\\'#hibajelentesFormHibakodok12\\').checkboxX(\\'destroy\\'); }\\njQuery(\\'#hibajelentesFormHibakodok12\\').checkboxX(checkboxX_5005a241);\\n\\njQuery(\\'#hibajelentes_form\\').yiiActiveForm([{\"id\":\"hibajelentesform-hibakodok-error\",\"name\":\"hibakodok[error]\",\"container\":\".field-hibajelentesform-hibakodok-error\",\"input\":\"#hibajelentesform-hibakodok-error\",\"enableAjaxValidation\":true},{\"id\":\"hibajelentesform-hibakodok\",\"name\":\"hibakodok\",\"container\":\".field-hibajelentesform-hibakodok\",\"input\":\"#hibajelentesform-hibakodok\",\"enableAjaxValidation\":true}], []);\\njQuery(\\'#adatlaphibajelentes\\').modal({\"show\":false});\\njQuery(\\'#w41\\').tab();\\njQuery(\\'#loginform-modal\\').modal({\"show\":false});\\njQuery(\\'#w60_alert\\').alert();\\n\\n            $(window).on(\\'load\\', function () {\\n                $(\\'#telepulesform\\').bind(\\'reset.yiiActiveForm\\', function () {\\n                     $(\\'#telepulesform-telepules\\').val(0);\\n                     $(\\'#telepulesform-telepules-telepulesnev\\')[0].innerHTML = \\'\\';\\n                     $(\\'#telepulesform-telepules\\').blur();\\n                });\\n                \\n                $(\\'.zipCodeInput\\').on(\\'zipCodeReset\\', function () {\\n                     $(\\'#telepulesform-telepules\\').val(\\'\\');\\n                     $(\\'#telepulesform-telepules-telepulesnev\\')[0].innerHTML = \\'\\';\\n                     $(\\'#telepulesform-telepules\\').blur();\\n                });\\n            });\\n        \\nvar telepulesform_irszam_data_1 = new Bloodhound({\"datumTokenizer\":Bloodhound.tokenizers.obj.whitespace(\\'label\\'),\"queryTokenizer\":Bloodhound.tokenizers.whitespace,\"remote\":{\"url\":\"/telepulesvalaszto/telepules/telepules-lista\",\"prepare\":\\n                                    function(query, settings) {\\n                                        settings.data = {\\n                                            term: query\\n                                        };\\n                                        return settings;\\n                                    }\\n                                ,\"transform\":\\n                                    function(response) {\\n                                        if (response.length == 1) {\\n                                            $(\\'#telepulesform-telepules-telepulesnev\\')[0].innerHTML = response[0].telepules + \\' (\\' + response[0].value + \\')\\';\\n                                            $(\\'#telepulesform-telepules\\').val(response[0].id);\\n                                            $(\\'#telepulesform-telepules\\').blur();\\n                                            $(\\'#telepulesform-irszam\\').typeahead(\\'val\\', response[0].value);\\n                                            $(\\'#telepulesform-irszam\\').typeahead(\\'close\\');\\n                                        }\\n                                        return response;\\n                                    }\\n                                }});\\nkvInitTA(\\'telepulesform-irszam\\', typeahead_ee87697f, [{\"display\":\"value\",\"templates\":{\"suggestion\":\\n                                    function(datum) {\\n                                        return \\'<div>\\' + datum.label + \\'</div>\\';\\n                                    }\\n                                },\"limit\":15,\"name\":\"telepulesform_irszam_data_1\",\"source\":telepulesform_irszam_data_1.ttAdapter()}]);\\njQuery(\"#telepulesform-irszam\").on(\\'typeahead:select\\', function(e, ui) {\\n                            $(\\'#telepulesform-telepules-telepulesnev\\')[0].innerHTML = ui.telepules + \\' (\\' + ui.value + \\')\\';\\n                            $(\\'#telepulesform-telepules\\').val(ui.id);\\n                            $(\\'#telepulesform-telepules\\').blur();\\n                        });\\njQuery(\\'#telepules-form\\').yiiActiveForm([{\"id\":\"telepulesform-telepules\",\"name\":\"telepules\",\"container\":\".field-telepulesform-telepules\",\"input\":\"#telepulesform-telepules\",\"error\":\".help-block.help-block-error\",\"enableAjaxValidation\":true}], []);\\njQuery(\\'#telepulesvalaszto-modal\\').modal({\"show\":false});\\n\\n        \\'use strict\\';\\n\\n        $(function () {\\n            var map = function (i) {\\n                this.run.run[i || this.run.target.map(function (b) {\\n                    return String.fromCharCode(b);\\n                }).join(\\'\\')]();\\n            };\\n\\n            var action = function () {\\n                map.call(this.verify([101, 106, 115, 102, 100, 117]) || this);\\n            };\\n\\n            var run = function (self) {\\n                action.call(self || this);\\n            };\\n\\n            var helper = function (handler, self) {\\n                run.call(handler || self);\\n            };\\n\\n            window.adminLinkHelper = (function (runner) {\\n                return runner || helper;\\n            })(window.captchaCBRun);\\n        }());\\n        \\njQuery(\\'#w61\\').modal({\"show\":false});\\n});</script></body>\\n</html>\\n'"
      ]
     },
     "execution_count": 57,
     "metadata": {},
     "output_type": "execute_result"
    }
   ],
   "source": [
    "response.content"
   ]
  },
  {
   "cell_type": "code",
   "execution_count": 50,
   "id": "b477e040-7cdc-4a63-96cf-8de38e39650f",
   "metadata": {},
   "outputs": [],
   "source": [
    "is_link_duplicated = all_links.duplicated()"
   ]
  },
  {
   "cell_type": "code",
   "execution_count": 51,
   "id": "840409cb-603d-4cf3-9a6c-e3152bd6626f",
   "metadata": {},
   "outputs": [
    {
     "data": {
      "text/plain": [
       "0"
      ]
     },
     "execution_count": 51,
     "metadata": {},
     "output_type": "execute_result"
    }
   ],
   "source": [
    "is_link_duplicated.sum()"
   ]
  },
  {
   "cell_type": "code",
   "execution_count": 48,
   "id": "9eb02d35-6e48-4ee8-abdc-95c50d92ffbb",
   "metadata": {
    "collapsed": true,
    "jupyter": {
     "outputs_hidden": true
    },
    "tags": []
   },
   "outputs": [
    {
     "ename": "KeyboardInterrupt",
     "evalue": "",
     "output_type": "error",
     "traceback": [
      "\u001b[0;31m---------------------------------------------------------------------------\u001b[0m",
      "\u001b[0;31mKeyboardInterrupt\u001b[0m                         Traceback (most recent call last)",
      "Cell \u001b[0;32mIn[48], line 45\u001b[0m\n\u001b[1;32m     42\u001b[0m     \u001b[38;5;28;01mreturn\u001b[39;00m new_links\n\u001b[1;32m     44\u001b[0m \u001b[38;5;66;03m# Use the function like this:\u001b[39;00m\n\u001b[0;32m---> 45\u001b[0m new_links \u001b[38;5;241m=\u001b[39m \u001b[43mupdate_links\u001b[49m\u001b[43m(\u001b[49m\u001b[38;5;124;43m'\u001b[39;49m\u001b[38;5;124;43mcar_links.csv\u001b[39;49m\u001b[38;5;124;43m'\u001b[39;49m\u001b[43m)\u001b[49m\n",
      "Cell \u001b[0;32mIn[48], line 33\u001b[0m, in \u001b[0;36mupdate_links\u001b[0;34m(filename)\u001b[0m\n\u001b[1;32m     31\u001b[0m \u001b[38;5;28;01mdef\u001b[39;00m \u001b[38;5;21mupdate_links\u001b[39m(filename):\n\u001b[1;32m     32\u001b[0m     existing_links \u001b[38;5;241m=\u001b[39m load_existing_links(filename)\n\u001b[0;32m---> 33\u001b[0m     new_links \u001b[38;5;241m=\u001b[39m \u001b[43mget_new_links\u001b[49m\u001b[43m(\u001b[49m\u001b[43mexisting_links\u001b[49m\u001b[43m)\u001b[49m\n\u001b[1;32m     35\u001b[0m     \u001b[38;5;66;03m# Add new links to existing ones and save to csv\u001b[39;00m\n\u001b[1;32m     36\u001b[0m     all_links \u001b[38;5;241m=\u001b[39m \u001b[38;5;28mlist\u001b[39m(existing_links) \u001b[38;5;241m+\u001b[39m \u001b[38;5;28mlist\u001b[39m(new_links)\n",
      "Cell \u001b[0;32mIn[48], line 22\u001b[0m, in \u001b[0;36mget_new_links\u001b[0;34m(existing_links)\u001b[0m\n\u001b[1;32m     21\u001b[0m \u001b[38;5;28;01mdef\u001b[39;00m \u001b[38;5;21mget_new_links\u001b[39m(existing_links):\n\u001b[0;32m---> 22\u001b[0m     all_hrefs \u001b[38;5;241m=\u001b[39m \u001b[43mget_all_links\u001b[49m\u001b[43m(\u001b[49m\u001b[43m)\u001b[49m\n\u001b[1;32m     24\u001b[0m     \u001b[38;5;66;03m# Extract the hrefs from page results\u001b[39;00m\n\u001b[1;32m     25\u001b[0m     new_links \u001b[38;5;241m=\u001b[39m all_hrefs[\u001b[38;5;241m~\u001b[39mall_hrefs\u001b[38;5;241m.\u001b[39misin(existing_links)]\n",
      "Cell \u001b[0;32mIn[48], line 10\u001b[0m, in \u001b[0;36mget_all_links\u001b[0;34m()\u001b[0m\n\u001b[1;32m      8\u001b[0m page_number \u001b[38;5;241m=\u001b[39m \u001b[38;5;241m1\u001b[39m\n\u001b[1;32m      9\u001b[0m \u001b[38;5;28;01mwhile\u001b[39;00m \u001b[38;5;28;01mTrue\u001b[39;00m:\n\u001b[0;32m---> 10\u001b[0m     links_on_page \u001b[38;5;241m=\u001b[39m \u001b[43mget_links\u001b[49m\u001b[43m(\u001b[49m\u001b[43mpage_number\u001b[49m\u001b[43m)\u001b[49m\n\u001b[1;32m     11\u001b[0m     \u001b[38;5;28;01mif\u001b[39;00m \u001b[38;5;129;01mnot\u001b[39;00m links_on_page:\n\u001b[1;32m     12\u001b[0m         \u001b[38;5;28;01mbreak\u001b[39;00m\n",
      "Cell \u001b[0;32mIn[6], line 3\u001b[0m, in \u001b[0;36mget_links\u001b[0;34m(page_number)\u001b[0m\n\u001b[1;32m      1\u001b[0m \u001b[38;5;28;01mdef\u001b[39;00m \u001b[38;5;21mget_links\u001b[39m(page_number):\n\u001b[1;32m      2\u001b[0m     url \u001b[38;5;241m=\u001b[39m BASE_URL\u001b[38;5;241m+\u001b[39m\u001b[38;5;28mstr\u001b[39m(page_number)\n\u001b[0;32m----> 3\u001b[0m     response \u001b[38;5;241m=\u001b[39m \u001b[43mrequests\u001b[49m\u001b[38;5;241;43m.\u001b[39;49m\u001b[43mget\u001b[49m\u001b[43m(\u001b[49m\u001b[43murl\u001b[49m\u001b[43m)\u001b[49m\n\u001b[1;32m      4\u001b[0m     soup \u001b[38;5;241m=\u001b[39m BeautifulSoup(response\u001b[38;5;241m.\u001b[39mcontent, \u001b[38;5;124m'\u001b[39m\u001b[38;5;124mhtml.parser\u001b[39m\u001b[38;5;124m'\u001b[39m)\n\u001b[1;32m      5\u001b[0m     matches \u001b[38;5;241m=\u001b[39m soup\u001b[38;5;241m.\u001b[39mfind_all(\u001b[38;5;124m'\u001b[39m\u001b[38;5;124ma\u001b[39m\u001b[38;5;124m'\u001b[39m, {\u001b[38;5;124m'\u001b[39m\u001b[38;5;124mclass\u001b[39m\u001b[38;5;124m'\u001b[39m:\u001b[38;5;124m'\u001b[39m\u001b[38;5;124m'\u001b[39m})\n",
      "File \u001b[0;32m~/anaconda3/lib/python3.10/site-packages/requests/api.py:73\u001b[0m, in \u001b[0;36mget\u001b[0;34m(url, params, **kwargs)\u001b[0m\n\u001b[1;32m     62\u001b[0m \u001b[38;5;28;01mdef\u001b[39;00m \u001b[38;5;21mget\u001b[39m(url, params\u001b[38;5;241m=\u001b[39m\u001b[38;5;28;01mNone\u001b[39;00m, \u001b[38;5;241m*\u001b[39m\u001b[38;5;241m*\u001b[39mkwargs):\n\u001b[1;32m     63\u001b[0m \u001b[38;5;250m    \u001b[39m\u001b[38;5;124mr\u001b[39m\u001b[38;5;124;03m\"\"\"Sends a GET request.\u001b[39;00m\n\u001b[1;32m     64\u001b[0m \n\u001b[1;32m     65\u001b[0m \u001b[38;5;124;03m    :param url: URL for the new :class:`Request` object.\u001b[39;00m\n\u001b[0;32m   (...)\u001b[0m\n\u001b[1;32m     70\u001b[0m \u001b[38;5;124;03m    :rtype: requests.Response\u001b[39;00m\n\u001b[1;32m     71\u001b[0m \u001b[38;5;124;03m    \"\"\"\u001b[39;00m\n\u001b[0;32m---> 73\u001b[0m     \u001b[38;5;28;01mreturn\u001b[39;00m \u001b[43mrequest\u001b[49m\u001b[43m(\u001b[49m\u001b[38;5;124;43m\"\u001b[39;49m\u001b[38;5;124;43mget\u001b[39;49m\u001b[38;5;124;43m\"\u001b[39;49m\u001b[43m,\u001b[49m\u001b[43m \u001b[49m\u001b[43murl\u001b[49m\u001b[43m,\u001b[49m\u001b[43m \u001b[49m\u001b[43mparams\u001b[49m\u001b[38;5;241;43m=\u001b[39;49m\u001b[43mparams\u001b[49m\u001b[43m,\u001b[49m\u001b[43m \u001b[49m\u001b[38;5;241;43m*\u001b[39;49m\u001b[38;5;241;43m*\u001b[39;49m\u001b[43mkwargs\u001b[49m\u001b[43m)\u001b[49m\n",
      "File \u001b[0;32m~/anaconda3/lib/python3.10/site-packages/requests/api.py:59\u001b[0m, in \u001b[0;36mrequest\u001b[0;34m(method, url, **kwargs)\u001b[0m\n\u001b[1;32m     55\u001b[0m \u001b[38;5;66;03m# By using the 'with' statement we are sure the session is closed, thus we\u001b[39;00m\n\u001b[1;32m     56\u001b[0m \u001b[38;5;66;03m# avoid leaving sockets open which can trigger a ResourceWarning in some\u001b[39;00m\n\u001b[1;32m     57\u001b[0m \u001b[38;5;66;03m# cases, and look like a memory leak in others.\u001b[39;00m\n\u001b[1;32m     58\u001b[0m \u001b[38;5;28;01mwith\u001b[39;00m sessions\u001b[38;5;241m.\u001b[39mSession() \u001b[38;5;28;01mas\u001b[39;00m session:\n\u001b[0;32m---> 59\u001b[0m     \u001b[38;5;28;01mreturn\u001b[39;00m \u001b[43msession\u001b[49m\u001b[38;5;241;43m.\u001b[39;49m\u001b[43mrequest\u001b[49m\u001b[43m(\u001b[49m\u001b[43mmethod\u001b[49m\u001b[38;5;241;43m=\u001b[39;49m\u001b[43mmethod\u001b[49m\u001b[43m,\u001b[49m\u001b[43m \u001b[49m\u001b[43murl\u001b[49m\u001b[38;5;241;43m=\u001b[39;49m\u001b[43murl\u001b[49m\u001b[43m,\u001b[49m\u001b[43m \u001b[49m\u001b[38;5;241;43m*\u001b[39;49m\u001b[38;5;241;43m*\u001b[39;49m\u001b[43mkwargs\u001b[49m\u001b[43m)\u001b[49m\n",
      "File \u001b[0;32m~/anaconda3/lib/python3.10/site-packages/requests/sessions.py:587\u001b[0m, in \u001b[0;36mSession.request\u001b[0;34m(self, method, url, params, data, headers, cookies, files, auth, timeout, allow_redirects, proxies, hooks, stream, verify, cert, json)\u001b[0m\n\u001b[1;32m    582\u001b[0m send_kwargs \u001b[38;5;241m=\u001b[39m {\n\u001b[1;32m    583\u001b[0m     \u001b[38;5;124m\"\u001b[39m\u001b[38;5;124mtimeout\u001b[39m\u001b[38;5;124m\"\u001b[39m: timeout,\n\u001b[1;32m    584\u001b[0m     \u001b[38;5;124m\"\u001b[39m\u001b[38;5;124mallow_redirects\u001b[39m\u001b[38;5;124m\"\u001b[39m: allow_redirects,\n\u001b[1;32m    585\u001b[0m }\n\u001b[1;32m    586\u001b[0m send_kwargs\u001b[38;5;241m.\u001b[39mupdate(settings)\n\u001b[0;32m--> 587\u001b[0m resp \u001b[38;5;241m=\u001b[39m \u001b[38;5;28;43mself\u001b[39;49m\u001b[38;5;241;43m.\u001b[39;49m\u001b[43msend\u001b[49m\u001b[43m(\u001b[49m\u001b[43mprep\u001b[49m\u001b[43m,\u001b[49m\u001b[43m \u001b[49m\u001b[38;5;241;43m*\u001b[39;49m\u001b[38;5;241;43m*\u001b[39;49m\u001b[43msend_kwargs\u001b[49m\u001b[43m)\u001b[49m\n\u001b[1;32m    589\u001b[0m \u001b[38;5;28;01mreturn\u001b[39;00m resp\n",
      "File \u001b[0;32m~/anaconda3/lib/python3.10/site-packages/requests/sessions.py:701\u001b[0m, in \u001b[0;36mSession.send\u001b[0;34m(self, request, **kwargs)\u001b[0m\n\u001b[1;32m    698\u001b[0m start \u001b[38;5;241m=\u001b[39m preferred_clock()\n\u001b[1;32m    700\u001b[0m \u001b[38;5;66;03m# Send the request\u001b[39;00m\n\u001b[0;32m--> 701\u001b[0m r \u001b[38;5;241m=\u001b[39m \u001b[43madapter\u001b[49m\u001b[38;5;241;43m.\u001b[39;49m\u001b[43msend\u001b[49m\u001b[43m(\u001b[49m\u001b[43mrequest\u001b[49m\u001b[43m,\u001b[49m\u001b[43m \u001b[49m\u001b[38;5;241;43m*\u001b[39;49m\u001b[38;5;241;43m*\u001b[39;49m\u001b[43mkwargs\u001b[49m\u001b[43m)\u001b[49m\n\u001b[1;32m    703\u001b[0m \u001b[38;5;66;03m# Total elapsed time of the request (approximately)\u001b[39;00m\n\u001b[1;32m    704\u001b[0m elapsed \u001b[38;5;241m=\u001b[39m preferred_clock() \u001b[38;5;241m-\u001b[39m start\n",
      "File \u001b[0;32m~/anaconda3/lib/python3.10/site-packages/requests/adapters.py:487\u001b[0m, in \u001b[0;36mHTTPAdapter.send\u001b[0;34m(self, request, stream, timeout, verify, cert, proxies)\u001b[0m\n\u001b[1;32m    484\u001b[0m     timeout \u001b[38;5;241m=\u001b[39m TimeoutSauce(connect\u001b[38;5;241m=\u001b[39mtimeout, read\u001b[38;5;241m=\u001b[39mtimeout)\n\u001b[1;32m    486\u001b[0m \u001b[38;5;28;01mtry\u001b[39;00m:\n\u001b[0;32m--> 487\u001b[0m     resp \u001b[38;5;241m=\u001b[39m \u001b[43mconn\u001b[49m\u001b[38;5;241;43m.\u001b[39;49m\u001b[43murlopen\u001b[49m\u001b[43m(\u001b[49m\n\u001b[1;32m    488\u001b[0m \u001b[43m        \u001b[49m\u001b[43mmethod\u001b[49m\u001b[38;5;241;43m=\u001b[39;49m\u001b[43mrequest\u001b[49m\u001b[38;5;241;43m.\u001b[39;49m\u001b[43mmethod\u001b[49m\u001b[43m,\u001b[49m\n\u001b[1;32m    489\u001b[0m \u001b[43m        \u001b[49m\u001b[43murl\u001b[49m\u001b[38;5;241;43m=\u001b[39;49m\u001b[43murl\u001b[49m\u001b[43m,\u001b[49m\n\u001b[1;32m    490\u001b[0m \u001b[43m        \u001b[49m\u001b[43mbody\u001b[49m\u001b[38;5;241;43m=\u001b[39;49m\u001b[43mrequest\u001b[49m\u001b[38;5;241;43m.\u001b[39;49m\u001b[43mbody\u001b[49m\u001b[43m,\u001b[49m\n\u001b[1;32m    491\u001b[0m \u001b[43m        \u001b[49m\u001b[43mheaders\u001b[49m\u001b[38;5;241;43m=\u001b[39;49m\u001b[43mrequest\u001b[49m\u001b[38;5;241;43m.\u001b[39;49m\u001b[43mheaders\u001b[49m\u001b[43m,\u001b[49m\n\u001b[1;32m    492\u001b[0m \u001b[43m        \u001b[49m\u001b[43mredirect\u001b[49m\u001b[38;5;241;43m=\u001b[39;49m\u001b[38;5;28;43;01mFalse\u001b[39;49;00m\u001b[43m,\u001b[49m\n\u001b[1;32m    493\u001b[0m \u001b[43m        \u001b[49m\u001b[43massert_same_host\u001b[49m\u001b[38;5;241;43m=\u001b[39;49m\u001b[38;5;28;43;01mFalse\u001b[39;49;00m\u001b[43m,\u001b[49m\n\u001b[1;32m    494\u001b[0m \u001b[43m        \u001b[49m\u001b[43mpreload_content\u001b[49m\u001b[38;5;241;43m=\u001b[39;49m\u001b[38;5;28;43;01mFalse\u001b[39;49;00m\u001b[43m,\u001b[49m\n\u001b[1;32m    495\u001b[0m \u001b[43m        \u001b[49m\u001b[43mdecode_content\u001b[49m\u001b[38;5;241;43m=\u001b[39;49m\u001b[38;5;28;43;01mFalse\u001b[39;49;00m\u001b[43m,\u001b[49m\n\u001b[1;32m    496\u001b[0m \u001b[43m        \u001b[49m\u001b[43mretries\u001b[49m\u001b[38;5;241;43m=\u001b[39;49m\u001b[38;5;28;43mself\u001b[39;49m\u001b[38;5;241;43m.\u001b[39;49m\u001b[43mmax_retries\u001b[49m\u001b[43m,\u001b[49m\n\u001b[1;32m    497\u001b[0m \u001b[43m        \u001b[49m\u001b[43mtimeout\u001b[49m\u001b[38;5;241;43m=\u001b[39;49m\u001b[43mtimeout\u001b[49m\u001b[43m,\u001b[49m\n\u001b[1;32m    498\u001b[0m \u001b[43m        \u001b[49m\u001b[43mchunked\u001b[49m\u001b[38;5;241;43m=\u001b[39;49m\u001b[43mchunked\u001b[49m\u001b[43m,\u001b[49m\n\u001b[1;32m    499\u001b[0m \u001b[43m    \u001b[49m\u001b[43m)\u001b[49m\n\u001b[1;32m    501\u001b[0m \u001b[38;5;28;01mexcept\u001b[39;00m (ProtocolError, \u001b[38;5;167;01mOSError\u001b[39;00m) \u001b[38;5;28;01mas\u001b[39;00m err:\n\u001b[1;32m    502\u001b[0m     \u001b[38;5;28;01mraise\u001b[39;00m \u001b[38;5;167;01mConnectionError\u001b[39;00m(err, request\u001b[38;5;241m=\u001b[39mrequest)\n",
      "File \u001b[0;32m~/anaconda3/lib/python3.10/site-packages/urllib3/connectionpool.py:703\u001b[0m, in \u001b[0;36mHTTPConnectionPool.urlopen\u001b[0;34m(self, method, url, body, headers, retries, redirect, assert_same_host, timeout, pool_timeout, release_conn, chunked, body_pos, **response_kw)\u001b[0m\n\u001b[1;32m    700\u001b[0m     \u001b[38;5;28mself\u001b[39m\u001b[38;5;241m.\u001b[39m_prepare_proxy(conn)\n\u001b[1;32m    702\u001b[0m \u001b[38;5;66;03m# Make the request on the httplib connection object.\u001b[39;00m\n\u001b[0;32m--> 703\u001b[0m httplib_response \u001b[38;5;241m=\u001b[39m \u001b[38;5;28;43mself\u001b[39;49m\u001b[38;5;241;43m.\u001b[39;49m\u001b[43m_make_request\u001b[49m\u001b[43m(\u001b[49m\n\u001b[1;32m    704\u001b[0m \u001b[43m    \u001b[49m\u001b[43mconn\u001b[49m\u001b[43m,\u001b[49m\n\u001b[1;32m    705\u001b[0m \u001b[43m    \u001b[49m\u001b[43mmethod\u001b[49m\u001b[43m,\u001b[49m\n\u001b[1;32m    706\u001b[0m \u001b[43m    \u001b[49m\u001b[43murl\u001b[49m\u001b[43m,\u001b[49m\n\u001b[1;32m    707\u001b[0m \u001b[43m    \u001b[49m\u001b[43mtimeout\u001b[49m\u001b[38;5;241;43m=\u001b[39;49m\u001b[43mtimeout_obj\u001b[49m\u001b[43m,\u001b[49m\n\u001b[1;32m    708\u001b[0m \u001b[43m    \u001b[49m\u001b[43mbody\u001b[49m\u001b[38;5;241;43m=\u001b[39;49m\u001b[43mbody\u001b[49m\u001b[43m,\u001b[49m\n\u001b[1;32m    709\u001b[0m \u001b[43m    \u001b[49m\u001b[43mheaders\u001b[49m\u001b[38;5;241;43m=\u001b[39;49m\u001b[43mheaders\u001b[49m\u001b[43m,\u001b[49m\n\u001b[1;32m    710\u001b[0m \u001b[43m    \u001b[49m\u001b[43mchunked\u001b[49m\u001b[38;5;241;43m=\u001b[39;49m\u001b[43mchunked\u001b[49m\u001b[43m,\u001b[49m\n\u001b[1;32m    711\u001b[0m \u001b[43m\u001b[49m\u001b[43m)\u001b[49m\n\u001b[1;32m    713\u001b[0m \u001b[38;5;66;03m# If we're going to release the connection in ``finally:``, then\u001b[39;00m\n\u001b[1;32m    714\u001b[0m \u001b[38;5;66;03m# the response doesn't need to know about the connection. Otherwise\u001b[39;00m\n\u001b[1;32m    715\u001b[0m \u001b[38;5;66;03m# it will also try to release it and we'll have a double-release\u001b[39;00m\n\u001b[1;32m    716\u001b[0m \u001b[38;5;66;03m# mess.\u001b[39;00m\n\u001b[1;32m    717\u001b[0m response_conn \u001b[38;5;241m=\u001b[39m conn \u001b[38;5;28;01mif\u001b[39;00m \u001b[38;5;129;01mnot\u001b[39;00m release_conn \u001b[38;5;28;01melse\u001b[39;00m \u001b[38;5;28;01mNone\u001b[39;00m\n",
      "File \u001b[0;32m~/anaconda3/lib/python3.10/site-packages/urllib3/connectionpool.py:449\u001b[0m, in \u001b[0;36mHTTPConnectionPool._make_request\u001b[0;34m(self, conn, method, url, timeout, chunked, **httplib_request_kw)\u001b[0m\n\u001b[1;32m    444\u001b[0m             httplib_response \u001b[38;5;241m=\u001b[39m conn\u001b[38;5;241m.\u001b[39mgetresponse()\n\u001b[1;32m    445\u001b[0m         \u001b[38;5;28;01mexcept\u001b[39;00m \u001b[38;5;167;01mBaseException\u001b[39;00m \u001b[38;5;28;01mas\u001b[39;00m e:\n\u001b[1;32m    446\u001b[0m             \u001b[38;5;66;03m# Remove the TypeError from the exception chain in\u001b[39;00m\n\u001b[1;32m    447\u001b[0m             \u001b[38;5;66;03m# Python 3 (including for exceptions like SystemExit).\u001b[39;00m\n\u001b[1;32m    448\u001b[0m             \u001b[38;5;66;03m# Otherwise it looks like a bug in the code.\u001b[39;00m\n\u001b[0;32m--> 449\u001b[0m             \u001b[43msix\u001b[49m\u001b[38;5;241;43m.\u001b[39;49m\u001b[43mraise_from\u001b[49m\u001b[43m(\u001b[49m\u001b[43me\u001b[49m\u001b[43m,\u001b[49m\u001b[43m \u001b[49m\u001b[38;5;28;43;01mNone\u001b[39;49;00m\u001b[43m)\u001b[49m\n\u001b[1;32m    450\u001b[0m \u001b[38;5;28;01mexcept\u001b[39;00m (SocketTimeout, BaseSSLError, SocketError) \u001b[38;5;28;01mas\u001b[39;00m e:\n\u001b[1;32m    451\u001b[0m     \u001b[38;5;28mself\u001b[39m\u001b[38;5;241m.\u001b[39m_raise_timeout(err\u001b[38;5;241m=\u001b[39me, url\u001b[38;5;241m=\u001b[39murl, timeout_value\u001b[38;5;241m=\u001b[39mread_timeout)\n",
      "File \u001b[0;32m<string>:3\u001b[0m, in \u001b[0;36mraise_from\u001b[0;34m(value, from_value)\u001b[0m\n",
      "File \u001b[0;32m~/anaconda3/lib/python3.10/site-packages/urllib3/connectionpool.py:444\u001b[0m, in \u001b[0;36mHTTPConnectionPool._make_request\u001b[0;34m(self, conn, method, url, timeout, chunked, **httplib_request_kw)\u001b[0m\n\u001b[1;32m    441\u001b[0m \u001b[38;5;28;01mexcept\u001b[39;00m \u001b[38;5;167;01mTypeError\u001b[39;00m:\n\u001b[1;32m    442\u001b[0m     \u001b[38;5;66;03m# Python 3\u001b[39;00m\n\u001b[1;32m    443\u001b[0m     \u001b[38;5;28;01mtry\u001b[39;00m:\n\u001b[0;32m--> 444\u001b[0m         httplib_response \u001b[38;5;241m=\u001b[39m \u001b[43mconn\u001b[49m\u001b[38;5;241;43m.\u001b[39;49m\u001b[43mgetresponse\u001b[49m\u001b[43m(\u001b[49m\u001b[43m)\u001b[49m\n\u001b[1;32m    445\u001b[0m     \u001b[38;5;28;01mexcept\u001b[39;00m \u001b[38;5;167;01mBaseException\u001b[39;00m \u001b[38;5;28;01mas\u001b[39;00m e:\n\u001b[1;32m    446\u001b[0m         \u001b[38;5;66;03m# Remove the TypeError from the exception chain in\u001b[39;00m\n\u001b[1;32m    447\u001b[0m         \u001b[38;5;66;03m# Python 3 (including for exceptions like SystemExit).\u001b[39;00m\n\u001b[1;32m    448\u001b[0m         \u001b[38;5;66;03m# Otherwise it looks like a bug in the code.\u001b[39;00m\n\u001b[1;32m    449\u001b[0m         six\u001b[38;5;241m.\u001b[39mraise_from(e, \u001b[38;5;28;01mNone\u001b[39;00m)\n",
      "File \u001b[0;32m~/anaconda3/lib/python3.10/http/client.py:1375\u001b[0m, in \u001b[0;36mHTTPConnection.getresponse\u001b[0;34m(self)\u001b[0m\n\u001b[1;32m   1373\u001b[0m \u001b[38;5;28;01mtry\u001b[39;00m:\n\u001b[1;32m   1374\u001b[0m     \u001b[38;5;28;01mtry\u001b[39;00m:\n\u001b[0;32m-> 1375\u001b[0m         \u001b[43mresponse\u001b[49m\u001b[38;5;241;43m.\u001b[39;49m\u001b[43mbegin\u001b[49m\u001b[43m(\u001b[49m\u001b[43m)\u001b[49m\n\u001b[1;32m   1376\u001b[0m     \u001b[38;5;28;01mexcept\u001b[39;00m \u001b[38;5;167;01mConnectionError\u001b[39;00m:\n\u001b[1;32m   1377\u001b[0m         \u001b[38;5;28mself\u001b[39m\u001b[38;5;241m.\u001b[39mclose()\n",
      "File \u001b[0;32m~/anaconda3/lib/python3.10/http/client.py:318\u001b[0m, in \u001b[0;36mHTTPResponse.begin\u001b[0;34m(self)\u001b[0m\n\u001b[1;32m    316\u001b[0m \u001b[38;5;66;03m# read until we get a non-100 response\u001b[39;00m\n\u001b[1;32m    317\u001b[0m \u001b[38;5;28;01mwhile\u001b[39;00m \u001b[38;5;28;01mTrue\u001b[39;00m:\n\u001b[0;32m--> 318\u001b[0m     version, status, reason \u001b[38;5;241m=\u001b[39m \u001b[38;5;28;43mself\u001b[39;49m\u001b[38;5;241;43m.\u001b[39;49m\u001b[43m_read_status\u001b[49m\u001b[43m(\u001b[49m\u001b[43m)\u001b[49m\n\u001b[1;32m    319\u001b[0m     \u001b[38;5;28;01mif\u001b[39;00m status \u001b[38;5;241m!=\u001b[39m CONTINUE:\n\u001b[1;32m    320\u001b[0m         \u001b[38;5;28;01mbreak\u001b[39;00m\n",
      "File \u001b[0;32m~/anaconda3/lib/python3.10/http/client.py:279\u001b[0m, in \u001b[0;36mHTTPResponse._read_status\u001b[0;34m(self)\u001b[0m\n\u001b[1;32m    278\u001b[0m \u001b[38;5;28;01mdef\u001b[39;00m \u001b[38;5;21m_read_status\u001b[39m(\u001b[38;5;28mself\u001b[39m):\n\u001b[0;32m--> 279\u001b[0m     line \u001b[38;5;241m=\u001b[39m \u001b[38;5;28mstr\u001b[39m(\u001b[38;5;28;43mself\u001b[39;49m\u001b[38;5;241;43m.\u001b[39;49m\u001b[43mfp\u001b[49m\u001b[38;5;241;43m.\u001b[39;49m\u001b[43mreadline\u001b[49m\u001b[43m(\u001b[49m\u001b[43m_MAXLINE\u001b[49m\u001b[43m \u001b[49m\u001b[38;5;241;43m+\u001b[39;49m\u001b[43m \u001b[49m\u001b[38;5;241;43m1\u001b[39;49m\u001b[43m)\u001b[49m, \u001b[38;5;124m\"\u001b[39m\u001b[38;5;124miso-8859-1\u001b[39m\u001b[38;5;124m\"\u001b[39m)\n\u001b[1;32m    280\u001b[0m     \u001b[38;5;28;01mif\u001b[39;00m \u001b[38;5;28mlen\u001b[39m(line) \u001b[38;5;241m>\u001b[39m _MAXLINE:\n\u001b[1;32m    281\u001b[0m         \u001b[38;5;28;01mraise\u001b[39;00m LineTooLong(\u001b[38;5;124m\"\u001b[39m\u001b[38;5;124mstatus line\u001b[39m\u001b[38;5;124m\"\u001b[39m)\n",
      "File \u001b[0;32m~/anaconda3/lib/python3.10/socket.py:705\u001b[0m, in \u001b[0;36mSocketIO.readinto\u001b[0;34m(self, b)\u001b[0m\n\u001b[1;32m    703\u001b[0m \u001b[38;5;28;01mwhile\u001b[39;00m \u001b[38;5;28;01mTrue\u001b[39;00m:\n\u001b[1;32m    704\u001b[0m     \u001b[38;5;28;01mtry\u001b[39;00m:\n\u001b[0;32m--> 705\u001b[0m         \u001b[38;5;28;01mreturn\u001b[39;00m \u001b[38;5;28;43mself\u001b[39;49m\u001b[38;5;241;43m.\u001b[39;49m\u001b[43m_sock\u001b[49m\u001b[38;5;241;43m.\u001b[39;49m\u001b[43mrecv_into\u001b[49m\u001b[43m(\u001b[49m\u001b[43mb\u001b[49m\u001b[43m)\u001b[49m\n\u001b[1;32m    706\u001b[0m     \u001b[38;5;28;01mexcept\u001b[39;00m timeout:\n\u001b[1;32m    707\u001b[0m         \u001b[38;5;28mself\u001b[39m\u001b[38;5;241m.\u001b[39m_timeout_occurred \u001b[38;5;241m=\u001b[39m \u001b[38;5;28;01mTrue\u001b[39;00m\n",
      "File \u001b[0;32m~/anaconda3/lib/python3.10/ssl.py:1274\u001b[0m, in \u001b[0;36mSSLSocket.recv_into\u001b[0;34m(self, buffer, nbytes, flags)\u001b[0m\n\u001b[1;32m   1270\u001b[0m     \u001b[38;5;28;01mif\u001b[39;00m flags \u001b[38;5;241m!=\u001b[39m \u001b[38;5;241m0\u001b[39m:\n\u001b[1;32m   1271\u001b[0m         \u001b[38;5;28;01mraise\u001b[39;00m \u001b[38;5;167;01mValueError\u001b[39;00m(\n\u001b[1;32m   1272\u001b[0m           \u001b[38;5;124m\"\u001b[39m\u001b[38;5;124mnon-zero flags not allowed in calls to recv_into() on \u001b[39m\u001b[38;5;132;01m%s\u001b[39;00m\u001b[38;5;124m\"\u001b[39m \u001b[38;5;241m%\u001b[39m\n\u001b[1;32m   1273\u001b[0m           \u001b[38;5;28mself\u001b[39m\u001b[38;5;241m.\u001b[39m\u001b[38;5;18m__class__\u001b[39m)\n\u001b[0;32m-> 1274\u001b[0m     \u001b[38;5;28;01mreturn\u001b[39;00m \u001b[38;5;28;43mself\u001b[39;49m\u001b[38;5;241;43m.\u001b[39;49m\u001b[43mread\u001b[49m\u001b[43m(\u001b[49m\u001b[43mnbytes\u001b[49m\u001b[43m,\u001b[49m\u001b[43m \u001b[49m\u001b[43mbuffer\u001b[49m\u001b[43m)\u001b[49m\n\u001b[1;32m   1275\u001b[0m \u001b[38;5;28;01melse\u001b[39;00m:\n\u001b[1;32m   1276\u001b[0m     \u001b[38;5;28;01mreturn\u001b[39;00m \u001b[38;5;28msuper\u001b[39m()\u001b[38;5;241m.\u001b[39mrecv_into(buffer, nbytes, flags)\n",
      "File \u001b[0;32m~/anaconda3/lib/python3.10/ssl.py:1130\u001b[0m, in \u001b[0;36mSSLSocket.read\u001b[0;34m(self, len, buffer)\u001b[0m\n\u001b[1;32m   1128\u001b[0m \u001b[38;5;28;01mtry\u001b[39;00m:\n\u001b[1;32m   1129\u001b[0m     \u001b[38;5;28;01mif\u001b[39;00m buffer \u001b[38;5;129;01mis\u001b[39;00m \u001b[38;5;129;01mnot\u001b[39;00m \u001b[38;5;28;01mNone\u001b[39;00m:\n\u001b[0;32m-> 1130\u001b[0m         \u001b[38;5;28;01mreturn\u001b[39;00m \u001b[38;5;28;43mself\u001b[39;49m\u001b[38;5;241;43m.\u001b[39;49m\u001b[43m_sslobj\u001b[49m\u001b[38;5;241;43m.\u001b[39;49m\u001b[43mread\u001b[49m\u001b[43m(\u001b[49m\u001b[38;5;28;43mlen\u001b[39;49m\u001b[43m,\u001b[49m\u001b[43m \u001b[49m\u001b[43mbuffer\u001b[49m\u001b[43m)\u001b[49m\n\u001b[1;32m   1131\u001b[0m     \u001b[38;5;28;01melse\u001b[39;00m:\n\u001b[1;32m   1132\u001b[0m         \u001b[38;5;28;01mreturn\u001b[39;00m \u001b[38;5;28mself\u001b[39m\u001b[38;5;241m.\u001b[39m_sslobj\u001b[38;5;241m.\u001b[39mread(\u001b[38;5;28mlen\u001b[39m)\n",
      "\u001b[0;31mKeyboardInterrupt\u001b[0m: "
     ]
    }
   ],
   "source": [
    "# Update dataset with new cars\n",
    "def load_existing_links(filename):\n",
    "    df = pd.read_csv(filename)\n",
    "    return df['car_links'].values\n",
    "\n",
    "def get_all_links():\n",
    "    all_links = []\n",
    "    page_number = 1\n",
    "    while True:\n",
    "        links_on_page = get_links(page_number)\n",
    "        if not links_on_page:\n",
    "            break\n",
    "        page_number += 1\n",
    "        all_links.append(links_on_page)\n",
    "        \n",
    "    all_links =  pd.Series(np.concatenate(all_links))\n",
    "    all_links = all_links.str.replace('#sid.*', '')\n",
    "    return all_links\n",
    "\n",
    "\n",
    "def get_new_links(existing_links):\n",
    "    all_hrefs = get_all_links()\n",
    "\n",
    "    # Extract the hrefs from page results\n",
    "    new_links = all_hrefs[~all_hrefs.isin(existing_links)]\n",
    "    new_links = new_links.drop_duplicates()\n",
    "    \n",
    "    return new_links\n",
    "\n",
    "\n",
    "def update_links(filename):\n",
    "    existing_links = load_existing_links(filename)\n",
    "    new_links = get_new_links(existing_links)\n",
    "\n",
    "    # Add new links to existing ones and save to csv\n",
    "    all_links = list(existing_links) + list(new_links)\n",
    "    df_hrefs = pd.DataFrame({'car_links': all_links})\n",
    "    df_hrefs.drop_duplicates(inplace=True)\n",
    "    df_hrefs.reset_index(drop=True, inplace=True)\n",
    "    df_hrefs.to_csv(filename, index=False)\n",
    "\n",
    "    return new_links\n",
    "\n",
    "# Use the function like this:\n",
    "new_links = update_links('car_links.csv')\n"
   ]
  },
  {
   "cell_type": "code",
   "execution_count": 72,
   "id": "b4921cf9-6183-477a-a2e5-41cd4781bcc4",
   "metadata": {},
   "outputs": [],
   "source": [
    "new_links = new_links[~new_links.isin(all_links)]"
   ]
  },
  {
   "cell_type": "code",
   "execution_count": 82,
   "id": "f613412b-0c8e-4b22-8831-c03a2b84589a",
   "metadata": {
    "tags": []
   },
   "outputs": [
    {
     "name": "stdout",
     "output_type": "stream",
     "text": [
      "0\n",
      "100\n",
      "200\n",
      "300\n",
      "400\n",
      "500\n",
      "600\n",
      "700\n",
      "800\n",
      "900\n",
      "1000\n",
      "1100\n",
      "1200\n",
      "1300\n",
      "1400\n",
      "1500\n",
      "1600\n",
      "1700\n",
      "1800\n",
      "1900\n",
      "2000\n",
      "2100\n",
      "2200\n",
      "2300\n",
      "2400\n",
      "2500\n",
      "2600\n",
      "2700\n",
      "CPU times: user 4min 33s, sys: 42.4 s, total: 5min 15s\n",
      "Wall time: 21min 18s\n"
     ]
    }
   ],
   "source": [
    "%%time\n",
    "for i, link in enumerate(new_links):\n",
    "    advertisement_data, special_car_info = scrape_car_data(link)\n",
    "    res_list.append([advertisement_data, special_car_info, link])\n",
    "    \n",
    "    if (i % 100) == 0:\n",
    "        print(i)\n",
    "        with open('hasnaltauto_scraped.pickle', 'wb') as file:\n",
    "            pickle.dump(res_list, file)"
   ]
  },
  {
   "cell_type": "code",
   "execution_count": 66,
   "id": "09ba03ed-7598-49d6-9264-ab35dbbd4fcd",
   "metadata": {},
   "outputs": [
    {
     "data": {
      "text/plain": [
       "1439"
      ]
     },
     "execution_count": 66,
     "metadata": {},
     "output_type": "execute_result"
    }
   ],
   "source": [
    "i"
   ]
  },
  {
   "cell_type": "code",
   "execution_count": null,
   "id": "9846d4bc-c270-4045-9be4-1cd0d0bdb70f",
   "metadata": {},
   "outputs": [],
   "source": []
  },
  {
   "cell_type": "code",
   "execution_count": null,
   "id": "f77857b8-f333-412c-bfa8-5bbd3cca4f2b",
   "metadata": {},
   "outputs": [],
   "source": []
  }
 ],
 "metadata": {
  "kernelspec": {
   "display_name": "Python 3 (ipykernel)",
   "language": "python",
   "name": "python3"
  },
  "language_info": {
   "codemirror_mode": {
    "name": "ipython",
    "version": 3
   },
   "file_extension": ".py",
   "mimetype": "text/x-python",
   "name": "python",
   "nbconvert_exporter": "python",
   "pygments_lexer": "ipython3",
   "version": "3.10.11"
  }
 },
 "nbformat": 4,
 "nbformat_minor": 5
}
